{
 "metadata": {
  "language_info": {
   "codemirror_mode": {
    "name": "ipython",
    "version": 3
   },
   "file_extension": ".py",
   "mimetype": "text/x-python",
   "name": "python",
   "nbconvert_exporter": "python",
   "pygments_lexer": "ipython3",
   "version": "3.8.5-final"
  },
  "orig_nbformat": 2,
  "kernelspec": {
   "name": "python3",
   "display_name": "Python 3.8.5 64-bit (conda)",
   "metadata": {
    "interpreter": {
     "hash": "23cf5e3c52ba4582b557c38c6f7215ea95d270dcb8c0a4a03826a3be328d56af"
    }
   }
  }
 },
 "nbformat": 4,
 "nbformat_minor": 2,
 "cells": [
  {
   "cell_type": "code",
   "execution_count": 7,
   "metadata": {},
   "outputs": [
    {
     "output_type": "execute_result",
     "data": {
      "text/plain": [
       "          Comunidad Provincia  Municipio  \\\n",
       "ANDALUCÍA       NaN       NaN          1   \n",
       "ANDALUCÍA       NaN       NaN          2   \n",
       "ANDALUCÍA       NaN       NaN          3   \n",
       "ANDALUCÍA       NaN       NaN          4   \n",
       "ANDALUCÍA       NaN       NaN          5   \n",
       "\n",
       "                                                      code  Enero-marzo 2015  \\\n",
       "ANDALUCÍA                            DELITOS Y FALTAS (EU)           85396.0   \n",
       "ANDALUCÍA  HOMICIDIOS DOLOSOS Y ASESINATOS CONSUMADOS (EU)              14.0   \n",
       "ANDALUCÍA           ROBO CON VIOLENCIA E INTIMIDACIÓN (EU)            1799.0   \n",
       "ANDALUCÍA              ROBOS CON FUERZA EN DOMICILIOS (EU)            4890.0   \n",
       "ANDALUCÍA               SUSTRACCIÓN VEHÍCULOS A MOTOR (EU)            2181.0   \n",
       "\n",
       "           Enero-marzo 2016  Variación % 2016/2015  Delito  \n",
       "ANDALUCÍA           80611.0                   -5.6     NaN  \n",
       "ANDALUCÍA              16.0                   14.3     NaN  \n",
       "ANDALUCÍA            1838.0                    2.2     NaN  \n",
       "ANDALUCÍA            4833.0                   -1.2     NaN  \n",
       "ANDALUCÍA            2091.0                   -4.1     NaN  "
      ],
      "text/html": "<div>\n<style scoped>\n    .dataframe tbody tr th:only-of-type {\n        vertical-align: middle;\n    }\n\n    .dataframe tbody tr th {\n        vertical-align: top;\n    }\n\n    .dataframe thead th {\n        text-align: right;\n    }\n</style>\n<table border=\"1\" class=\"dataframe\">\n  <thead>\n    <tr style=\"text-align: right;\">\n      <th></th>\n      <th>Comunidad</th>\n      <th>Provincia</th>\n      <th>Municipio</th>\n      <th>code</th>\n      <th>Enero-marzo 2015</th>\n      <th>Enero-marzo 2016</th>\n      <th>Variación % 2016/2015</th>\n      <th>Delito</th>\n    </tr>\n  </thead>\n  <tbody>\n    <tr>\n      <th>ANDALUCÍA</th>\n      <td>NaN</td>\n      <td>NaN</td>\n      <td>1</td>\n      <td>DELITOS Y FALTAS (EU)</td>\n      <td>85396.0</td>\n      <td>80611.0</td>\n      <td>-5.6</td>\n      <td>NaN</td>\n    </tr>\n    <tr>\n      <th>ANDALUCÍA</th>\n      <td>NaN</td>\n      <td>NaN</td>\n      <td>2</td>\n      <td>HOMICIDIOS DOLOSOS Y ASESINATOS CONSUMADOS (EU)</td>\n      <td>14.0</td>\n      <td>16.0</td>\n      <td>14.3</td>\n      <td>NaN</td>\n    </tr>\n    <tr>\n      <th>ANDALUCÍA</th>\n      <td>NaN</td>\n      <td>NaN</td>\n      <td>3</td>\n      <td>ROBO CON VIOLENCIA E INTIMIDACIÓN (EU)</td>\n      <td>1799.0</td>\n      <td>1838.0</td>\n      <td>2.2</td>\n      <td>NaN</td>\n    </tr>\n    <tr>\n      <th>ANDALUCÍA</th>\n      <td>NaN</td>\n      <td>NaN</td>\n      <td>4</td>\n      <td>ROBOS CON FUERZA EN DOMICILIOS (EU)</td>\n      <td>4890.0</td>\n      <td>4833.0</td>\n      <td>-1.2</td>\n      <td>NaN</td>\n    </tr>\n    <tr>\n      <th>ANDALUCÍA</th>\n      <td>NaN</td>\n      <td>NaN</td>\n      <td>5</td>\n      <td>SUSTRACCIÓN VEHÍCULOS A MOTOR (EU)</td>\n      <td>2181.0</td>\n      <td>2091.0</td>\n      <td>-4.1</td>\n      <td>NaN</td>\n    </tr>\n  </tbody>\n</table>\n</div>"
     },
     "metadata": {},
     "execution_count": 7
    }
   ],
   "source": [
    "import pandas as pd\n",
    "\n",
    "df = pd.read_csv('../data/2016_1scclean.csv', sep=\";\")\n",
    "df.head()"
   ]
  },
  {
   "cell_type": "code",
   "execution_count": null,
   "metadata": {},
   "outputs": [],
   "source": [
    "df.head"
   ]
  }
 ]
}