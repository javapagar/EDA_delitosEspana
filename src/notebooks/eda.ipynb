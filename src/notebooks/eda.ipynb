{
 "metadata": {
  "language_info": {
   "codemirror_mode": {
    "name": "ipython",
    "version": 3
   },
   "file_extension": ".py",
   "mimetype": "text/x-python",
   "name": "python",
   "nbconvert_exporter": "python",
   "pygments_lexer": "ipython3",
   "version": "3.8.5-final"
  },
  "orig_nbformat": 2,
  "kernelspec": {
   "name": "python3",
   "display_name": "Python 3",
   "language": "python"
  }
 },
 "nbformat": 4,
 "nbformat_minor": 2,
 "cells": [
  {
   "source": [
    "# Criminalidad en España 2015-2020\n",
    "\n",
    "## Importación de librerias\n",
    "\n",
    "A continuación se importan las librerias que se van a utilizar:"
   ],
   "cell_type": "markdown",
   "metadata": {}
  },
  {
   "cell_type": "code",
   "execution_count": null,
   "metadata": {},
   "outputs": [],
   "source": [
    "import pandas as pd"
   ]
  },
  {
   "source": [
    "## Carga de los datos\n",
    "\n",
    "### Fuente\n",
    "\n",
    "Los datos se han obtenido de:\n",
    "* [Portal Estadístico de Criminalidad (Ministerio del Interior)](https://estadisticasdecriminalidad.ses.mir.es/publico/portalestadistico/portal/balances.html)\n",
    "\n",
    "### Pre-tratamiento de los datos\n",
    "\n",
    "Los datos sobre criminalidad descargados no tienen un formato que se pueda tratar directamente, como puede verse en este [ejemplo](../data/2016_1sc.csv), hay información que hay que desechar y la disposición en tablas no es la adecuada para su lectura. Para ello, se hace un formateo del fichero a través de este [script](../scripts/treatCSV.py), que modifica su estructura haciendola más manejable, como se puede ver [aquí](../data/2016_1scclean.csv).\n"
   ],
   "cell_type": "markdown",
   "metadata": {}
  },
  {
   "cell_type": "code",
   "execution_count": null,
   "metadata": {},
   "outputs": [],
   "source": [
    "\n",
    "\n",
    "df_2016_1 = pd.read_csv('../data/2016_1scclean.csv', sep=\";\")\n",
    "df_2016_2 = pd.read_csv('../data/2016_2scclean.csv', sep=\";\")\n",
    "df_2016_3 = pd.read_csv('../data/2016_3scclean.csv', sep=\";\")\n",
    "df_2016_4 = pd.read_csv('../data/2016_4scclean.csv', sep=\";\")\n",
    "\n",
    "df_2017_1 = pd.read_csv('../data/2017_1scclean.csv', sep=\";\")\n",
    "df_2017_2 = pd.read_csv('../data/2017_2scclean.csv', sep=\";\")\n",
    "df_2017_3 = pd.read_csv('../data/2017_3scclean.csv', sep=\";\")\n",
    "df_2017_4 = pd.read_csv('../data/2017_4scclean.csv', sep=\";\")\n",
    "\n",
    "df_2018_1 = pd.read_csv('../data/2018_1scclean.csv', sep=\";\")\n",
    "df_2018_2 = pd.read_csv('../data/2018_2scclean.csv', sep=\";\")\n",
    "df_2018_3 = pd.read_csv('../data/2018_3scclean.csv', sep=\";\")\n",
    "df_2018_4 = pd.read_csv('../data/2018_4scclean.csv', sep=\";\")\n",
    "\n",
    "df_2019_1 = pd.read_csv('../data/2019_1scclean.csv', sep=\";\")\n",
    "df_2019_2 = pd.read_csv('../data/2019_2scclean.csv', sep=\";\")\n",
    "df_2019_3 = pd.read_csv('../data/2019_3scclean.csv', sep=\";\")\n",
    "df_2019_4 = pd.read_csv('../data/2019_4scclean.csv', sep=\";\")\n",
    "\n",
    "df_2020_1 = pd.read_csv('../data/2020_1scclean.csv', sep=\";\")\n",
    "df_2020_2 = pd.read_csv('../data/2020_2scclean.csv', sep=\";\")\n",
    "df_2020_3 = pd.read_csv('../data/2020_3scclean.csv', sep=\";\")\n",
    "df_2020_4 = pd.read_csv('../data/2020_4scclean.csv', sep=\";\")"
   ]
  },
  {
   "cell_type": "code",
   "execution_count": 2,
   "metadata": {},
   "outputs": [
    {
     "output_type": "stream",
     "name": "stdout",
     "text": [
      "<class 'pandas.core.frame.DataFrame'>\nRangeIndex: 1768 entries, 0 to 1767\nData columns (total 9 columns):\n #   Column                 Non-Null Count  Dtype  \n---  ------                 --------------  -----  \n 0   Comunidad              1768 non-null   object \n 1   Provincia              1288 non-null   object \n 2   Municipio              1520 non-null   object \n 3   code                   1768 non-null   int64  \n 4   Delito                 1768 non-null   object \n 5   Enero-marzo 2015       1768 non-null   float64\n 6   Enero-marzo 2016       1768 non-null   float64\n 7   Variación % 2016/2015  1768 non-null   float64\n 8   Unnamed: 8             0 non-null      float64\ndtypes: float64(4), int64(1), object(4)\nmemory usage: 124.4+ KB\n"
     ]
    }
   ],
   "source": [
    "df.info()"
   ]
  }
 ]
}