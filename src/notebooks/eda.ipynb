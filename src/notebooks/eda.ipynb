{
 "metadata": {
  "language_info": {
   "codemirror_mode": {
    "name": "ipython",
    "version": 3
   },
   "file_extension": ".py",
   "mimetype": "text/x-python",
   "name": "python",
   "nbconvert_exporter": "python",
   "pygments_lexer": "ipython3",
   "version": "3.8.5-final"
  },
  "orig_nbformat": 2,
  "kernelspec": {
   "name": "python3",
   "display_name": "Python 3",
   "language": "python"
  }
 },
 "nbformat": 4,
 "nbformat_minor": 2,
 "cells": [
  {
   "source": [
    "# Criminalidad en España 2015-2020\n",
    "\n",
    "## Importación de librerias\n",
    "\n",
    "A continuación se importan las librerias que se van a utilizar:"
   ],
   "cell_type": "markdown",
   "metadata": {}
  },
  {
   "cell_type": "code",
   "execution_count": 1,
   "metadata": {},
   "outputs": [],
   "source": [
    "import pandas as pd\n",
    "import plotly.express as px"
   ]
  },
  {
   "source": [
    "## Carga de los datos\n",
    "\n",
    "### Fuente\n",
    "\n",
    "Los datos se han obtenido de:\n",
    "* [Portal Estadístico de Criminalidad (Ministerio del Interior)](https://estadisticasdecriminalidad.ses.mir.es/publico/portalestadistico/portal/balances.html)\n",
    "\n",
    "### Pre-tratamiento de los datos\n",
    "\n",
    "Los datos sobre criminalidad descargados no tienen un formato que se pueda tratar directamente, como puede verse en el documento descargado (../data/2016_1sc.csv), hay información que hay que desechar y la disposición en tablas no es la adecuada para su lectura. Para ello, se hace un formateo del fichero a través de el script treatCSV (../scripts/treatCSV.py), que modifica su estructura creando un nuevo archivo csv, haciendola más manejable, como se puede ver en ../data/2016_1scclean.csv.\n",
    "\n",
    "### Carga de los datos\n",
    "\n",
    "Una vez se han tratado los datos descargados, ya los podemos caragar en DataFrames de pandas"
   ],
   "cell_type": "markdown",
   "metadata": {}
  },
  {
   "cell_type": "code",
   "execution_count": 3,
   "metadata": {},
   "outputs": [],
   "source": [
    "\n",
    "\n",
    "df_2016_1 = pd.read_csv('../data/2016_1scclean.csv', sep=\";\")\n",
    "df_2016_2 = pd.read_csv('../data/2016_2scclean.csv', sep=\";\")\n",
    "df_2016_3 = pd.read_csv('../data/2016_3scclean.csv', sep=\";\")\n",
    "df_2016_4 = pd.read_csv('../data/2016_4scclean.csv', sep=\";\")\n",
    "\n",
    "df_2017_1 = pd.read_csv('../data/2017_1scclean.csv', sep=\";\")\n",
    "df_2017_2 = pd.read_csv('../data/2017_2scclean.csv', sep=\";\")\n",
    "df_2017_3 = pd.read_csv('../data/2017_3scclean.csv', sep=\";\")\n",
    "df_2017_4 = pd.read_csv('../data/2017_4scclean.csv', sep=\";\")\n",
    "\n",
    "df_2018_1 = pd.read_csv('../data/2018_1scclean.csv', sep=\";\")\n",
    "df_2018_2 = pd.read_csv('../data/2018_2scclean.csv', sep=\";\")\n",
    "df_2018_3 = pd.read_csv('../data/2018_3scclean.csv', sep=\";\")\n",
    "df_2018_4 = pd.read_csv('../data/2018_4scclean.csv', sep=\";\")\n",
    "\n",
    "df_2019_1 = pd.read_csv('../data/2019_1scclean.csv', sep=\";\")\n",
    "df_2019_2 = pd.read_csv('../data/2019_2scclean.csv', sep=\";\")\n",
    "df_2019_3 = pd.read_csv('../data/2019_3scclean.csv', sep=\";\")\n",
    "df_2019_4 = pd.read_csv('../data/2019_4scclean.csv', sep=\";\")\n",
    "\n",
    "df_2020_1 = pd.read_csv('../data/2020_1scclean.csv', sep=\";\")\n",
    "df_2020_2 = pd.read_csv('../data/2020_2scclean.csv', sep=\";\")\n",
    "df_2020_3 = pd.read_csv('../data/2020_3scclean.csv', sep=\";\")\n",
    "df_2020_4 = pd.read_csv('../data/2020_4scclean.csv', sep=\";\")\n",
    "\n",
    "df_lista =[df_2016_1, df_2016_2, df_2016_3, df_2016_4,\n",
    "            df_2017_1, df_2017_2, df_2017_3, df_2017_4,\n",
    "            df_2018_1, df_2018_2, df_2018_3, df_2018_4,\n",
    "            df_2019_1, df_2019_2, df_2019_3, df_2019_4,\n",
    "            df_2020_1, df_2020_2, df_2020_3, df_2020_4]"
   ]
  },
  {
   "source": [
    "Compruebo que los campos están limpios y que más o menos siguen un patrón en su estructura."
   ],
   "cell_type": "markdown",
   "metadata": {}
  },
  {
   "cell_type": "code",
   "execution_count": 4,
   "metadata": {},
   "outputs": [
    {
     "output_type": "stream",
     "name": "stdout",
     "text": [
      "<class 'pandas.core.frame.DataFrame'>\n",
      "RangeIndex: 1768 entries, 0 to 1767\n",
      "Data columns (total 9 columns):\n",
      " #   Column                 Non-Null Count  Dtype  \n",
      "---  ------                 --------------  -----  \n",
      " 0   Comunidad              1768 non-null   object \n",
      " 1   Provincia              1288 non-null   object \n",
      " 2   Municipio              1520 non-null   object \n",
      " 3   code                   1768 non-null   int64  \n",
      " 4   Delito                 1768 non-null   object \n",
      " 5   Enero-marzo 2015       1768 non-null   float64\n",
      " 6   Enero-marzo 2016       1768 non-null   float64\n",
      " 7   Variación % 2016/2015  1768 non-null   float64\n",
      " 8   Nivel                  1768 non-null   object \n",
      "dtypes: float64(3), int64(1), object(5)\n",
      "memory usage: 124.4+ KB\n",
      "<class 'pandas.core.frame.DataFrame'>\n",
      "RangeIndex: 1768 entries, 0 to 1767\n",
      "Data columns (total 9 columns):\n",
      " #   Column                 Non-Null Count  Dtype  \n",
      "---  ------                 --------------  -----  \n",
      " 0   Comunidad              1768 non-null   object \n",
      " 1   Provincia              1288 non-null   object \n",
      " 2   Municipio              1520 non-null   object \n",
      " 3   code                   1768 non-null   int64  \n",
      " 4   Delito                 1768 non-null   object \n",
      " 5   Enero-junio 2015       1768 non-null   float64\n",
      " 6   Enero-junio 2016       1768 non-null   float64\n",
      " 7   Variación % 2016/2015  1768 non-null   float64\n",
      " 8   Nivel                  1768 non-null   object \n",
      "dtypes: float64(3), int64(1), object(5)\n",
      "memory usage: 124.4+ KB\n",
      "<class 'pandas.core.frame.DataFrame'>\n",
      "RangeIndex: 1768 entries, 0 to 1767\n",
      "Data columns (total 9 columns):\n",
      " #   Column                 Non-Null Count  Dtype  \n",
      "---  ------                 --------------  -----  \n",
      " 0   Comunidad              1768 non-null   object \n",
      " 1   Provincia              1288 non-null   object \n",
      " 2   Municipio              1520 non-null   object \n",
      " 3   code                   1768 non-null   int64  \n",
      " 4   Delito                 1768 non-null   object \n",
      " 5   Enero-Septiembre 2015  1768 non-null   float64\n",
      " 6   Enero-Septiembre 2016  1768 non-null   float64\n",
      " 7   Variación % 2016/2015  1768 non-null   float64\n",
      " 8   Nivel                  1768 non-null   object \n",
      "dtypes: float64(3), int64(1), object(5)\n",
      "memory usage: 124.4+ KB\n",
      "<class 'pandas.core.frame.DataFrame'>\n",
      "RangeIndex: 1768 entries, 0 to 1767\n",
      "Data columns (total 9 columns):\n",
      " #   Column                 Non-Null Count  Dtype  \n",
      "---  ------                 --------------  -----  \n",
      " 0   Comunidad              1768 non-null   object \n",
      " 1   Provincia              1288 non-null   object \n",
      " 2   Municipio              1520 non-null   object \n",
      " 3   code                   1768 non-null   int64  \n",
      " 4   Delito                 1768 non-null   object \n",
      " 5   Enero-Diciembre 2015   1768 non-null   float64\n",
      " 6   Enero-Diciembre 2016   1768 non-null   float64\n",
      " 7   Variación % 2016/2015  1768 non-null   float64\n",
      " 8   Nivel                  1768 non-null   object \n",
      "dtypes: float64(3), int64(1), object(5)\n",
      "memory usage: 124.4+ KB\n",
      "<class 'pandas.core.frame.DataFrame'>\n",
      "RangeIndex: 4494 entries, 0 to 4493\n",
      "Data columns (total 9 columns):\n",
      " #   Column                 Non-Null Count  Dtype  \n",
      "---  ------                 --------------  -----  \n",
      " 0   Comunidad              4494 non-null   object \n",
      " 1   Provincia              3318 non-null   object \n",
      " 2   Municipio              4060 non-null   object \n",
      " 3   code                   4494 non-null   object \n",
      " 4   Delito                 4494 non-null   object \n",
      " 5   Enero-marzo 2016       4494 non-null   float64\n",
      " 6   Enero-marzo 2017       4494 non-null   float64\n",
      " 7   Variación % 2017/2016  4494 non-null   float64\n",
      " 8   Nivel                  4494 non-null   object \n",
      "dtypes: float64(3), object(6)\n",
      "memory usage: 316.1+ KB\n",
      "<class 'pandas.core.frame.DataFrame'>\n",
      "RangeIndex: 4494 entries, 0 to 4493\n",
      "Data columns (total 9 columns):\n",
      " #   Column                 Non-Null Count  Dtype  \n",
      "---  ------                 --------------  -----  \n",
      " 0   Comunidad              4494 non-null   object \n",
      " 1   Provincia              3318 non-null   object \n",
      " 2   Municipio              4060 non-null   object \n",
      " 3   code                   4494 non-null   object \n",
      " 4   Delito                 4494 non-null   object \n",
      " 5   Enero-junio 2016       4494 non-null   float64\n",
      " 6   Enero-junio 2017       4494 non-null   float64\n",
      " 7   Variación % 2017/2016  4494 non-null   float64\n",
      " 8   Nivel                  4494 non-null   object \n",
      "dtypes: float64(3), object(6)\n",
      "memory usage: 316.1+ KB\n",
      "<class 'pandas.core.frame.DataFrame'>\n",
      "RangeIndex: 4494 entries, 0 to 4493\n",
      "Data columns (total 9 columns):\n",
      " #   Column                 Non-Null Count  Dtype  \n",
      "---  ------                 --------------  -----  \n",
      " 0   Comunidad              4494 non-null   object \n",
      " 1   Provincia              3318 non-null   object \n",
      " 2   Municipio              4060 non-null   object \n",
      " 3   code                   4494 non-null   object \n",
      " 4   Delito                 4494 non-null   object \n",
      " 5   Enero-septiembre 2016  4494 non-null   float64\n",
      " 6   Enero-septiembre 2017  4494 non-null   float64\n",
      " 7   Variación % 2017/2016  4494 non-null   float64\n",
      " 8   Nivel                  4494 non-null   object \n",
      "dtypes: float64(3), object(6)\n",
      "memory usage: 316.1+ KB\n",
      "<class 'pandas.core.frame.DataFrame'>\n",
      "RangeIndex: 4522 entries, 0 to 4521\n",
      "Data columns (total 9 columns):\n",
      " #   Column                 Non-Null Count  Dtype  \n",
      "---  ------                 --------------  -----  \n",
      " 0   Comunidad              4522 non-null   object \n",
      " 1   Provincia              3346 non-null   object \n",
      " 2   Municipio              4088 non-null   object \n",
      " 3   code                   4522 non-null   object \n",
      " 4   Delito                 4522 non-null   object \n",
      " 5   Enero-diciembre 2016   4522 non-null   float64\n",
      " 6   Enero-diciembre 2017   4522 non-null   float64\n",
      " 7   Variación % 2017/2016  4522 non-null   float64\n",
      " 8   Nivel                  4522 non-null   object \n",
      "dtypes: float64(3), object(6)\n",
      "memory usage: 318.1+ KB\n",
      "<class 'pandas.core.frame.DataFrame'>\n",
      "RangeIndex: 4522 entries, 0 to 4521\n",
      "Data columns (total 9 columns):\n",
      " #   Column                 Non-Null Count  Dtype  \n",
      "---  ------                 --------------  -----  \n",
      " 0   Comunidad              4522 non-null   object \n",
      " 1   Provincia              3346 non-null   object \n",
      " 2   Municipio              4088 non-null   object \n",
      " 3   code                   4522 non-null   object \n",
      " 4   Delito                 4522 non-null   object \n",
      " 5   Enero-marzo 2017       4522 non-null   float64\n",
      " 6   Enero-marzo 2018       4522 non-null   float64\n",
      " 7   Variación % 2018/2017  4522 non-null   float64\n",
      " 8   Nivel                  4522 non-null   object \n",
      "dtypes: float64(3), object(6)\n",
      "memory usage: 318.1+ KB\n",
      "<class 'pandas.core.frame.DataFrame'>\n",
      "RangeIndex: 4522 entries, 0 to 4521\n",
      "Data columns (total 9 columns):\n",
      " #   Column                 Non-Null Count  Dtype  \n",
      "---  ------                 --------------  -----  \n",
      " 0   Comunidad              4522 non-null   object \n",
      " 1   Provincia              3346 non-null   object \n",
      " 2   Municipio              4088 non-null   object \n",
      " 3   code                   4522 non-null   object \n",
      " 4   Delito                 4522 non-null   object \n",
      " 5   Enero-junio 2017       4522 non-null   float64\n",
      " 6   Enero-junio 2018       4522 non-null   float64\n",
      " 7   Variación % 2018/2017  4522 non-null   float64\n",
      " 8   Nivel                  4522 non-null   object \n",
      "dtypes: float64(3), object(6)\n",
      "memory usage: 318.1+ KB\n",
      "<class 'pandas.core.frame.DataFrame'>\n",
      "RangeIndex: 4522 entries, 0 to 4521\n",
      "Data columns (total 9 columns):\n",
      " #   Column                 Non-Null Count  Dtype  \n",
      "---  ------                 --------------  -----  \n",
      " 0   Comunidad              4522 non-null   object \n",
      " 1   Provincia              3346 non-null   object \n",
      " 2   Municipio              4088 non-null   object \n",
      " 3   code                   4522 non-null   object \n",
      " 4   Delito                 4522 non-null   object \n",
      " 5   Enero-septiembre 2017  4522 non-null   float64\n",
      " 6   Enero-septiembre 2018  4522 non-null   float64\n",
      " 7   Variación % 2018/2017  4522 non-null   float64\n",
      " 8   Nivel                  4522 non-null   object \n",
      "dtypes: float64(3), object(6)\n",
      "memory usage: 318.1+ KB\n",
      "<class 'pandas.core.frame.DataFrame'>\n",
      "RangeIndex: 4845 entries, 0 to 4844\n",
      "Data columns (total 9 columns):\n",
      " #   Column                 Non-Null Count  Dtype  \n",
      "---  ------                 --------------  -----  \n",
      " 0   Comunidad              4845 non-null   object \n",
      " 1   Provincia              3585 non-null   object \n",
      " 2   Municipio              4380 non-null   object \n",
      " 3   code                   4845 non-null   object \n",
      " 4   Delito                 4845 non-null   object \n",
      " 5   Enero-diciembre 2017   4845 non-null   float64\n",
      " 6   Enero-diciembre 2018   4845 non-null   float64\n",
      " 7   Variación % 2018/2017  4845 non-null   float64\n",
      " 8   Nivel                  4845 non-null   object \n",
      "dtypes: float64(3), object(6)\n",
      "memory usage: 340.8+ KB\n",
      "<class 'pandas.core.frame.DataFrame'>\n",
      "RangeIndex: 4920 entries, 0 to 4919\n",
      "Data columns (total 9 columns):\n",
      " #   Column                 Non-Null Count  Dtype  \n",
      "---  ------                 --------------  -----  \n",
      " 0   Comunidad              4920 non-null   object \n",
      " 1   Provincia              3645 non-null   object \n",
      " 2   Municipio              4455 non-null   object \n",
      " 3   code                   4920 non-null   object \n",
      " 4   Delito                 4920 non-null   object \n",
      " 5   Enero-marzo 2018       4920 non-null   float64\n",
      " 6   Enero-marzo 2019       4920 non-null   float64\n",
      " 7   Variación % 2019/2018  4920 non-null   float64\n",
      " 8   Nivel                  4920 non-null   object \n",
      "dtypes: float64(3), object(6)\n",
      "memory usage: 346.1+ KB\n",
      "<class 'pandas.core.frame.DataFrame'>\n",
      "RangeIndex: 4920 entries, 0 to 4919\n",
      "Data columns (total 9 columns):\n",
      " #   Column                 Non-Null Count  Dtype  \n",
      "---  ------                 --------------  -----  \n",
      " 0   Comunidad              4920 non-null   object \n",
      " 1   Provincia              3645 non-null   object \n",
      " 2   Municipio              4455 non-null   object \n",
      " 3   code                   4920 non-null   object \n",
      " 4   Delito                 4920 non-null   object \n",
      " 5   Enero-junio 2018       4920 non-null   float64\n",
      " 6   Enero-junio 2019       4920 non-null   float64\n",
      " 7   Variación % 2019/2018  4920 non-null   float64\n",
      " 8   Nivel                  4920 non-null   object \n",
      "dtypes: float64(3), object(6)\n",
      "memory usage: 346.1+ KB\n",
      "<class 'pandas.core.frame.DataFrame'>\n",
      "RangeIndex: 4920 entries, 0 to 4919\n",
      "Data columns (total 9 columns):\n",
      " #   Column                 Non-Null Count  Dtype  \n",
      "---  ------                 --------------  -----  \n",
      " 0   Comunidad              4920 non-null   object \n",
      " 1   Provincia              3645 non-null   object \n",
      " 2   Municipio              4455 non-null   object \n",
      " 3   code                   4920 non-null   object \n",
      " 4   Delito                 4920 non-null   object \n",
      " 5   Enero-septiembre 2018  4920 non-null   float64\n",
      " 6   Enero-septiembre 2019  4920 non-null   float64\n",
      " 7   Variación % 2019/2018  4920 non-null   float64\n",
      " 8   Nivel                  4920 non-null   object \n",
      "dtypes: float64(3), object(6)\n",
      "memory usage: 346.1+ KB\n",
      "<class 'pandas.core.frame.DataFrame'>\n",
      "RangeIndex: 4920 entries, 0 to 4919\n",
      "Data columns (total 9 columns):\n",
      " #   Column                 Non-Null Count  Dtype  \n",
      "---  ------                 --------------  -----  \n",
      " 0   Comunidad              4920 non-null   object \n",
      " 1   Provincia              3645 non-null   object \n",
      " 2   Municipio              4455 non-null   object \n",
      " 3   code                   4920 non-null   object \n",
      " 4   Delito                 4920 non-null   object \n",
      " 5   Enero-diciembre 2018   4920 non-null   float64\n",
      " 6   Enero-diciembre 2019   4920 non-null   float64\n",
      " 7   Variación % 2019/2018  4920 non-null   float64\n",
      " 8   Nivel                  4920 non-null   object \n",
      "dtypes: float64(3), object(6)\n",
      "memory usage: 346.1+ KB\n",
      "<class 'pandas.core.frame.DataFrame'>\n",
      "RangeIndex: 4920 entries, 0 to 4919\n",
      "Data columns (total 9 columns):\n",
      " #   Column                 Non-Null Count  Dtype  \n",
      "---  ------                 --------------  -----  \n",
      " 0   Comunidad              4920 non-null   object \n",
      " 1   Provincia              3645 non-null   object \n",
      " 2   Municipio              4455 non-null   object \n",
      " 3   code                   4920 non-null   object \n",
      " 4   Delito                 4920 non-null   object \n",
      " 5   Enero-marzo 2019       4920 non-null   float64\n",
      " 6   Enero-marzo 2020       4920 non-null   float64\n",
      " 7   Variación % 2020/2019  4920 non-null   float64\n",
      " 8   Nivel                  4920 non-null   object \n",
      "dtypes: float64(3), object(6)\n",
      "memory usage: 346.1+ KB\n",
      "<class 'pandas.core.frame.DataFrame'>\n",
      "RangeIndex: 4920 entries, 0 to 4919\n",
      "Data columns (total 9 columns):\n",
      " #   Column                 Non-Null Count  Dtype  \n",
      "---  ------                 --------------  -----  \n",
      " 0   Comunidad              4920 non-null   object \n",
      " 1   Provincia              3645 non-null   object \n",
      " 2   Municipio              4455 non-null   object \n",
      " 3   code                   4920 non-null   object \n",
      " 4   Delito                 4920 non-null   object \n",
      " 5   Enero-junio 2019       4920 non-null   float64\n",
      " 6   Enero-junio 2020       4920 non-null   float64\n",
      " 7   Variación % 2020/2019  4920 non-null   float64\n",
      " 8   Nivel                  4920 non-null   object \n",
      "dtypes: float64(3), object(6)\n",
      "memory usage: 346.1+ KB\n",
      "<class 'pandas.core.frame.DataFrame'>\n",
      "RangeIndex: 4920 entries, 0 to 4919\n",
      "Data columns (total 9 columns):\n",
      " #   Column                 Non-Null Count  Dtype  \n",
      "---  ------                 --------------  -----  \n",
      " 0   Comunidad              4920 non-null   object \n",
      " 1   Provincia              3645 non-null   object \n",
      " 2   Municipio              4455 non-null   object \n",
      " 3   code                   4920 non-null   object \n",
      " 4   Delito                 4920 non-null   object \n",
      " 5   Enero-septiembre 2019  4920 non-null   float64\n",
      " 6   Enero-septiembre 2020  4920 non-null   float64\n",
      " 7   Variación % 2020/2019  4920 non-null   float64\n",
      " 8   Nivel                  4920 non-null   object \n",
      "dtypes: float64(3), object(6)\n",
      "memory usage: 346.1+ KB\n",
      "<class 'pandas.core.frame.DataFrame'>\n",
      "RangeIndex: 4920 entries, 0 to 4919\n",
      "Data columns (total 9 columns):\n",
      " #   Column                 Non-Null Count  Dtype  \n",
      "---  ------                 --------------  -----  \n",
      " 0   Comunidad              4920 non-null   object \n",
      " 1   Provincia              3645 non-null   object \n",
      " 2   Municipio              4455 non-null   object \n",
      " 3   code                   4920 non-null   object \n",
      " 4   Delito                 4920 non-null   object \n",
      " 5   Enero-diciembre 2019   4920 non-null   float64\n",
      " 6   Enero-diciembre 2020   4920 non-null   float64\n",
      " 7   Variación % 2020/2019  4920 non-null   float64\n",
      " 8   Nivel                  4920 non-null   object \n",
      "dtypes: float64(3), object(6)\n",
      "memory usage: 346.1+ KB\n"
     ]
    }
   ],
   "source": [
    "for df in df_lista:\n",
    "    df.info()"
   ]
  },
  {
   "source": [
    "El número de registros va creciendo cuando cambiamos de año, compruebo las comunidades de cada archivo"
   ],
   "cell_type": "markdown",
   "metadata": {}
  },
  {
   "cell_type": "code",
   "execution_count": 5,
   "metadata": {},
   "outputs": [
    {
     "output_type": "stream",
     "name": "stdout",
     "text": [
      "21\n21\n21\n21\n21\n21\n21\n21\n21\n21\n21\n21\n21\n21\n21\n21\n21\n21\n21\n21\n"
     ]
    }
   ],
   "source": [
    "for df in df_lista:\n",
    "    print(len(df.groupby('Comunidad').Comunidad))"
   ]
  },
  {
   "source": [
    "Compruebo el número de provincias"
   ],
   "cell_type": "markdown",
   "metadata": {}
  },
  {
   "cell_type": "code",
   "execution_count": 6,
   "metadata": {},
   "outputs": [
    {
     "output_type": "stream",
     "name": "stdout",
     "text": [
      "43\n43\n43\n43\n43\n43\n43\n43\n43\n43\n43\n43\n43\n43\n43\n43\n43\n43\n43\n43\n"
     ]
    }
   ],
   "source": [
    "for df in df_lista:\n",
    "    print(len(df.groupby('Provincia').Provincia))"
   ]
  },
  {
   "source": [
    "Compruebo el número de municipios"
   ],
   "cell_type": "markdown",
   "metadata": {}
  },
  {
   "cell_type": "code",
   "execution_count": 7,
   "metadata": {},
   "outputs": [
    {
     "output_type": "stream",
     "name": "stdout",
     "text": [
      "157\n157\n157\n157\n257\n257\n257\n259\n259\n259\n259\n259\n264\n264\n264\n264\n264\n264\n264\n264\n"
     ]
    }
   ],
   "source": [
    "for df in df_lista:\n",
    "    print(len(df.groupby('Municipio').Municipio))"
   ]
  },
  {
   "cell_type": "code",
   "execution_count": 8,
   "metadata": {},
   "outputs": [
    {
     "output_type": "stream",
     "name": "stdout",
     "text": [
      "8\n8\n8\n8\n14\n14\n14\n14\n14\n14\n14\n14\n14\n14\n14\n14\n14\n14\n14\n14\n"
     ]
    }
   ],
   "source": [
    "for df in df_lista:\n",
    "    print(len(df.groupby('code').code))"
   ]
  },
  {
   "source": [
    "Los datos de 2016 difieren bastante de los años posteriores. Parece que del primer año al segundo hay un aumento de más de 100 municipios, el número de códigos utilizado para definir los delitos son diferentes. Definitivamente el dato 2015/2016 no lo voy a usar."
   ],
   "cell_type": "markdown",
   "metadata": {}
  },
  {
   "cell_type": "code",
   "execution_count": 5,
   "metadata": {},
   "outputs": [
    {
     "output_type": "execute_result",
     "data": {
      "text/plain": [
       "Index(['Comunidad', 'Provincia', 'Municipio', 'code', 'Delito',\n",
       "       'Enero-junio 2016', 'Enero-junio 2017', 'Variación % 2017/2016',\n",
       "       'Nivel'],\n",
       "      dtype='object')"
      ]
     },
     "metadata": {},
     "execution_count": 5
    }
   ],
   "source": [
    "df_lista[5].columns"
   ]
  },
  {
   "source": [
    "Voy a añadir todas las columnas en un dataset a través de los campos 'Comunidad', 'Provincia', 'Municipio', 'code', 'Delito'. Me quedaré con las columnas que hacen referencia al acumulado trimestral, y desecharé la de variación, ya que es fácilmente calculable, y la columna Unnamed"
   ],
   "cell_type": "markdown",
   "metadata": {}
  },
  {
   "cell_type": "code",
   "execution_count": 9,
   "metadata": {},
   "outputs": [
    {
     "output_type": "stream",
     "name": "stdout",
     "text": [
      "Tamaño de la tabla final 4963 filas\n"
     ]
    },
    {
     "output_type": "execute_result",
     "data": {
      "text/plain": [
       "                  Comunidad Provincia      Municipio  code  \\\n",
       "0                 ANDALUCÍA       NaN            NaN     1   \n",
       "1                 ANDALUCÍA       NaN            NaN     2   \n",
       "2                 ANDALUCÍA       NaN            NaN     3   \n",
       "3                 ANDALUCÍA       NaN            NaN     4   \n",
       "4                 ANDALUCÍA       NaN            NaN     5   \n",
       "...                     ...       ...            ...   ...   \n",
       "4958  MADRID (COMUNIDAD DE)       NaN  Arroyomolinos     8   \n",
       "4959  MADRID (COMUNIDAD DE)       NaN  Arroyomolinos     9   \n",
       "4960  MADRID (COMUNIDAD DE)       NaN  Arroyomolinos    10   \n",
       "4961  MADRID (COMUNIDAD DE)       NaN  Arroyomolinos  code   \n",
       "4962  MADRID (COMUNIDAD DE)       NaN  Arroyomolinos  code   \n",
       "\n",
       "                                                 Delito  Enero-marzo 2016  \\\n",
       "0            Homicidios dolosos y asesinatos consumados              16.0   \n",
       "1     Homicidios dolosos y asesinatos en grado tenta...              45.0   \n",
       "2     Delitos graves y menos graves de lesiones y ri...             644.0   \n",
       "3                                             Secuestro               3.0   \n",
       "4        Delitos contra la libertad e indemnidad sexual             416.0   \n",
       "...                                                 ...               ...   \n",
       "4958                                             Hurtos               NaN   \n",
       "4959                         Sustracciones de vehículos               NaN   \n",
       "4960                                  Tráfico de drogas               NaN   \n",
       "4961                      Resto de infracciones penales               NaN   \n",
       "4962                         TOTAL INFRACCIONES PENALES               NaN   \n",
       "\n",
       "      Enero-marzo 2017_x  Variación % 2017/2016_x      Nivel  \\\n",
       "0                   12.0                    -25.0  Comunidad   \n",
       "1                   59.0                     31.1  Comunidad   \n",
       "2                  681.0                      5.7  Comunidad   \n",
       "3                    1.0                    -66.7  Comunidad   \n",
       "4                  516.0                     24.0  Comunidad   \n",
       "...                  ...                      ...        ...   \n",
       "4958                 NaN                      NaN  Municipio   \n",
       "4959                 NaN                      NaN  Municipio   \n",
       "4960                 NaN                      NaN  Municipio   \n",
       "4961                 NaN                      NaN  Municipio   \n",
       "4962                 NaN                      NaN  Municipio   \n",
       "\n",
       "      Enero-junio 2016  ...  Variación % 2020/2019_x  Enero-junio 2019_y  \\\n",
       "0                 24.0  ...                     13.3                34.0   \n",
       "1                112.0  ...                     66.7                71.0   \n",
       "2               1361.0  ...                      6.1              1499.0   \n",
       "3                  7.0  ...                    -50.0                24.0   \n",
       "4                926.0  ...                    -11.2              1214.0   \n",
       "...                ...  ...                      ...                 ...   \n",
       "4958               NaN  ...                    -12.5               790.0   \n",
       "4959               NaN  ...                     18.8                30.0   \n",
       "4960               NaN  ...                      0.0                 0.0   \n",
       "4961               NaN  ...                     -5.6               518.0   \n",
       "4962               NaN  ...                     -8.6              1416.0   \n",
       "\n",
       "      Enero-junio 2020  Variación % 2020/2019_y  Enero-septiembre 2019_y  \\\n",
       "0                 29.0                    -14.7                     60.0   \n",
       "1                116.0                     63.4                    111.0   \n",
       "2               1355.0                     -9.6                   2558.0   \n",
       "3                 12.0                    -50.0                     26.0   \n",
       "4               1009.0                    -16.9                   1886.0   \n",
       "...                ...                      ...                      ...   \n",
       "4958             416.0                    -47.3                   1158.0   \n",
       "4959              28.0                     -6.7                     36.0   \n",
       "4960               1.0                    100.0                      2.0   \n",
       "4961             429.0                    -17.2                    802.0   \n",
       "4962             936.0                    -33.9                   2105.0   \n",
       "\n",
       "      Enero-septiembre 2020  Variación % 2020/2019_x  Enero-diciembre 2019_y  \\\n",
       "0                      47.0                    -21.7                    82.0   \n",
       "1                     190.0                     71.2                   156.0   \n",
       "2                    2315.0                     -9.5                  3474.0   \n",
       "3                      18.0                    -30.8                    31.0   \n",
       "4                    1665.0                    -11.7                  2510.0   \n",
       "...                     ...                      ...                     ...   \n",
       "4958                  659.0                    -43.1                  1621.0   \n",
       "4959                   44.0                     22.2                    52.0   \n",
       "4960                    2.0                      0.0                     2.0   \n",
       "4961                  763.0                     -4.9                  1062.0   \n",
       "4962                 1579.0                    -25.0                  2886.0   \n",
       "\n",
       "      Enero-diciembre 2020  Variación % 2020/2019_y  \n",
       "0                     60.0                    -26.8  \n",
       "1                    238.0                     52.6  \n",
       "2                   3054.0                    -12.1  \n",
       "3                     23.0                    -25.8  \n",
       "4                   2215.0                    -11.8  \n",
       "...                    ...                      ...  \n",
       "4958                1015.0                    -37.4  \n",
       "4959                  58.0                     11.5  \n",
       "4960                   4.0                    100.0  \n",
       "4961                1122.0                      5.6  \n",
       "4962                2339.0                    -19.0  \n",
       "\n",
       "[4963 rows x 54 columns]"
      ],
      "text/html": "<div>\n<style scoped>\n    .dataframe tbody tr th:only-of-type {\n        vertical-align: middle;\n    }\n\n    .dataframe tbody tr th {\n        vertical-align: top;\n    }\n\n    .dataframe thead th {\n        text-align: right;\n    }\n</style>\n<table border=\"1\" class=\"dataframe\">\n  <thead>\n    <tr style=\"text-align: right;\">\n      <th></th>\n      <th>Comunidad</th>\n      <th>Provincia</th>\n      <th>Municipio</th>\n      <th>code</th>\n      <th>Delito</th>\n      <th>Enero-marzo 2016</th>\n      <th>Enero-marzo 2017_x</th>\n      <th>Variación % 2017/2016_x</th>\n      <th>Nivel</th>\n      <th>Enero-junio 2016</th>\n      <th>...</th>\n      <th>Variación % 2020/2019_x</th>\n      <th>Enero-junio 2019_y</th>\n      <th>Enero-junio 2020</th>\n      <th>Variación % 2020/2019_y</th>\n      <th>Enero-septiembre 2019_y</th>\n      <th>Enero-septiembre 2020</th>\n      <th>Variación % 2020/2019_x</th>\n      <th>Enero-diciembre 2019_y</th>\n      <th>Enero-diciembre 2020</th>\n      <th>Variación % 2020/2019_y</th>\n    </tr>\n  </thead>\n  <tbody>\n    <tr>\n      <th>0</th>\n      <td>ANDALUCÍA</td>\n      <td>NaN</td>\n      <td>NaN</td>\n      <td>1</td>\n      <td>Homicidios dolosos y asesinatos consumados</td>\n      <td>16.0</td>\n      <td>12.0</td>\n      <td>-25.0</td>\n      <td>Comunidad</td>\n      <td>24.0</td>\n      <td>...</td>\n      <td>13.3</td>\n      <td>34.0</td>\n      <td>29.0</td>\n      <td>-14.7</td>\n      <td>60.0</td>\n      <td>47.0</td>\n      <td>-21.7</td>\n      <td>82.0</td>\n      <td>60.0</td>\n      <td>-26.8</td>\n    </tr>\n    <tr>\n      <th>1</th>\n      <td>ANDALUCÍA</td>\n      <td>NaN</td>\n      <td>NaN</td>\n      <td>2</td>\n      <td>Homicidios dolosos y asesinatos en grado tenta...</td>\n      <td>45.0</td>\n      <td>59.0</td>\n      <td>31.1</td>\n      <td>Comunidad</td>\n      <td>112.0</td>\n      <td>...</td>\n      <td>66.7</td>\n      <td>71.0</td>\n      <td>116.0</td>\n      <td>63.4</td>\n      <td>111.0</td>\n      <td>190.0</td>\n      <td>71.2</td>\n      <td>156.0</td>\n      <td>238.0</td>\n      <td>52.6</td>\n    </tr>\n    <tr>\n      <th>2</th>\n      <td>ANDALUCÍA</td>\n      <td>NaN</td>\n      <td>NaN</td>\n      <td>3</td>\n      <td>Delitos graves y menos graves de lesiones y ri...</td>\n      <td>644.0</td>\n      <td>681.0</td>\n      <td>5.7</td>\n      <td>Comunidad</td>\n      <td>1361.0</td>\n      <td>...</td>\n      <td>6.1</td>\n      <td>1499.0</td>\n      <td>1355.0</td>\n      <td>-9.6</td>\n      <td>2558.0</td>\n      <td>2315.0</td>\n      <td>-9.5</td>\n      <td>3474.0</td>\n      <td>3054.0</td>\n      <td>-12.1</td>\n    </tr>\n    <tr>\n      <th>3</th>\n      <td>ANDALUCÍA</td>\n      <td>NaN</td>\n      <td>NaN</td>\n      <td>4</td>\n      <td>Secuestro</td>\n      <td>3.0</td>\n      <td>1.0</td>\n      <td>-66.7</td>\n      <td>Comunidad</td>\n      <td>7.0</td>\n      <td>...</td>\n      <td>-50.0</td>\n      <td>24.0</td>\n      <td>12.0</td>\n      <td>-50.0</td>\n      <td>26.0</td>\n      <td>18.0</td>\n      <td>-30.8</td>\n      <td>31.0</td>\n      <td>23.0</td>\n      <td>-25.8</td>\n    </tr>\n    <tr>\n      <th>4</th>\n      <td>ANDALUCÍA</td>\n      <td>NaN</td>\n      <td>NaN</td>\n      <td>5</td>\n      <td>Delitos contra la libertad e indemnidad sexual</td>\n      <td>416.0</td>\n      <td>516.0</td>\n      <td>24.0</td>\n      <td>Comunidad</td>\n      <td>926.0</td>\n      <td>...</td>\n      <td>-11.2</td>\n      <td>1214.0</td>\n      <td>1009.0</td>\n      <td>-16.9</td>\n      <td>1886.0</td>\n      <td>1665.0</td>\n      <td>-11.7</td>\n      <td>2510.0</td>\n      <td>2215.0</td>\n      <td>-11.8</td>\n    </tr>\n    <tr>\n      <th>...</th>\n      <td>...</td>\n      <td>...</td>\n      <td>...</td>\n      <td>...</td>\n      <td>...</td>\n      <td>...</td>\n      <td>...</td>\n      <td>...</td>\n      <td>...</td>\n      <td>...</td>\n      <td>...</td>\n      <td>...</td>\n      <td>...</td>\n      <td>...</td>\n      <td>...</td>\n      <td>...</td>\n      <td>...</td>\n      <td>...</td>\n      <td>...</td>\n      <td>...</td>\n      <td>...</td>\n    </tr>\n    <tr>\n      <th>4958</th>\n      <td>MADRID (COMUNIDAD DE)</td>\n      <td>NaN</td>\n      <td>Arroyomolinos</td>\n      <td>8</td>\n      <td>Hurtos</td>\n      <td>NaN</td>\n      <td>NaN</td>\n      <td>NaN</td>\n      <td>Municipio</td>\n      <td>NaN</td>\n      <td>...</td>\n      <td>-12.5</td>\n      <td>790.0</td>\n      <td>416.0</td>\n      <td>-47.3</td>\n      <td>1158.0</td>\n      <td>659.0</td>\n      <td>-43.1</td>\n      <td>1621.0</td>\n      <td>1015.0</td>\n      <td>-37.4</td>\n    </tr>\n    <tr>\n      <th>4959</th>\n      <td>MADRID (COMUNIDAD DE)</td>\n      <td>NaN</td>\n      <td>Arroyomolinos</td>\n      <td>9</td>\n      <td>Sustracciones de vehículos</td>\n      <td>NaN</td>\n      <td>NaN</td>\n      <td>NaN</td>\n      <td>Municipio</td>\n      <td>NaN</td>\n      <td>...</td>\n      <td>18.8</td>\n      <td>30.0</td>\n      <td>28.0</td>\n      <td>-6.7</td>\n      <td>36.0</td>\n      <td>44.0</td>\n      <td>22.2</td>\n      <td>52.0</td>\n      <td>58.0</td>\n      <td>11.5</td>\n    </tr>\n    <tr>\n      <th>4960</th>\n      <td>MADRID (COMUNIDAD DE)</td>\n      <td>NaN</td>\n      <td>Arroyomolinos</td>\n      <td>10</td>\n      <td>Tráfico de drogas</td>\n      <td>NaN</td>\n      <td>NaN</td>\n      <td>NaN</td>\n      <td>Municipio</td>\n      <td>NaN</td>\n      <td>...</td>\n      <td>0.0</td>\n      <td>0.0</td>\n      <td>1.0</td>\n      <td>100.0</td>\n      <td>2.0</td>\n      <td>2.0</td>\n      <td>0.0</td>\n      <td>2.0</td>\n      <td>4.0</td>\n      <td>100.0</td>\n    </tr>\n    <tr>\n      <th>4961</th>\n      <td>MADRID (COMUNIDAD DE)</td>\n      <td>NaN</td>\n      <td>Arroyomolinos</td>\n      <td>code</td>\n      <td>Resto de infracciones penales</td>\n      <td>NaN</td>\n      <td>NaN</td>\n      <td>NaN</td>\n      <td>Municipio</td>\n      <td>NaN</td>\n      <td>...</td>\n      <td>-5.6</td>\n      <td>518.0</td>\n      <td>429.0</td>\n      <td>-17.2</td>\n      <td>802.0</td>\n      <td>763.0</td>\n      <td>-4.9</td>\n      <td>1062.0</td>\n      <td>1122.0</td>\n      <td>5.6</td>\n    </tr>\n    <tr>\n      <th>4962</th>\n      <td>MADRID (COMUNIDAD DE)</td>\n      <td>NaN</td>\n      <td>Arroyomolinos</td>\n      <td>code</td>\n      <td>TOTAL INFRACCIONES PENALES</td>\n      <td>NaN</td>\n      <td>NaN</td>\n      <td>NaN</td>\n      <td>Municipio</td>\n      <td>NaN</td>\n      <td>...</td>\n      <td>-8.6</td>\n      <td>1416.0</td>\n      <td>936.0</td>\n      <td>-33.9</td>\n      <td>2105.0</td>\n      <td>1579.0</td>\n      <td>-25.0</td>\n      <td>2886.0</td>\n      <td>2339.0</td>\n      <td>-19.0</td>\n    </tr>\n  </tbody>\n</table>\n<p>4963 rows × 54 columns</p>\n</div>"
     },
     "metadata": {},
     "execution_count": 9
    }
   ],
   "source": [
    "result =df_lista[4]#añado el primer df\n",
    "for df in df_lista[5:]:\n",
    "    result = pd.merge(result,df, how ='outer' ,on=['Comunidad', 'Provincia', 'Municipio', 'code','Delito','Nivel'])\n",
    "\n",
    "print('Tamaño de la tabla final',len( result),'filas')\n",
    "result\n"
   ]
  },
  {
   "source": [
    "Al unir todos los datos, me aparecen columnas repetidas, voy a borrar las columnas que tienen el sufijo '_y', y boraré del nombre el sufijo '_x'"
   ],
   "cell_type": "markdown",
   "metadata": {}
  },
  {
   "cell_type": "code",
   "execution_count": 10,
   "metadata": {},
   "outputs": [
    {
     "output_type": "execute_result",
     "data": {
      "text/plain": [
       "Index(['Comunidad', 'Provincia', 'Municipio', 'code', 'Delito',\n",
       "       'Enero-marzo 2016', 'Enero-marzo 2017', 'Nivel', 'Enero-junio 2016',\n",
       "       'Enero-junio 2017', 'Enero-septiembre 2016', 'Enero-septiembre 2017',\n",
       "       'Enero-diciembre 2016', 'Enero-diciembre 2017', 'Enero-marzo 2018',\n",
       "       'Enero-junio 2018', 'Enero-septiembre 2018', 'Enero-diciembre 2018',\n",
       "       'Enero-marzo 2019', 'Enero-junio 2019', 'Enero-septiembre 2019',\n",
       "       'Enero-diciembre 2019', 'Enero-marzo 2020', 'Enero-junio 2020',\n",
       "       'Enero-septiembre 2020', 'Enero-diciembre 2020'],\n",
       "      dtype='object')"
      ]
     },
     "metadata": {},
     "execution_count": 10
    }
   ],
   "source": [
    "y_columns = result.columns[result.columns.str.contains('_y')]\n",
    "result = result.drop(y_columns, axis=1)\n",
    "\n",
    "variacion_columns = result.columns[result.columns.str.contains('Variación')]\n",
    "result = result.drop(variacion_columns, axis=1)\n",
    "\n",
    "result.columns = list(map(lambda x: x.replace('_x',''),result.columns))\n",
    "\n",
    "result.columns"
   ]
  },
  {
   "source": [
    "Ordeno las columnas por año"
   ],
   "cell_type": "markdown",
   "metadata": {}
  },
  {
   "cell_type": "code",
   "execution_count": 28,
   "metadata": {},
   "outputs": [],
   "source": [
    "\n",
    "anyos = ['2016','2017','2018','2019','2020']\n",
    "\n",
    "sort_column_result=result.iloc[:,:5]\n",
    "\n",
    "sort_column_result= pd.concat([sort_column_result,result['Nivel']],axis=1)\n",
    "\n",
    "for anyo in anyos:\n",
    "    year_columns = result.columns[result.columns.str.contains(anyo)]\n",
    "    sort_column_result= pd.concat([sort_column_result,result[year_columns]],axis=1)\n"
   ]
  },
  {
   "source": [
    "Construyo los periodos a través de los datos que tenemos. Por cada año, la cantidad es un acumulado, es decir, En 'Enero-diciembre' Está todo el año en 'Enero-marzo' el primer trimestre, en 'Enero-junio' acumulado primer mas segundo trimestre."
   ],
   "cell_type": "markdown",
   "metadata": {}
  },
  {
   "cell_type": "code",
   "execution_count": 29,
   "metadata": {},
   "outputs": [
    {
     "output_type": "execute_result",
     "data": {
      "text/plain": [
       "Index(['Comunidad', 'Provincia', 'Municipio', 'code', 'Delito', 'Nivel',\n",
       "       'Enero-marzo 2016', 'Enero-junio 2016', 'Enero-septiembre 2016',\n",
       "       'Enero-diciembre 2016', 'Enero-marzo 2017', 'Enero-junio 2017',\n",
       "       'Enero-septiembre 2017', 'Enero-diciembre 2017', 'Enero-marzo 2018',\n",
       "       'Enero-junio 2018', 'Enero-septiembre 2018', 'Enero-diciembre 2018',\n",
       "       'Enero-marzo 2019', 'Enero-junio 2019', 'Enero-septiembre 2019',\n",
       "       'Enero-diciembre 2019', 'Enero-marzo 2020', 'Enero-junio 2020',\n",
       "       'Enero-septiembre 2020', 'Enero-diciembre 2020'],\n",
       "      dtype='object')"
      ]
     },
     "metadata": {},
     "execution_count": 29
    }
   ],
   "source": [
    "sort_column_result.columns"
   ]
  },
  {
   "cell_type": "code",
   "execution_count": 33,
   "metadata": {},
   "outputs": [
    {
     "output_type": "stream",
     "name": "stdout",
     "text": [
      "['2016', '2017', '2018', '2019', '2020']\n"
     ]
    },
    {
     "output_type": "execute_result",
     "data": {
      "text/plain": [
       "                  Comunidad Provincia      Municipio  code  \\\n",
       "0                 ANDALUCÍA       NaN            NaN     1   \n",
       "1                 ANDALUCÍA       NaN            NaN     2   \n",
       "2                 ANDALUCÍA       NaN            NaN     3   \n",
       "3                 ANDALUCÍA       NaN            NaN     4   \n",
       "4                 ANDALUCÍA       NaN            NaN     5   \n",
       "...                     ...       ...            ...   ...   \n",
       "4958  MADRID (COMUNIDAD DE)       NaN  Arroyomolinos     8   \n",
       "4959  MADRID (COMUNIDAD DE)       NaN  Arroyomolinos     9   \n",
       "4960  MADRID (COMUNIDAD DE)       NaN  Arroyomolinos    10   \n",
       "4961  MADRID (COMUNIDAD DE)       NaN  Arroyomolinos  code   \n",
       "4962  MADRID (COMUNIDAD DE)       NaN  Arroyomolinos  code   \n",
       "\n",
       "                                                 Delito      Nivel  \\\n",
       "0            Homicidios dolosos y asesinatos consumados  Comunidad   \n",
       "1     Homicidios dolosos y asesinatos en grado tenta...  Comunidad   \n",
       "2     Delitos graves y menos graves de lesiones y ri...  Comunidad   \n",
       "3                                             Secuestro  Comunidad   \n",
       "4        Delitos contra la libertad e indemnidad sexual  Comunidad   \n",
       "...                                                 ...        ...   \n",
       "4958                                             Hurtos  Municipio   \n",
       "4959                         Sustracciones de vehículos  Municipio   \n",
       "4960                                  Tráfico de drogas  Municipio   \n",
       "4961                      Resto de infracciones penales  Municipio   \n",
       "4962                         TOTAL INFRACCIONES PENALES  Municipio   \n",
       "\n",
       "      Enero-marzo 2016  Enero-junio 2016  Enero-septiembre 2016  \\\n",
       "0                 16.0              24.0                   49.0   \n",
       "1                 45.0             112.0                  165.0   \n",
       "2                644.0            1361.0                 2237.0   \n",
       "3                  3.0               7.0                   11.0   \n",
       "4                416.0             926.0                 1417.0   \n",
       "...                ...               ...                    ...   \n",
       "4958               NaN               NaN                    NaN   \n",
       "4959               NaN               NaN                    NaN   \n",
       "4960               NaN               NaN                    NaN   \n",
       "4961               NaN               NaN                    NaN   \n",
       "4962               NaN               NaN                    NaN   \n",
       "\n",
       "      Enero-diciembre 2016  ...  2018Q3  2018Q4  2019Q1  2019Q2  2019Q3  \\\n",
       "0                     68.0  ...    14.0    18.0    15.0    18.0    26.0   \n",
       "1                    227.0  ...    56.0    56.0    31.0    41.0    41.0   \n",
       "2                   2911.0  ...   869.0   719.0   725.0   768.0  1054.0   \n",
       "3                     16.0  ...     8.0     5.0    13.0    11.0     2.0   \n",
       "4                   1837.0  ...   644.0   536.0   599.0   619.0   673.0   \n",
       "...                    ...  ...     ...     ...     ...     ...     ...   \n",
       "4958                   NaN  ...     NaN     NaN   415.0   375.0   368.0   \n",
       "4959                   NaN  ...     NaN     NaN    16.0    14.0     6.0   \n",
       "4960                   NaN  ...     NaN     NaN     0.0     0.0     2.0   \n",
       "4961                   NaN  ...     NaN     NaN   266.0   252.0   284.0   \n",
       "4962                   NaN  ...     NaN     NaN   740.0   676.0   689.0   \n",
       "\n",
       "      2019Q4  2020Q1  2020Q2  2020Q3  2020Q4  \n",
       "0       23.0    17.0    12.0    18.0    13.0  \n",
       "1       45.0    50.0    66.0    74.0    48.0  \n",
       "2      912.0   767.0   588.0   960.0   739.0  \n",
       "3        5.0     6.0     6.0     6.0     5.0  \n",
       "4      625.0   532.0   477.0   656.0   550.0  \n",
       "...      ...     ...     ...     ...     ...  \n",
       "4958   463.0   363.0    53.0   243.0   356.0  \n",
       "4959    16.0    19.0     9.0    16.0    14.0  \n",
       "4960     0.0     0.0     1.0     1.0     2.0  \n",
       "4961   260.0   251.0   178.0   334.0   359.0  \n",
       "4962   781.0   676.0   260.0   643.0   760.0  \n",
       "\n",
       "[4963 rows x 46 columns]"
      ],
      "text/html": "<div>\n<style scoped>\n    .dataframe tbody tr th:only-of-type {\n        vertical-align: middle;\n    }\n\n    .dataframe tbody tr th {\n        vertical-align: top;\n    }\n\n    .dataframe thead th {\n        text-align: right;\n    }\n</style>\n<table border=\"1\" class=\"dataframe\">\n  <thead>\n    <tr style=\"text-align: right;\">\n      <th></th>\n      <th>Comunidad</th>\n      <th>Provincia</th>\n      <th>Municipio</th>\n      <th>code</th>\n      <th>Delito</th>\n      <th>Nivel</th>\n      <th>Enero-marzo 2016</th>\n      <th>Enero-junio 2016</th>\n      <th>Enero-septiembre 2016</th>\n      <th>Enero-diciembre 2016</th>\n      <th>...</th>\n      <th>2018Q3</th>\n      <th>2018Q4</th>\n      <th>2019Q1</th>\n      <th>2019Q2</th>\n      <th>2019Q3</th>\n      <th>2019Q4</th>\n      <th>2020Q1</th>\n      <th>2020Q2</th>\n      <th>2020Q3</th>\n      <th>2020Q4</th>\n    </tr>\n  </thead>\n  <tbody>\n    <tr>\n      <th>0</th>\n      <td>ANDALUCÍA</td>\n      <td>NaN</td>\n      <td>NaN</td>\n      <td>1</td>\n      <td>Homicidios dolosos y asesinatos consumados</td>\n      <td>Comunidad</td>\n      <td>16.0</td>\n      <td>24.0</td>\n      <td>49.0</td>\n      <td>68.0</td>\n      <td>...</td>\n      <td>14.0</td>\n      <td>18.0</td>\n      <td>15.0</td>\n      <td>18.0</td>\n      <td>26.0</td>\n      <td>23.0</td>\n      <td>17.0</td>\n      <td>12.0</td>\n      <td>18.0</td>\n      <td>13.0</td>\n    </tr>\n    <tr>\n      <th>1</th>\n      <td>ANDALUCÍA</td>\n      <td>NaN</td>\n      <td>NaN</td>\n      <td>2</td>\n      <td>Homicidios dolosos y asesinatos en grado tenta...</td>\n      <td>Comunidad</td>\n      <td>45.0</td>\n      <td>112.0</td>\n      <td>165.0</td>\n      <td>227.0</td>\n      <td>...</td>\n      <td>56.0</td>\n      <td>56.0</td>\n      <td>31.0</td>\n      <td>41.0</td>\n      <td>41.0</td>\n      <td>45.0</td>\n      <td>50.0</td>\n      <td>66.0</td>\n      <td>74.0</td>\n      <td>48.0</td>\n    </tr>\n    <tr>\n      <th>2</th>\n      <td>ANDALUCÍA</td>\n      <td>NaN</td>\n      <td>NaN</td>\n      <td>3</td>\n      <td>Delitos graves y menos graves de lesiones y ri...</td>\n      <td>Comunidad</td>\n      <td>644.0</td>\n      <td>1361.0</td>\n      <td>2237.0</td>\n      <td>2911.0</td>\n      <td>...</td>\n      <td>869.0</td>\n      <td>719.0</td>\n      <td>725.0</td>\n      <td>768.0</td>\n      <td>1054.0</td>\n      <td>912.0</td>\n      <td>767.0</td>\n      <td>588.0</td>\n      <td>960.0</td>\n      <td>739.0</td>\n    </tr>\n    <tr>\n      <th>3</th>\n      <td>ANDALUCÍA</td>\n      <td>NaN</td>\n      <td>NaN</td>\n      <td>4</td>\n      <td>Secuestro</td>\n      <td>Comunidad</td>\n      <td>3.0</td>\n      <td>7.0</td>\n      <td>11.0</td>\n      <td>16.0</td>\n      <td>...</td>\n      <td>8.0</td>\n      <td>5.0</td>\n      <td>13.0</td>\n      <td>11.0</td>\n      <td>2.0</td>\n      <td>5.0</td>\n      <td>6.0</td>\n      <td>6.0</td>\n      <td>6.0</td>\n      <td>5.0</td>\n    </tr>\n    <tr>\n      <th>4</th>\n      <td>ANDALUCÍA</td>\n      <td>NaN</td>\n      <td>NaN</td>\n      <td>5</td>\n      <td>Delitos contra la libertad e indemnidad sexual</td>\n      <td>Comunidad</td>\n      <td>416.0</td>\n      <td>926.0</td>\n      <td>1417.0</td>\n      <td>1837.0</td>\n      <td>...</td>\n      <td>644.0</td>\n      <td>536.0</td>\n      <td>599.0</td>\n      <td>619.0</td>\n      <td>673.0</td>\n      <td>625.0</td>\n      <td>532.0</td>\n      <td>477.0</td>\n      <td>656.0</td>\n      <td>550.0</td>\n    </tr>\n    <tr>\n      <th>...</th>\n      <td>...</td>\n      <td>...</td>\n      <td>...</td>\n      <td>...</td>\n      <td>...</td>\n      <td>...</td>\n      <td>...</td>\n      <td>...</td>\n      <td>...</td>\n      <td>...</td>\n      <td>...</td>\n      <td>...</td>\n      <td>...</td>\n      <td>...</td>\n      <td>...</td>\n      <td>...</td>\n      <td>...</td>\n      <td>...</td>\n      <td>...</td>\n      <td>...</td>\n      <td>...</td>\n    </tr>\n    <tr>\n      <th>4958</th>\n      <td>MADRID (COMUNIDAD DE)</td>\n      <td>NaN</td>\n      <td>Arroyomolinos</td>\n      <td>8</td>\n      <td>Hurtos</td>\n      <td>Municipio</td>\n      <td>NaN</td>\n      <td>NaN</td>\n      <td>NaN</td>\n      <td>NaN</td>\n      <td>...</td>\n      <td>NaN</td>\n      <td>NaN</td>\n      <td>415.0</td>\n      <td>375.0</td>\n      <td>368.0</td>\n      <td>463.0</td>\n      <td>363.0</td>\n      <td>53.0</td>\n      <td>243.0</td>\n      <td>356.0</td>\n    </tr>\n    <tr>\n      <th>4959</th>\n      <td>MADRID (COMUNIDAD DE)</td>\n      <td>NaN</td>\n      <td>Arroyomolinos</td>\n      <td>9</td>\n      <td>Sustracciones de vehículos</td>\n      <td>Municipio</td>\n      <td>NaN</td>\n      <td>NaN</td>\n      <td>NaN</td>\n      <td>NaN</td>\n      <td>...</td>\n      <td>NaN</td>\n      <td>NaN</td>\n      <td>16.0</td>\n      <td>14.0</td>\n      <td>6.0</td>\n      <td>16.0</td>\n      <td>19.0</td>\n      <td>9.0</td>\n      <td>16.0</td>\n      <td>14.0</td>\n    </tr>\n    <tr>\n      <th>4960</th>\n      <td>MADRID (COMUNIDAD DE)</td>\n      <td>NaN</td>\n      <td>Arroyomolinos</td>\n      <td>10</td>\n      <td>Tráfico de drogas</td>\n      <td>Municipio</td>\n      <td>NaN</td>\n      <td>NaN</td>\n      <td>NaN</td>\n      <td>NaN</td>\n      <td>...</td>\n      <td>NaN</td>\n      <td>NaN</td>\n      <td>0.0</td>\n      <td>0.0</td>\n      <td>2.0</td>\n      <td>0.0</td>\n      <td>0.0</td>\n      <td>1.0</td>\n      <td>1.0</td>\n      <td>2.0</td>\n    </tr>\n    <tr>\n      <th>4961</th>\n      <td>MADRID (COMUNIDAD DE)</td>\n      <td>NaN</td>\n      <td>Arroyomolinos</td>\n      <td>code</td>\n      <td>Resto de infracciones penales</td>\n      <td>Municipio</td>\n      <td>NaN</td>\n      <td>NaN</td>\n      <td>NaN</td>\n      <td>NaN</td>\n      <td>...</td>\n      <td>NaN</td>\n      <td>NaN</td>\n      <td>266.0</td>\n      <td>252.0</td>\n      <td>284.0</td>\n      <td>260.0</td>\n      <td>251.0</td>\n      <td>178.0</td>\n      <td>334.0</td>\n      <td>359.0</td>\n    </tr>\n    <tr>\n      <th>4962</th>\n      <td>MADRID (COMUNIDAD DE)</td>\n      <td>NaN</td>\n      <td>Arroyomolinos</td>\n      <td>code</td>\n      <td>TOTAL INFRACCIONES PENALES</td>\n      <td>Municipio</td>\n      <td>NaN</td>\n      <td>NaN</td>\n      <td>NaN</td>\n      <td>NaN</td>\n      <td>...</td>\n      <td>NaN</td>\n      <td>NaN</td>\n      <td>740.0</td>\n      <td>676.0</td>\n      <td>689.0</td>\n      <td>781.0</td>\n      <td>676.0</td>\n      <td>260.0</td>\n      <td>643.0</td>\n      <td>760.0</td>\n    </tr>\n  </tbody>\n</table>\n<p>4963 rows × 46 columns</p>\n</div>"
     },
     "metadata": {},
     "execution_count": 33
    }
   ],
   "source": [
    "print(anyos)\n",
    "trimestreAcum =['Enero-marzo','Enero-junio','Enero-septiembre','Enero-diciembre']\n",
    "trimestre = ['Q1','Q2','Q3','Q4']\n",
    "\n",
    "for a in anyos:\n",
    "    for i in range(len(trimestre)):\n",
    "        if i == 0:\n",
    "            sort_column_result[a + trimestre[i]] = sort_column_result[trimestreAcum[i] + \" \" + a]\n",
    "        else:\n",
    "            sort_column_result[a + trimestre[i]] = sort_column_result[trimestreAcum[i] + \" \" + a] - sort_column_result                                                                [trimestreAcum[i-1] + \" \" + a]\n",
    "\n",
    "sort_column_result[['Enero-marzo 2016', 'Enero-junio 2016', 'Enero-septiembre 2016',\n",
    "       'Enero-diciembre 2016','2016Q1','2016Q2','2016Q3','2016Q4']]\n",
    "sort_column_result"
   ]
  },
  {
   "source": [
    "Total Nacional"
   ],
   "cell_type": "markdown",
   "metadata": {}
  },
  {
   "cell_type": "code",
   "execution_count": 89,
   "metadata": {},
   "outputs": [
    {
     "output_type": "error",
     "ename": "KeyError",
     "evalue": "'Enero-diciembre 2016'",
     "traceback": [
      "\u001b[1;31m---------------------------------------------------------------------------\u001b[0m",
      "\u001b[1;31mKeyError\u001b[0m                                  Traceback (most recent call last)",
      "\u001b[1;32m~\\anaconda3\\lib\\site-packages\\pandas\\core\\indexes\\base.py\u001b[0m in \u001b[0;36mget_loc\u001b[1;34m(self, key, method, tolerance)\u001b[0m\n\u001b[0;32m   2894\u001b[0m             \u001b[1;32mtry\u001b[0m\u001b[1;33m:\u001b[0m\u001b[1;33m\u001b[0m\u001b[1;33m\u001b[0m\u001b[0m\n\u001b[1;32m-> 2895\u001b[1;33m                 \u001b[1;32mreturn\u001b[0m \u001b[0mself\u001b[0m\u001b[1;33m.\u001b[0m\u001b[0m_engine\u001b[0m\u001b[1;33m.\u001b[0m\u001b[0mget_loc\u001b[0m\u001b[1;33m(\u001b[0m\u001b[0mcasted_key\u001b[0m\u001b[1;33m)\u001b[0m\u001b[1;33m\u001b[0m\u001b[1;33m\u001b[0m\u001b[0m\n\u001b[0m\u001b[0;32m   2896\u001b[0m             \u001b[1;32mexcept\u001b[0m \u001b[0mKeyError\u001b[0m \u001b[1;32mas\u001b[0m \u001b[0merr\u001b[0m\u001b[1;33m:\u001b[0m\u001b[1;33m\u001b[0m\u001b[1;33m\u001b[0m\u001b[0m\n",
      "\u001b[1;32mpandas\\_libs\\index.pyx\u001b[0m in \u001b[0;36mpandas._libs.index.IndexEngine.get_loc\u001b[1;34m()\u001b[0m\n",
      "\u001b[1;32mpandas\\_libs\\index.pyx\u001b[0m in \u001b[0;36mpandas._libs.index.IndexEngine.get_loc\u001b[1;34m()\u001b[0m\n",
      "\u001b[1;32mpandas\\_libs\\hashtable_class_helper.pxi\u001b[0m in \u001b[0;36mpandas._libs.hashtable.PyObjectHashTable.get_item\u001b[1;34m()\u001b[0m\n",
      "\u001b[1;32mpandas\\_libs\\hashtable_class_helper.pxi\u001b[0m in \u001b[0;36mpandas._libs.hashtable.PyObjectHashTable.get_item\u001b[1;34m()\u001b[0m\n",
      "\u001b[1;31mKeyError\u001b[0m: 'Enero-diciembre 2016'",
      "\nThe above exception was the direct cause of the following exception:\n",
      "\u001b[1;31mKeyError\u001b[0m                                  Traceback (most recent call last)",
      "\u001b[1;32m<ipython-input-89-f0f02bae24d4>\u001b[0m in \u001b[0;36m<module>\u001b[1;34m\u001b[0m\n\u001b[0;32m     15\u001b[0m \u001b[1;32mfor\u001b[0m \u001b[0mi\u001b[0m \u001b[1;32min\u001b[0m \u001b[0mrange\u001b[0m\u001b[1;33m(\u001b[0m\u001b[0mlen\u001b[0m\u001b[1;33m(\u001b[0m\u001b[0mcolumnas\u001b[0m\u001b[1;33m)\u001b[0m\u001b[1;33m)\u001b[0m\u001b[1;33m:\u001b[0m\u001b[1;33m\u001b[0m\u001b[1;33m\u001b[0m\u001b[0m\n\u001b[0;32m     16\u001b[0m \u001b[1;33m\u001b[0m\u001b[0m\n\u001b[1;32m---> 17\u001b[1;33m     \u001b[0mespana\u001b[0m\u001b[1;33m[\u001b[0m\u001b[1;34m'%_'\u001b[0m \u001b[1;33m+\u001b[0m \u001b[0manyos\u001b[0m\u001b[1;33m[\u001b[0m\u001b[0mi\u001b[0m\u001b[1;33m]\u001b[0m\u001b[1;33m]\u001b[0m\u001b[1;33m=\u001b[0m \u001b[0mespana\u001b[0m\u001b[1;33m[\u001b[0m\u001b[0mcolumns\u001b[0m\u001b[1;33m[\u001b[0m\u001b[0mi\u001b[0m\u001b[1;33m]\u001b[0m\u001b[1;33m]\u001b[0m \u001b[1;33m*\u001b[0m \u001b[1;36m100\u001b[0m\u001b[1;33m/\u001b[0m \u001b[0mtotal_penal\u001b[0m\u001b[1;33m[\u001b[0m\u001b[0mcolumns\u001b[0m\u001b[1;33m[\u001b[0m\u001b[0mi\u001b[0m\u001b[1;33m]\u001b[0m\u001b[1;33m]\u001b[0m\u001b[1;33m.\u001b[0m\u001b[0miloc\u001b[0m\u001b[1;33m[\u001b[0m\u001b[1;36m0\u001b[0m\u001b[1;33m]\u001b[0m\u001b[1;33m\u001b[0m\u001b[1;33m\u001b[0m\u001b[0m\n\u001b[0m\u001b[0;32m     18\u001b[0m \u001b[1;33m\u001b[0m\u001b[0m\n\u001b[0;32m     19\u001b[0m \u001b[1;33m\u001b[0m\u001b[0m\n",
      "\u001b[1;32m~\\anaconda3\\lib\\site-packages\\pandas\\core\\frame.py\u001b[0m in \u001b[0;36m__getitem__\u001b[1;34m(self, key)\u001b[0m\n\u001b[0;32m   2900\u001b[0m             \u001b[1;32mif\u001b[0m \u001b[0mself\u001b[0m\u001b[1;33m.\u001b[0m\u001b[0mcolumns\u001b[0m\u001b[1;33m.\u001b[0m\u001b[0mnlevels\u001b[0m \u001b[1;33m>\u001b[0m \u001b[1;36m1\u001b[0m\u001b[1;33m:\u001b[0m\u001b[1;33m\u001b[0m\u001b[1;33m\u001b[0m\u001b[0m\n\u001b[0;32m   2901\u001b[0m                 \u001b[1;32mreturn\u001b[0m \u001b[0mself\u001b[0m\u001b[1;33m.\u001b[0m\u001b[0m_getitem_multilevel\u001b[0m\u001b[1;33m(\u001b[0m\u001b[0mkey\u001b[0m\u001b[1;33m)\u001b[0m\u001b[1;33m\u001b[0m\u001b[1;33m\u001b[0m\u001b[0m\n\u001b[1;32m-> 2902\u001b[1;33m             \u001b[0mindexer\u001b[0m \u001b[1;33m=\u001b[0m \u001b[0mself\u001b[0m\u001b[1;33m.\u001b[0m\u001b[0mcolumns\u001b[0m\u001b[1;33m.\u001b[0m\u001b[0mget_loc\u001b[0m\u001b[1;33m(\u001b[0m\u001b[0mkey\u001b[0m\u001b[1;33m)\u001b[0m\u001b[1;33m\u001b[0m\u001b[1;33m\u001b[0m\u001b[0m\n\u001b[0m\u001b[0;32m   2903\u001b[0m             \u001b[1;32mif\u001b[0m \u001b[0mis_integer\u001b[0m\u001b[1;33m(\u001b[0m\u001b[0mindexer\u001b[0m\u001b[1;33m)\u001b[0m\u001b[1;33m:\u001b[0m\u001b[1;33m\u001b[0m\u001b[1;33m\u001b[0m\u001b[0m\n\u001b[0;32m   2904\u001b[0m                 \u001b[0mindexer\u001b[0m \u001b[1;33m=\u001b[0m \u001b[1;33m[\u001b[0m\u001b[0mindexer\u001b[0m\u001b[1;33m]\u001b[0m\u001b[1;33m\u001b[0m\u001b[1;33m\u001b[0m\u001b[0m\n",
      "\u001b[1;32m~\\anaconda3\\lib\\site-packages\\pandas\\core\\indexes\\base.py\u001b[0m in \u001b[0;36mget_loc\u001b[1;34m(self, key, method, tolerance)\u001b[0m\n\u001b[0;32m   2895\u001b[0m                 \u001b[1;32mreturn\u001b[0m \u001b[0mself\u001b[0m\u001b[1;33m.\u001b[0m\u001b[0m_engine\u001b[0m\u001b[1;33m.\u001b[0m\u001b[0mget_loc\u001b[0m\u001b[1;33m(\u001b[0m\u001b[0mcasted_key\u001b[0m\u001b[1;33m)\u001b[0m\u001b[1;33m\u001b[0m\u001b[1;33m\u001b[0m\u001b[0m\n\u001b[0;32m   2896\u001b[0m             \u001b[1;32mexcept\u001b[0m \u001b[0mKeyError\u001b[0m \u001b[1;32mas\u001b[0m \u001b[0merr\u001b[0m\u001b[1;33m:\u001b[0m\u001b[1;33m\u001b[0m\u001b[1;33m\u001b[0m\u001b[0m\n\u001b[1;32m-> 2897\u001b[1;33m                 \u001b[1;32mraise\u001b[0m \u001b[0mKeyError\u001b[0m\u001b[1;33m(\u001b[0m\u001b[0mkey\u001b[0m\u001b[1;33m)\u001b[0m \u001b[1;32mfrom\u001b[0m \u001b[0merr\u001b[0m\u001b[1;33m\u001b[0m\u001b[1;33m\u001b[0m\u001b[0m\n\u001b[0m\u001b[0;32m   2898\u001b[0m \u001b[1;33m\u001b[0m\u001b[0m\n\u001b[0;32m   2899\u001b[0m         \u001b[1;32mif\u001b[0m \u001b[0mtolerance\u001b[0m \u001b[1;32mis\u001b[0m \u001b[1;32mnot\u001b[0m \u001b[1;32mNone\u001b[0m\u001b[1;33m:\u001b[0m\u001b[1;33m\u001b[0m\u001b[1;33m\u001b[0m\u001b[0m\n",
      "\u001b[1;31mKeyError\u001b[0m: 'Enero-diciembre 2016'"
     ]
    }
   ],
   "source": [
    "sort_column_result.groupby('Comunidad').Comunidad.count()\n",
    "total_penal = sort_column_result[sort_column_result.Comunidad.str.contains('NACIONAL') & sort_column_result.Delito.str.contains('TOTAL')]\n",
    "espana = sort_column_result[sort_column_result.Comunidad.str.contains('NACIONAL') & ~ sort_column_result.Delito.str.contains('TOTAL') & ~ sort_column_result.Delito.str.contains('Resto')]\n",
    "\n",
    "qcolumns = sort_column_result.columns[sort_column_result.columns.str.contains('')]\n",
    "\n",
    "total_penal=total_penal[['code','Delito','Enero-diciembre 2016', 'Enero-diciembre 2017','Enero-diciembre 2018','Enero-diciembre 2019','Enero-diciembre 2020']]\n",
    "\n",
    "listColumns = ['code''Delito',*qcolumns]\n",
    "\n",
    "espana=espana[listColumns]\n",
    "\n",
    "columnas = total_penal.columns[2:]\n",
    "\n",
    "for i in range(len(columnas)):\n",
    "\n",
    "    espana['%_' + anyos[i]]= espana[columns[i]] * 100/ total_penal[columns[i]].iloc[0]\n",
    "\n",
    "\n",
    "\n",
    "\n",
    "espana = pd.melt(espana,id_vars=['code','Delito'],value_vars=qcolumns)\n",
    "\n",
    "\n",
    "\n",
    "fig = px.line(espana, x=\"variable\", y='value',\n",
    "              hover_data={\"variable\": \"value\"},\n",
    "              title='Evol. crimen en España')\n",
    "fig.update_xaxes(\n",
    "    dtick=\"code\",\n",
    "    tickformat=\"%b\\n%Y\")\n",
    "fig.show()\n",
    "\n",
    "print(pd.to_period('2000Q2'))"
   ]
  }
 ]
}