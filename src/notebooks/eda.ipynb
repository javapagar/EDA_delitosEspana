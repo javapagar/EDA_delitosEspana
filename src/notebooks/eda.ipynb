{
 "metadata": {
  "language_info": {
   "codemirror_mode": {
    "name": "ipython",
    "version": 3
   },
   "file_extension": ".py",
   "mimetype": "text/x-python",
   "name": "python",
   "nbconvert_exporter": "python",
   "pygments_lexer": "ipython3",
   "version": "3.8.5-final"
  },
  "orig_nbformat": 2,
  "kernelspec": {
   "name": "python3",
   "display_name": "Python 3",
   "language": "python"
  }
 },
 "nbformat": 4,
 "nbformat_minor": 2,
 "cells": [
  {
   "source": [
    "# Criminalidad en España 2015-2020\n",
    "\n",
    "## Importación de librerias\n",
    "\n",
    "A continuación se importan las librerias que se van a utilizar:"
   ],
   "cell_type": "markdown",
   "metadata": {}
  },
  {
   "cell_type": "code",
   "execution_count": 39,
   "metadata": {},
   "outputs": [],
   "source": [
    "import pandas as pd\n",
    "import plotly.express as px\n",
    "from plotly.subplots import make_subplots\n",
    "import plotly.graph_objects as go"
   ]
  },
  {
   "source": [
    "## Carga de los datos\n",
    "\n",
    "### Fuente\n",
    "\n",
    "Los datos se han obtenido de:\n",
    "* [Portal Estadístico de Criminalidad (Ministerio del Interior)](https://estadisticasdecriminalidad.ses.mir.es/publico/portalestadistico/portal/balances.html)\n",
    "\n",
    "### Pre-tratamiento de los datos\n",
    "\n",
    "Los datos sobre criminalidad descargados no tienen un formato que se pueda tratar directamente, como puede verse en el documento descargado (../data/2016_1sc.csv), hay información que hay que desechar y la disposición en tablas no es la adecuada para su lectura. Para ello, se hace un formateo del fichero a través de el script treatCSV (../scripts/treatCSV.py), que modifica su estructura creando un nuevo archivo csv, haciendola más manejable, como se puede ver en ../data/2016_1scclean.csv.\n",
    "\n",
    "### Carga de los datos\n",
    "\n",
    "Una vez se han tratado los datos descargados, ya los podemos caragar en DataFrames de pandas"
   ],
   "cell_type": "markdown",
   "metadata": {}
  },
  {
   "cell_type": "code",
   "execution_count": 40,
   "metadata": {},
   "outputs": [],
   "source": [
    "\n",
    "\n",
    "df_2016_1 = pd.read_csv('../data/2016_1scclean.csv', sep=\";\")\n",
    "df_2016_2 = pd.read_csv('../data/2016_2scclean.csv', sep=\";\")\n",
    "df_2016_3 = pd.read_csv('../data/2016_3scclean.csv', sep=\";\")\n",
    "df_2016_4 = pd.read_csv('../data/2016_4scclean.csv', sep=\";\")\n",
    "\n",
    "df_2017_1 = pd.read_csv('../data/2017_1scclean.csv', sep=\";\")\n",
    "df_2017_2 = pd.read_csv('../data/2017_2scclean.csv', sep=\";\")\n",
    "df_2017_3 = pd.read_csv('../data/2017_3scclean.csv', sep=\";\")\n",
    "df_2017_4 = pd.read_csv('../data/2017_4scclean.csv', sep=\";\")\n",
    "\n",
    "df_2018_1 = pd.read_csv('../data/2018_1scclean.csv', sep=\";\")\n",
    "df_2018_2 = pd.read_csv('../data/2018_2scclean.csv', sep=\";\")\n",
    "df_2018_3 = pd.read_csv('../data/2018_3scclean.csv', sep=\";\")\n",
    "df_2018_4 = pd.read_csv('../data/2018_4scclean.csv', sep=\";\")\n",
    "\n",
    "df_2019_1 = pd.read_csv('../data/2019_1scclean.csv', sep=\";\")\n",
    "df_2019_2 = pd.read_csv('../data/2019_2scclean.csv', sep=\";\")\n",
    "df_2019_3 = pd.read_csv('../data/2019_3scclean.csv', sep=\";\")\n",
    "df_2019_4 = pd.read_csv('../data/2019_4scclean.csv', sep=\";\")\n",
    "\n",
    "df_2020_1 = pd.read_csv('../data/2020_1scclean.csv', sep=\";\")\n",
    "df_2020_2 = pd.read_csv('../data/2020_2scclean.csv', sep=\";\")\n",
    "df_2020_3 = pd.read_csv('../data/2020_3scclean.csv', sep=\";\")\n",
    "df_2020_4 = pd.read_csv('../data/2020_4scclean.csv', sep=\";\")\n",
    "\n",
    "df_lista =[df_2016_1, df_2016_2, df_2016_3, df_2016_4,\n",
    "            df_2017_1, df_2017_2, df_2017_3, df_2017_4,\n",
    "            df_2018_1, df_2018_2, df_2018_3, df_2018_4,\n",
    "            df_2019_1, df_2019_2, df_2019_3, df_2019_4,\n",
    "            df_2020_1, df_2020_2, df_2020_3, df_2020_4]"
   ]
  },
  {
   "source": [
    "Compruebo que los campos están limpios y que más o menos siguen un patrón en su estructura."
   ],
   "cell_type": "markdown",
   "metadata": {}
  },
  {
   "cell_type": "code",
   "execution_count": 41,
   "metadata": {},
   "outputs": [
    {
     "output_type": "stream",
     "name": "stdout",
     "text": [
      "<class 'pandas.core.frame.DataFrame'>\nRangeIndex: 1832 entries, 0 to 1831\nData columns (total 9 columns):\n #   Column                 Non-Null Count  Dtype  \n---  ------                 --------------  -----  \n 0   Comunidad              1832 non-null   object \n 1   Provincia              1408 non-null   object \n 2   Municipio              1168 non-null   object \n 3   code                   1832 non-null   int64  \n 4   Delito                 1832 non-null   object \n 5   Enero-marzo 2015       1832 non-null   float64\n 6   Enero-marzo 2016       1832 non-null   float64\n 7   Variación % 2016/2015  1832 non-null   float64\n 8   Nivel                  1832 non-null   object \ndtypes: float64(3), int64(1), object(5)\nmemory usage: 128.9+ KB\n<class 'pandas.core.frame.DataFrame'>\nRangeIndex: 1832 entries, 0 to 1831\nData columns (total 9 columns):\n #   Column                 Non-Null Count  Dtype  \n---  ------                 --------------  -----  \n 0   Comunidad              1832 non-null   object \n 1   Provincia              1408 non-null   object \n 2   Municipio              1168 non-null   object \n 3   code                   1832 non-null   int64  \n 4   Delito                 1832 non-null   object \n 5   Enero-junio 2015       1832 non-null   float64\n 6   Enero-junio 2016       1832 non-null   float64\n 7   Variación % 2016/2015  1832 non-null   float64\n 8   Nivel                  1832 non-null   object \ndtypes: float64(3), int64(1), object(5)\nmemory usage: 128.9+ KB\n<class 'pandas.core.frame.DataFrame'>\nRangeIndex: 1832 entries, 0 to 1831\nData columns (total 9 columns):\n #   Column                 Non-Null Count  Dtype  \n---  ------                 --------------  -----  \n 0   Comunidad              1832 non-null   object \n 1   Provincia              1408 non-null   object \n 2   Municipio              1168 non-null   object \n 3   code                   1832 non-null   int64  \n 4   Delito                 1832 non-null   object \n 5   Enero-Septiembre 2015  1832 non-null   float64\n 6   Enero-Septiembre 2016  1832 non-null   float64\n 7   Variación % 2016/2015  1832 non-null   float64\n 8   Nivel                  1832 non-null   object \ndtypes: float64(3), int64(1), object(5)\nmemory usage: 128.9+ KB\n<class 'pandas.core.frame.DataFrame'>\nRangeIndex: 1832 entries, 0 to 1831\nData columns (total 9 columns):\n #   Column                 Non-Null Count  Dtype  \n---  ------                 --------------  -----  \n 0   Comunidad              1832 non-null   object \n 1   Provincia              1408 non-null   object \n 2   Municipio              1168 non-null   object \n 3   code                   1832 non-null   int64  \n 4   Delito                 1832 non-null   object \n 5   Enero-Diciembre 2015   1832 non-null   float64\n 6   Enero-Diciembre 2016   1832 non-null   float64\n 7   Variación % 2016/2015  1832 non-null   float64\n 8   Nivel                  1832 non-null   object \ndtypes: float64(3), int64(1), object(5)\nmemory usage: 128.9+ KB\n<class 'pandas.core.frame.DataFrame'>\nRangeIndex: 4620 entries, 0 to 4619\nData columns (total 9 columns):\n #   Column                 Non-Null Count  Dtype  \n---  ------                 --------------  -----  \n 0   Comunidad              4620 non-null   object \n 1   Provincia              3612 non-null   object \n 2   Municipio              3444 non-null   object \n 3   code                   4620 non-null   object \n 4   Delito                 4620 non-null   object \n 5   Enero-marzo 2016       4620 non-null   float64\n 6   Enero-marzo 2017       4620 non-null   float64\n 7   Variación % 2017/2016  4620 non-null   float64\n 8   Nivel                  4620 non-null   object \ndtypes: float64(3), object(6)\nmemory usage: 325.0+ KB\n<class 'pandas.core.frame.DataFrame'>\nRangeIndex: 4620 entries, 0 to 4619\nData columns (total 9 columns):\n #   Column                 Non-Null Count  Dtype  \n---  ------                 --------------  -----  \n 0   Comunidad              4620 non-null   object \n 1   Provincia              3612 non-null   object \n 2   Municipio              3444 non-null   object \n 3   code                   4620 non-null   object \n 4   Delito                 4620 non-null   object \n 5   Enero-junio 2016       4620 non-null   float64\n 6   Enero-junio 2017       4620 non-null   float64\n 7   Variación % 2017/2016  4620 non-null   float64\n 8   Nivel                  4620 non-null   object \ndtypes: float64(3), object(6)\nmemory usage: 325.0+ KB\n<class 'pandas.core.frame.DataFrame'>\nRangeIndex: 4620 entries, 0 to 4619\nData columns (total 9 columns):\n #   Column                 Non-Null Count  Dtype  \n---  ------                 --------------  -----  \n 0   Comunidad              4620 non-null   object \n 1   Provincia              3612 non-null   object \n 2   Municipio              3444 non-null   object \n 3   code                   4620 non-null   object \n 4   Delito                 4620 non-null   object \n 5   Enero-septiembre 2016  4620 non-null   float64\n 6   Enero-septiembre 2017  4620 non-null   float64\n 7   Variación % 2017/2016  4620 non-null   float64\n 8   Nivel                  4620 non-null   object \ndtypes: float64(3), object(6)\nmemory usage: 325.0+ KB\n<class 'pandas.core.frame.DataFrame'>\nRangeIndex: 4648 entries, 0 to 4647\nData columns (total 9 columns):\n #   Column                 Non-Null Count  Dtype  \n---  ------                 --------------  -----  \n 0   Comunidad              4648 non-null   object \n 1   Provincia              3640 non-null   object \n 2   Municipio              3472 non-null   object \n 3   code                   4648 non-null   object \n 4   Delito                 4648 non-null   object \n 5   Enero-diciembre 2016   4648 non-null   float64\n 6   Enero-diciembre 2017   4648 non-null   float64\n 7   Variación % 2017/2016  4648 non-null   float64\n 8   Nivel                  4648 non-null   object \ndtypes: float64(3), object(6)\nmemory usage: 326.9+ KB\n<class 'pandas.core.frame.DataFrame'>\nRangeIndex: 4648 entries, 0 to 4647\nData columns (total 9 columns):\n #   Column                 Non-Null Count  Dtype  \n---  ------                 --------------  -----  \n 0   Comunidad              4648 non-null   object \n 1   Provincia              3640 non-null   object \n 2   Municipio              3472 non-null   object \n 3   code                   4648 non-null   object \n 4   Delito                 4648 non-null   object \n 5   Enero-marzo 2017       4648 non-null   float64\n 6   Enero-marzo 2018       4648 non-null   float64\n 7   Variación % 2018/2017  4648 non-null   float64\n 8   Nivel                  4648 non-null   object \ndtypes: float64(3), object(6)\nmemory usage: 326.9+ KB\n<class 'pandas.core.frame.DataFrame'>\nRangeIndex: 4648 entries, 0 to 4647\nData columns (total 9 columns):\n #   Column                 Non-Null Count  Dtype  \n---  ------                 --------------  -----  \n 0   Comunidad              4648 non-null   object \n 1   Provincia              3640 non-null   object \n 2   Municipio              3472 non-null   object \n 3   code                   4648 non-null   object \n 4   Delito                 4648 non-null   object \n 5   Enero-junio 2017       4648 non-null   float64\n 6   Enero-junio 2018       4648 non-null   float64\n 7   Variación % 2018/2017  4648 non-null   float64\n 8   Nivel                  4648 non-null   object \ndtypes: float64(3), object(6)\nmemory usage: 326.9+ KB\n<class 'pandas.core.frame.DataFrame'>\nRangeIndex: 4648 entries, 0 to 4647\nData columns (total 9 columns):\n #   Column                 Non-Null Count  Dtype  \n---  ------                 --------------  -----  \n 0   Comunidad              4648 non-null   object \n 1   Provincia              3640 non-null   object \n 2   Municipio              3472 non-null   object \n 3   code                   4648 non-null   object \n 4   Delito                 4648 non-null   object \n 5   Enero-septiembre 2017  4648 non-null   float64\n 6   Enero-septiembre 2018  4648 non-null   float64\n 7   Variación % 2018/2017  4648 non-null   float64\n 8   Nivel                  4648 non-null   object \ndtypes: float64(3), object(6)\nmemory usage: 326.9+ KB\n<class 'pandas.core.frame.DataFrame'>\nRangeIndex: 4980 entries, 0 to 4979\nData columns (total 9 columns):\n #   Column                 Non-Null Count  Dtype  \n---  ------                 --------------  -----  \n 0   Comunidad              4980 non-null   object \n 1   Provincia              3900 non-null   object \n 2   Municipio              3720 non-null   object \n 3   code                   4980 non-null   object \n 4   Delito                 4980 non-null   object \n 5   Enero-diciembre 2017   4980 non-null   float64\n 6   Enero-diciembre 2018   4980 non-null   float64\n 7   Variación % 2018/2017  4980 non-null   float64\n 8   Nivel                  4980 non-null   object \ndtypes: float64(3), object(6)\nmemory usage: 350.3+ KB\n<class 'pandas.core.frame.DataFrame'>\nRangeIndex: 5055 entries, 0 to 5054\nData columns (total 9 columns):\n #   Column                 Non-Null Count  Dtype  \n---  ------                 --------------  -----  \n 0   Comunidad              5055 non-null   object \n 1   Provincia              3960 non-null   object \n 2   Municipio              3795 non-null   object \n 3   code                   5055 non-null   object \n 4   Delito                 5055 non-null   object \n 5   Enero-marzo 2018       5055 non-null   float64\n 6   Enero-marzo 2019       5055 non-null   float64\n 7   Variación % 2019/2018  5055 non-null   float64\n 8   Nivel                  5055 non-null   object \ndtypes: float64(3), object(6)\nmemory usage: 355.6+ KB\n<class 'pandas.core.frame.DataFrame'>\nRangeIndex: 5055 entries, 0 to 5054\nData columns (total 9 columns):\n #   Column                 Non-Null Count  Dtype  \n---  ------                 --------------  -----  \n 0   Comunidad              5055 non-null   object \n 1   Provincia              3960 non-null   object \n 2   Municipio              3795 non-null   object \n 3   code                   5055 non-null   object \n 4   Delito                 5055 non-null   object \n 5   Enero-junio 2018       5055 non-null   float64\n 6   Enero-junio 2019       5055 non-null   float64\n 7   Variación % 2019/2018  5055 non-null   float64\n 8   Nivel                  5055 non-null   object \ndtypes: float64(3), object(6)\nmemory usage: 355.6+ KB\n<class 'pandas.core.frame.DataFrame'>\nRangeIndex: 5055 entries, 0 to 5054\nData columns (total 9 columns):\n #   Column                 Non-Null Count  Dtype  \n---  ------                 --------------  -----  \n 0   Comunidad              5055 non-null   object \n 1   Provincia              3960 non-null   object \n 2   Municipio              3795 non-null   object \n 3   code                   5055 non-null   object \n 4   Delito                 5055 non-null   object \n 5   Enero-septiembre 2018  5055 non-null   float64\n 6   Enero-septiembre 2019  5055 non-null   float64\n 7   Variación % 2019/2018  5055 non-null   float64\n 8   Nivel                  5055 non-null   object \ndtypes: float64(3), object(6)\nmemory usage: 355.6+ KB\n<class 'pandas.core.frame.DataFrame'>\nRangeIndex: 5055 entries, 0 to 5054\nData columns (total 9 columns):\n #   Column                 Non-Null Count  Dtype  \n---  ------                 --------------  -----  \n 0   Comunidad              5055 non-null   object \n 1   Provincia              3960 non-null   object \n 2   Municipio              3795 non-null   object \n 3   code                   5055 non-null   object \n 4   Delito                 5055 non-null   object \n 5   Enero-diciembre 2018   5055 non-null   float64\n 6   Enero-diciembre 2019   5055 non-null   float64\n 7   Variación % 2019/2018  5055 non-null   float64\n 8   Nivel                  5055 non-null   object \ndtypes: float64(3), object(6)\nmemory usage: 355.6+ KB\n<class 'pandas.core.frame.DataFrame'>\nRangeIndex: 5055 entries, 0 to 5054\nData columns (total 9 columns):\n #   Column                 Non-Null Count  Dtype  \n---  ------                 --------------  -----  \n 0   Comunidad              5055 non-null   object \n 1   Provincia              3960 non-null   object \n 2   Municipio              3795 non-null   object \n 3   code                   5055 non-null   object \n 4   Delito                 5055 non-null   object \n 5   Enero-marzo 2019       5055 non-null   float64\n 6   Enero-marzo 2020       5055 non-null   float64\n 7   Variación % 2020/2019  5055 non-null   float64\n 8   Nivel                  5055 non-null   object \ndtypes: float64(3), object(6)\nmemory usage: 355.6+ KB\n<class 'pandas.core.frame.DataFrame'>\nRangeIndex: 5055 entries, 0 to 5054\nData columns (total 9 columns):\n #   Column                 Non-Null Count  Dtype  \n---  ------                 --------------  -----  \n 0   Comunidad              5055 non-null   object \n 1   Provincia              3960 non-null   object \n 2   Municipio              3795 non-null   object \n 3   code                   5055 non-null   object \n 4   Delito                 5055 non-null   object \n 5   Enero-junio 2019       5055 non-null   float64\n 6   Enero-junio 2020       5055 non-null   float64\n 7   Variación % 2020/2019  5055 non-null   float64\n 8   Nivel                  5055 non-null   object \ndtypes: float64(3), object(6)\nmemory usage: 355.6+ KB\n<class 'pandas.core.frame.DataFrame'>\nRangeIndex: 5055 entries, 0 to 5054\nData columns (total 9 columns):\n #   Column                 Non-Null Count  Dtype  \n---  ------                 --------------  -----  \n 0   Comunidad              5055 non-null   object \n 1   Provincia              3960 non-null   object \n 2   Municipio              3795 non-null   object \n 3   code                   5055 non-null   object \n 4   Delito                 5055 non-null   object \n 5   Enero-septiembre 2019  5055 non-null   float64\n 6   Enero-septiembre 2020  5055 non-null   float64\n 7   Variación % 2020/2019  5055 non-null   float64\n 8   Nivel                  5055 non-null   object \ndtypes: float64(3), object(6)\nmemory usage: 355.6+ KB\n<class 'pandas.core.frame.DataFrame'>\nRangeIndex: 5055 entries, 0 to 5054\nData columns (total 9 columns):\n #   Column                 Non-Null Count  Dtype  \n---  ------                 --------------  -----  \n 0   Comunidad              5055 non-null   object \n 1   Provincia              3960 non-null   object \n 2   Municipio              3795 non-null   object \n 3   code                   5055 non-null   object \n 4   Delito                 5055 non-null   object \n 5   Enero-diciembre 2019   5055 non-null   float64\n 6   Enero-diciembre 2020   5055 non-null   float64\n 7   Variación % 2020/2019  5055 non-null   float64\n 8   Nivel                  5055 non-null   object \ndtypes: float64(3), object(6)\nmemory usage: 355.6+ KB\n"
     ]
    }
   ],
   "source": [
    "for df in df_lista:\n",
    "    df.info()"
   ]
  },
  {
   "source": [
    "El número de registros va creciendo cuando cambiamos de año, compruebo las comunidades de cada archivo"
   ],
   "cell_type": "markdown",
   "metadata": {}
  },
  {
   "cell_type": "code",
   "execution_count": 42,
   "metadata": {},
   "outputs": [
    {
     "output_type": "stream",
     "name": "stdout",
     "text": [
      "21\n",
      "21\n",
      "21\n",
      "21\n",
      "21\n",
      "21\n",
      "21\n",
      "21\n",
      "21\n",
      "21\n",
      "21\n",
      "21\n",
      "21\n",
      "21\n",
      "21\n",
      "21\n",
      "21\n",
      "21\n",
      "21\n",
      "21\n"
     ]
    }
   ],
   "source": [
    "for df in df_lista:\n",
    "    print(len(df.groupby('Comunidad').Comunidad))"
   ]
  },
  {
   "source": [
    "Compruebo el número de provincias"
   ],
   "cell_type": "markdown",
   "metadata": {}
  },
  {
   "cell_type": "code",
   "execution_count": 43,
   "metadata": {},
   "outputs": [
    {
     "output_type": "stream",
     "name": "stdout",
     "text": [
      "62\n62\n62\n62\n63\n63\n63\n63\n63\n63\n63\n63\n63\n63\n63\n63\n63\n63\n63\n63\n"
     ]
    }
   ],
   "source": [
    "for df in df_lista:\n",
    "    print(len(df.groupby('Provincia').Provincia))"
   ]
  },
  {
   "source": [
    "Compruebo el número de municipios"
   ],
   "cell_type": "markdown",
   "metadata": {}
  },
  {
   "cell_type": "code",
   "execution_count": 44,
   "metadata": {},
   "outputs": [
    {
     "output_type": "stream",
     "name": "stdout",
     "text": [
      "146\n",
      "146\n",
      "146\n",
      "146\n",
      "246\n",
      "246\n",
      "246\n",
      "248\n",
      "248\n",
      "248\n",
      "248\n",
      "248\n",
      "253\n",
      "253\n",
      "253\n",
      "253\n",
      "253\n",
      "253\n",
      "253\n",
      "253\n"
     ]
    }
   ],
   "source": [
    "for df in df_lista:\n",
    "    print(len(df.groupby('Municipio').Municipio))"
   ]
  },
  {
   "cell_type": "code",
   "execution_count": 45,
   "metadata": {},
   "outputs": [
    {
     "output_type": "stream",
     "name": "stdout",
     "text": [
      "8\n",
      "8\n",
      "8\n",
      "8\n",
      "14\n",
      "14\n",
      "14\n",
      "14\n",
      "14\n",
      "14\n",
      "14\n",
      "14\n",
      "14\n",
      "14\n",
      "14\n",
      "14\n",
      "14\n",
      "14\n",
      "14\n",
      "14\n"
     ]
    }
   ],
   "source": [
    "for df in df_lista:\n",
    "    print(len(df.groupby('code').code))"
   ]
  },
  {
   "source": [
    "Los datos de 2016 difieren bastante de los años posteriores. Parece que del primer año al segundo hay un aumento de más de 100 municipios, el número de códigos utilizado para definir los delitos son diferentes. Definitivamente el dato 2015/2016 no lo voy a usar."
   ],
   "cell_type": "markdown",
   "metadata": {}
  },
  {
   "cell_type": "code",
   "execution_count": 46,
   "metadata": {},
   "outputs": [
    {
     "output_type": "execute_result",
     "data": {
      "text/plain": [
       "Index(['Comunidad', 'Provincia', 'Municipio', 'code', 'Delito',\n",
       "       'Enero-junio 2016', 'Enero-junio 2017', 'Variación % 2017/2016',\n",
       "       'Nivel'],\n",
       "      dtype='object')"
      ]
     },
     "metadata": {},
     "execution_count": 46
    }
   ],
   "source": [
    "df_lista[5].columns"
   ]
  },
  {
   "source": [
    "Voy a añadir todas las columnas en un dataset a través de los campos 'Comunidad', 'Provincia', 'Municipio', 'code', 'Delito'. Me quedaré con las columnas que hacen referencia al acumulado trimestral. "
   ],
   "cell_type": "markdown",
   "metadata": {}
  },
  {
   "cell_type": "code",
   "execution_count": 47,
   "metadata": {},
   "outputs": [
    {
     "output_type": "stream",
     "name": "stdout",
     "text": [
      "Tamaño de la tabla final 5083 filas\n"
     ]
    },
    {
     "output_type": "execute_result",
     "data": {
      "text/plain": [
       "                  Comunidad Provincia      Municipio  code  \\\n",
       "0                 ANDALUCÍA       NaN            NaN     1   \n",
       "1                 ANDALUCÍA       NaN            NaN     2   \n",
       "2                 ANDALUCÍA       NaN            NaN     3   \n",
       "3                 ANDALUCÍA       NaN            NaN     4   \n",
       "4                 ANDALUCÍA       NaN            NaN     5   \n",
       "...                     ...       ...            ...   ...   \n",
       "5078  MADRID (COMUNIDAD DE)       NaN  Arroyomolinos     8   \n",
       "5079  MADRID (COMUNIDAD DE)       NaN  Arroyomolinos     9   \n",
       "5080  MADRID (COMUNIDAD DE)       NaN  Arroyomolinos    10   \n",
       "5081  MADRID (COMUNIDAD DE)       NaN  Arroyomolinos  code   \n",
       "5082  MADRID (COMUNIDAD DE)       NaN  Arroyomolinos  code   \n",
       "\n",
       "                                                 Delito  Enero-marzo 2016  \\\n",
       "0            Homicidios dolosos y asesinatos consumados              16.0   \n",
       "1     Homicidios dolosos y asesinatos en grado tenta...              45.0   \n",
       "2     Delitos graves y menos graves de lesiones y ri...             644.0   \n",
       "3                                             Secuestro               3.0   \n",
       "4        Delitos contra la libertad e indemnidad sexual             416.0   \n",
       "...                                                 ...               ...   \n",
       "5078                                             Hurtos               NaN   \n",
       "5079                         Sustracciones de vehículos               NaN   \n",
       "5080                                  Tráfico de drogas               NaN   \n",
       "5081                      Resto de infracciones penales               NaN   \n",
       "5082                         TOTAL INFRACCIONES PENALES               NaN   \n",
       "\n",
       "      Enero-marzo 2017_x  Variación % 2017/2016_x      Nivel  \\\n",
       "0                   12.0                    -25.0  Comunidad   \n",
       "1                   59.0                     31.1  Comunidad   \n",
       "2                  681.0                      5.7  Comunidad   \n",
       "3                    1.0                    -66.7  Comunidad   \n",
       "4                  516.0                     24.0  Comunidad   \n",
       "...                  ...                      ...        ...   \n",
       "5078                 NaN                      NaN  Municipio   \n",
       "5079                 NaN                      NaN  Municipio   \n",
       "5080                 NaN                      NaN  Municipio   \n",
       "5081                 NaN                      NaN  Municipio   \n",
       "5082                 NaN                      NaN  Municipio   \n",
       "\n",
       "      Enero-junio 2016  ...  Variación % 2020/2019_x  Enero-junio 2019_y  \\\n",
       "0                 24.0  ...                     13.3                34.0   \n",
       "1                112.0  ...                     66.7                71.0   \n",
       "2               1361.0  ...                      6.1              1499.0   \n",
       "3                  7.0  ...                    -50.0                24.0   \n",
       "4                926.0  ...                    -11.2              1214.0   \n",
       "...                ...  ...                      ...                 ...   \n",
       "5078               NaN  ...                    -12.5               790.0   \n",
       "5079               NaN  ...                     18.8                30.0   \n",
       "5080               NaN  ...                      0.0                 0.0   \n",
       "5081               NaN  ...                     -5.6               518.0   \n",
       "5082               NaN  ...                     -8.6              1416.0   \n",
       "\n",
       "      Enero-junio 2020  Variación % 2020/2019_y  Enero-septiembre 2019_y  \\\n",
       "0                 29.0                    -14.7                     60.0   \n",
       "1                116.0                     63.4                    111.0   \n",
       "2               1355.0                     -9.6                   2558.0   \n",
       "3                 12.0                    -50.0                     26.0   \n",
       "4               1009.0                    -16.9                   1886.0   \n",
       "...                ...                      ...                      ...   \n",
       "5078             416.0                    -47.3                   1158.0   \n",
       "5079              28.0                     -6.7                     36.0   \n",
       "5080               1.0                    100.0                      2.0   \n",
       "5081             429.0                    -17.2                    802.0   \n",
       "5082             936.0                    -33.9                   2105.0   \n",
       "\n",
       "      Enero-septiembre 2020  Variación % 2020/2019_x  Enero-diciembre 2019_y  \\\n",
       "0                      47.0                    -21.7                    82.0   \n",
       "1                     190.0                     71.2                   156.0   \n",
       "2                    2315.0                     -9.5                  3474.0   \n",
       "3                      18.0                    -30.8                    31.0   \n",
       "4                    1665.0                    -11.7                  2510.0   \n",
       "...                     ...                      ...                     ...   \n",
       "5078                  659.0                    -43.1                  1621.0   \n",
       "5079                   44.0                     22.2                    52.0   \n",
       "5080                    2.0                      0.0                     2.0   \n",
       "5081                  763.0                     -4.9                  1062.0   \n",
       "5082                 1579.0                    -25.0                  2886.0   \n",
       "\n",
       "      Enero-diciembre 2020  Variación % 2020/2019_y  \n",
       "0                     60.0                    -26.8  \n",
       "1                    238.0                     52.6  \n",
       "2                   3054.0                    -12.1  \n",
       "3                     23.0                    -25.8  \n",
       "4                   2215.0                    -11.8  \n",
       "...                    ...                      ...  \n",
       "5078                1015.0                    -37.4  \n",
       "5079                  58.0                     11.5  \n",
       "5080                   4.0                    100.0  \n",
       "5081                1122.0                      5.6  \n",
       "5082                2339.0                    -19.0  \n",
       "\n",
       "[5083 rows x 54 columns]"
      ],
      "text/html": "<div>\n<style scoped>\n    .dataframe tbody tr th:only-of-type {\n        vertical-align: middle;\n    }\n\n    .dataframe tbody tr th {\n        vertical-align: top;\n    }\n\n    .dataframe thead th {\n        text-align: right;\n    }\n</style>\n<table border=\"1\" class=\"dataframe\">\n  <thead>\n    <tr style=\"text-align: right;\">\n      <th></th>\n      <th>Comunidad</th>\n      <th>Provincia</th>\n      <th>Municipio</th>\n      <th>code</th>\n      <th>Delito</th>\n      <th>Enero-marzo 2016</th>\n      <th>Enero-marzo 2017_x</th>\n      <th>Variación % 2017/2016_x</th>\n      <th>Nivel</th>\n      <th>Enero-junio 2016</th>\n      <th>...</th>\n      <th>Variación % 2020/2019_x</th>\n      <th>Enero-junio 2019_y</th>\n      <th>Enero-junio 2020</th>\n      <th>Variación % 2020/2019_y</th>\n      <th>Enero-septiembre 2019_y</th>\n      <th>Enero-septiembre 2020</th>\n      <th>Variación % 2020/2019_x</th>\n      <th>Enero-diciembre 2019_y</th>\n      <th>Enero-diciembre 2020</th>\n      <th>Variación % 2020/2019_y</th>\n    </tr>\n  </thead>\n  <tbody>\n    <tr>\n      <th>0</th>\n      <td>ANDALUCÍA</td>\n      <td>NaN</td>\n      <td>NaN</td>\n      <td>1</td>\n      <td>Homicidios dolosos y asesinatos consumados</td>\n      <td>16.0</td>\n      <td>12.0</td>\n      <td>-25.0</td>\n      <td>Comunidad</td>\n      <td>24.0</td>\n      <td>...</td>\n      <td>13.3</td>\n      <td>34.0</td>\n      <td>29.0</td>\n      <td>-14.7</td>\n      <td>60.0</td>\n      <td>47.0</td>\n      <td>-21.7</td>\n      <td>82.0</td>\n      <td>60.0</td>\n      <td>-26.8</td>\n    </tr>\n    <tr>\n      <th>1</th>\n      <td>ANDALUCÍA</td>\n      <td>NaN</td>\n      <td>NaN</td>\n      <td>2</td>\n      <td>Homicidios dolosos y asesinatos en grado tenta...</td>\n      <td>45.0</td>\n      <td>59.0</td>\n      <td>31.1</td>\n      <td>Comunidad</td>\n      <td>112.0</td>\n      <td>...</td>\n      <td>66.7</td>\n      <td>71.0</td>\n      <td>116.0</td>\n      <td>63.4</td>\n      <td>111.0</td>\n      <td>190.0</td>\n      <td>71.2</td>\n      <td>156.0</td>\n      <td>238.0</td>\n      <td>52.6</td>\n    </tr>\n    <tr>\n      <th>2</th>\n      <td>ANDALUCÍA</td>\n      <td>NaN</td>\n      <td>NaN</td>\n      <td>3</td>\n      <td>Delitos graves y menos graves de lesiones y ri...</td>\n      <td>644.0</td>\n      <td>681.0</td>\n      <td>5.7</td>\n      <td>Comunidad</td>\n      <td>1361.0</td>\n      <td>...</td>\n      <td>6.1</td>\n      <td>1499.0</td>\n      <td>1355.0</td>\n      <td>-9.6</td>\n      <td>2558.0</td>\n      <td>2315.0</td>\n      <td>-9.5</td>\n      <td>3474.0</td>\n      <td>3054.0</td>\n      <td>-12.1</td>\n    </tr>\n    <tr>\n      <th>3</th>\n      <td>ANDALUCÍA</td>\n      <td>NaN</td>\n      <td>NaN</td>\n      <td>4</td>\n      <td>Secuestro</td>\n      <td>3.0</td>\n      <td>1.0</td>\n      <td>-66.7</td>\n      <td>Comunidad</td>\n      <td>7.0</td>\n      <td>...</td>\n      <td>-50.0</td>\n      <td>24.0</td>\n      <td>12.0</td>\n      <td>-50.0</td>\n      <td>26.0</td>\n      <td>18.0</td>\n      <td>-30.8</td>\n      <td>31.0</td>\n      <td>23.0</td>\n      <td>-25.8</td>\n    </tr>\n    <tr>\n      <th>4</th>\n      <td>ANDALUCÍA</td>\n      <td>NaN</td>\n      <td>NaN</td>\n      <td>5</td>\n      <td>Delitos contra la libertad e indemnidad sexual</td>\n      <td>416.0</td>\n      <td>516.0</td>\n      <td>24.0</td>\n      <td>Comunidad</td>\n      <td>926.0</td>\n      <td>...</td>\n      <td>-11.2</td>\n      <td>1214.0</td>\n      <td>1009.0</td>\n      <td>-16.9</td>\n      <td>1886.0</td>\n      <td>1665.0</td>\n      <td>-11.7</td>\n      <td>2510.0</td>\n      <td>2215.0</td>\n      <td>-11.8</td>\n    </tr>\n    <tr>\n      <th>...</th>\n      <td>...</td>\n      <td>...</td>\n      <td>...</td>\n      <td>...</td>\n      <td>...</td>\n      <td>...</td>\n      <td>...</td>\n      <td>...</td>\n      <td>...</td>\n      <td>...</td>\n      <td>...</td>\n      <td>...</td>\n      <td>...</td>\n      <td>...</td>\n      <td>...</td>\n      <td>...</td>\n      <td>...</td>\n      <td>...</td>\n      <td>...</td>\n      <td>...</td>\n      <td>...</td>\n    </tr>\n    <tr>\n      <th>5078</th>\n      <td>MADRID (COMUNIDAD DE)</td>\n      <td>NaN</td>\n      <td>Arroyomolinos</td>\n      <td>8</td>\n      <td>Hurtos</td>\n      <td>NaN</td>\n      <td>NaN</td>\n      <td>NaN</td>\n      <td>Municipio</td>\n      <td>NaN</td>\n      <td>...</td>\n      <td>-12.5</td>\n      <td>790.0</td>\n      <td>416.0</td>\n      <td>-47.3</td>\n      <td>1158.0</td>\n      <td>659.0</td>\n      <td>-43.1</td>\n      <td>1621.0</td>\n      <td>1015.0</td>\n      <td>-37.4</td>\n    </tr>\n    <tr>\n      <th>5079</th>\n      <td>MADRID (COMUNIDAD DE)</td>\n      <td>NaN</td>\n      <td>Arroyomolinos</td>\n      <td>9</td>\n      <td>Sustracciones de vehículos</td>\n      <td>NaN</td>\n      <td>NaN</td>\n      <td>NaN</td>\n      <td>Municipio</td>\n      <td>NaN</td>\n      <td>...</td>\n      <td>18.8</td>\n      <td>30.0</td>\n      <td>28.0</td>\n      <td>-6.7</td>\n      <td>36.0</td>\n      <td>44.0</td>\n      <td>22.2</td>\n      <td>52.0</td>\n      <td>58.0</td>\n      <td>11.5</td>\n    </tr>\n    <tr>\n      <th>5080</th>\n      <td>MADRID (COMUNIDAD DE)</td>\n      <td>NaN</td>\n      <td>Arroyomolinos</td>\n      <td>10</td>\n      <td>Tráfico de drogas</td>\n      <td>NaN</td>\n      <td>NaN</td>\n      <td>NaN</td>\n      <td>Municipio</td>\n      <td>NaN</td>\n      <td>...</td>\n      <td>0.0</td>\n      <td>0.0</td>\n      <td>1.0</td>\n      <td>100.0</td>\n      <td>2.0</td>\n      <td>2.0</td>\n      <td>0.0</td>\n      <td>2.0</td>\n      <td>4.0</td>\n      <td>100.0</td>\n    </tr>\n    <tr>\n      <th>5081</th>\n      <td>MADRID (COMUNIDAD DE)</td>\n      <td>NaN</td>\n      <td>Arroyomolinos</td>\n      <td>code</td>\n      <td>Resto de infracciones penales</td>\n      <td>NaN</td>\n      <td>NaN</td>\n      <td>NaN</td>\n      <td>Municipio</td>\n      <td>NaN</td>\n      <td>...</td>\n      <td>-5.6</td>\n      <td>518.0</td>\n      <td>429.0</td>\n      <td>-17.2</td>\n      <td>802.0</td>\n      <td>763.0</td>\n      <td>-4.9</td>\n      <td>1062.0</td>\n      <td>1122.0</td>\n      <td>5.6</td>\n    </tr>\n    <tr>\n      <th>5082</th>\n      <td>MADRID (COMUNIDAD DE)</td>\n      <td>NaN</td>\n      <td>Arroyomolinos</td>\n      <td>code</td>\n      <td>TOTAL INFRACCIONES PENALES</td>\n      <td>NaN</td>\n      <td>NaN</td>\n      <td>NaN</td>\n      <td>Municipio</td>\n      <td>NaN</td>\n      <td>...</td>\n      <td>-8.6</td>\n      <td>1416.0</td>\n      <td>936.0</td>\n      <td>-33.9</td>\n      <td>2105.0</td>\n      <td>1579.0</td>\n      <td>-25.0</td>\n      <td>2886.0</td>\n      <td>2339.0</td>\n      <td>-19.0</td>\n    </tr>\n  </tbody>\n</table>\n<p>5083 rows × 54 columns</p>\n</div>"
     },
     "metadata": {},
     "execution_count": 47
    }
   ],
   "source": [
    "result =df_lista[4]#añado el primer df\n",
    "for df in df_lista[5:]:\n",
    "    result = pd.merge(result,df, how ='outer' ,on=['Comunidad', 'Provincia', 'Municipio', 'code','Delito','Nivel'])\n",
    "\n",
    "print('Tamaño de la tabla final',len( result),'filas')\n",
    "result\n"
   ]
  },
  {
   "source": [
    "Al unir todos los datos, me aparecen columnas repetidas, voy a borrar las columnas que tienen el sufijo '_y', y boraré del nombre el sufijo '_x'. Desecharé las columnas de variación, ya que es fácilmente calculable."
   ],
   "cell_type": "markdown",
   "metadata": {}
  },
  {
   "cell_type": "code",
   "execution_count": 48,
   "metadata": {},
   "outputs": [
    {
     "output_type": "execute_result",
     "data": {
      "text/plain": [
       "Index(['Comunidad', 'Provincia', 'Municipio', 'code', 'Delito',\n",
       "       'Enero-marzo 2016', 'Enero-marzo 2017', 'Nivel', 'Enero-junio 2016',\n",
       "       'Enero-junio 2017', 'Enero-septiembre 2016', 'Enero-septiembre 2017',\n",
       "       'Enero-diciembre 2016', 'Enero-diciembre 2017', 'Enero-marzo 2018',\n",
       "       'Enero-junio 2018', 'Enero-septiembre 2018', 'Enero-diciembre 2018',\n",
       "       'Enero-marzo 2019', 'Enero-junio 2019', 'Enero-septiembre 2019',\n",
       "       'Enero-diciembre 2019', 'Enero-marzo 2020', 'Enero-junio 2020',\n",
       "       'Enero-septiembre 2020', 'Enero-diciembre 2020'],\n",
       "      dtype='object')"
      ]
     },
     "metadata": {},
     "execution_count": 48
    }
   ],
   "source": [
    "y_columns = result.columns[result.columns.str.contains('_y')]\n",
    "result = result.drop(y_columns, axis=1)\n",
    "\n",
    "variacion_columns = result.columns[result.columns.str.contains('Variación')]\n",
    "result = result.drop(variacion_columns, axis=1)\n",
    "\n",
    "result.columns = list(map(lambda x: x.replace('_x',''),result.columns))\n",
    "\n",
    "result.columns"
   ]
  },
  {
   "source": [
    "Ordeno las columnas por año"
   ],
   "cell_type": "markdown",
   "metadata": {}
  },
  {
   "cell_type": "code",
   "execution_count": 49,
   "metadata": {},
   "outputs": [],
   "source": [
    "\n",
    "anyos = ['2016','2017','2018','2019','2020']\n",
    "\n",
    "sort_column_result=result.iloc[:,:5]\n",
    "\n",
    "sort_column_result= pd.concat([sort_column_result,result['Nivel']],axis=1)\n",
    "\n",
    "for anyo in anyos:\n",
    "    year_columns = result.columns[result.columns.str.contains(anyo)]\n",
    "    sort_column_result= pd.concat([sort_column_result,result[year_columns]],axis=1)\n"
   ]
  },
  {
   "source": [
    "Cada columna con un periodo de meses en el nombre, es un acumulado, es decir, en 'Enero-diciembre' Está todo el año en 'Enero-marzo' el primer trimestre, en 'Enero-junio' acumulado primer mas segundo trimestre. Construyo los periodos trimestrales a través de los datos que tenemos, para tener el número de delitos cometidos por trimestre. El nombre de estas columnas estará formado por el año y el trimestre al que pertenece. Ej: 2017Q3 -> tercer trimestre de 2017. Utilizo la letra Q para poder hacer un formateo a fecha de forma inmediata para usar en series temporales. "
   ],
   "cell_type": "markdown",
   "metadata": {}
  },
  {
   "cell_type": "code",
   "execution_count": 50,
   "metadata": {},
   "outputs": [
    {
     "output_type": "stream",
     "name": "stdout",
     "text": [
      "['2016', '2017', '2018', '2019', '2020']\n"
     ]
    },
    {
     "output_type": "execute_result",
     "data": {
      "text/plain": [
       "      Enero-marzo 2016  Enero-junio 2016  Enero-septiembre 2016  \\\n",
       "0                 16.0              24.0                   49.0   \n",
       "1                 45.0             112.0                  165.0   \n",
       "2                644.0            1361.0                 2237.0   \n",
       "3                  3.0               7.0                   11.0   \n",
       "4                416.0             926.0                 1417.0   \n",
       "...                ...               ...                    ...   \n",
       "5078               NaN               NaN                    NaN   \n",
       "5079               NaN               NaN                    NaN   \n",
       "5080               NaN               NaN                    NaN   \n",
       "5081               NaN               NaN                    NaN   \n",
       "5082               NaN               NaN                    NaN   \n",
       "\n",
       "      Enero-diciembre 2016  2016Q1  2016Q2  2016Q3  2016Q4  \n",
       "0                     68.0    16.0     8.0    25.0    19.0  \n",
       "1                    227.0    45.0    67.0    53.0    62.0  \n",
       "2                   2911.0   644.0   717.0   876.0   674.0  \n",
       "3                     16.0     3.0     4.0     4.0     5.0  \n",
       "4                   1837.0   416.0   510.0   491.0   420.0  \n",
       "...                    ...     ...     ...     ...     ...  \n",
       "5078                   NaN     NaN     NaN     NaN     NaN  \n",
       "5079                   NaN     NaN     NaN     NaN     NaN  \n",
       "5080                   NaN     NaN     NaN     NaN     NaN  \n",
       "5081                   NaN     NaN     NaN     NaN     NaN  \n",
       "5082                   NaN     NaN     NaN     NaN     NaN  \n",
       "\n",
       "[5083 rows x 8 columns]"
      ],
      "text/html": "<div>\n<style scoped>\n    .dataframe tbody tr th:only-of-type {\n        vertical-align: middle;\n    }\n\n    .dataframe tbody tr th {\n        vertical-align: top;\n    }\n\n    .dataframe thead th {\n        text-align: right;\n    }\n</style>\n<table border=\"1\" class=\"dataframe\">\n  <thead>\n    <tr style=\"text-align: right;\">\n      <th></th>\n      <th>Enero-marzo 2016</th>\n      <th>Enero-junio 2016</th>\n      <th>Enero-septiembre 2016</th>\n      <th>Enero-diciembre 2016</th>\n      <th>2016Q1</th>\n      <th>2016Q2</th>\n      <th>2016Q3</th>\n      <th>2016Q4</th>\n    </tr>\n  </thead>\n  <tbody>\n    <tr>\n      <th>0</th>\n      <td>16.0</td>\n      <td>24.0</td>\n      <td>49.0</td>\n      <td>68.0</td>\n      <td>16.0</td>\n      <td>8.0</td>\n      <td>25.0</td>\n      <td>19.0</td>\n    </tr>\n    <tr>\n      <th>1</th>\n      <td>45.0</td>\n      <td>112.0</td>\n      <td>165.0</td>\n      <td>227.0</td>\n      <td>45.0</td>\n      <td>67.0</td>\n      <td>53.0</td>\n      <td>62.0</td>\n    </tr>\n    <tr>\n      <th>2</th>\n      <td>644.0</td>\n      <td>1361.0</td>\n      <td>2237.0</td>\n      <td>2911.0</td>\n      <td>644.0</td>\n      <td>717.0</td>\n      <td>876.0</td>\n      <td>674.0</td>\n    </tr>\n    <tr>\n      <th>3</th>\n      <td>3.0</td>\n      <td>7.0</td>\n      <td>11.0</td>\n      <td>16.0</td>\n      <td>3.0</td>\n      <td>4.0</td>\n      <td>4.0</td>\n      <td>5.0</td>\n    </tr>\n    <tr>\n      <th>4</th>\n      <td>416.0</td>\n      <td>926.0</td>\n      <td>1417.0</td>\n      <td>1837.0</td>\n      <td>416.0</td>\n      <td>510.0</td>\n      <td>491.0</td>\n      <td>420.0</td>\n    </tr>\n    <tr>\n      <th>...</th>\n      <td>...</td>\n      <td>...</td>\n      <td>...</td>\n      <td>...</td>\n      <td>...</td>\n      <td>...</td>\n      <td>...</td>\n      <td>...</td>\n    </tr>\n    <tr>\n      <th>5078</th>\n      <td>NaN</td>\n      <td>NaN</td>\n      <td>NaN</td>\n      <td>NaN</td>\n      <td>NaN</td>\n      <td>NaN</td>\n      <td>NaN</td>\n      <td>NaN</td>\n    </tr>\n    <tr>\n      <th>5079</th>\n      <td>NaN</td>\n      <td>NaN</td>\n      <td>NaN</td>\n      <td>NaN</td>\n      <td>NaN</td>\n      <td>NaN</td>\n      <td>NaN</td>\n      <td>NaN</td>\n    </tr>\n    <tr>\n      <th>5080</th>\n      <td>NaN</td>\n      <td>NaN</td>\n      <td>NaN</td>\n      <td>NaN</td>\n      <td>NaN</td>\n      <td>NaN</td>\n      <td>NaN</td>\n      <td>NaN</td>\n    </tr>\n    <tr>\n      <th>5081</th>\n      <td>NaN</td>\n      <td>NaN</td>\n      <td>NaN</td>\n      <td>NaN</td>\n      <td>NaN</td>\n      <td>NaN</td>\n      <td>NaN</td>\n      <td>NaN</td>\n    </tr>\n    <tr>\n      <th>5082</th>\n      <td>NaN</td>\n      <td>NaN</td>\n      <td>NaN</td>\n      <td>NaN</td>\n      <td>NaN</td>\n      <td>NaN</td>\n      <td>NaN</td>\n      <td>NaN</td>\n    </tr>\n  </tbody>\n</table>\n<p>5083 rows × 8 columns</p>\n</div>"
     },
     "metadata": {},
     "execution_count": 50
    }
   ],
   "source": [
    "print(anyos)\n",
    "trimestreAcum =['Enero-marzo','Enero-junio','Enero-septiembre','Enero-diciembre']\n",
    "trimestre = ['Q1','Q2','Q3','Q4']\n",
    "\n",
    "for a in anyos:\n",
    "    for i in range(len(trimestre)):\n",
    "        if i == 0:\n",
    "            sort_column_result[a + trimestre[i]] = sort_column_result[trimestreAcum[i] + \" \" + a]\n",
    "        else:\n",
    "            sort_column_result[a + trimestre[i]] = sort_column_result[trimestreAcum[i] + \" \" + a] - sort_column_result                                                                [trimestreAcum[i-1] + \" \" + a]\n",
    "\n",
    "sort_column_result[['Enero-marzo 2016', 'Enero-junio 2016', 'Enero-septiembre 2016',\n",
    "       'Enero-diciembre 2016','2016Q1','2016Q2','2016Q3','2016Q4']]"
   ]
  },
  {
   "source": [
    "### Carga dato población por municipio\n",
    "\n",
    "Se van a añadir los datos poblacionales por provincia y municipio para comparar las diferentes comunidades"
   ],
   "cell_type": "markdown",
   "metadata": {}
  },
  {
   "cell_type": "code",
   "execution_count": 51,
   "metadata": {},
   "outputs": [
    {
     "output_type": "execute_result",
     "data": {
      "text/plain": [
       "                         Comunidad Provincia Municipio  code  \\\n",
       "13                       ANDALUCÍA       NaN       NaN  code   \n",
       "755                         ARAGÓN       NaN       NaN  code   \n",
       "866       ASTURIAS (PRINCIPADO DE)       NaN       NaN  code   \n",
       "978                BALEARS (ILLES)       NaN       NaN  code   \n",
       "1161                      CANARIAS       NaN       NaN  code   \n",
       "1538                     CANTABRIA       NaN       NaN  code   \n",
       "1609               CASTILLA Y LEON       NaN       NaN  code   \n",
       "1931          CASTILLA - LA MANCHA       NaN       NaN  code   \n",
       "2183                      CATALUÑA       NaN       NaN  code   \n",
       "2827          COMUNITAT VALENCIANA       NaN       NaN  code   \n",
       "3275                   EXTREMADURA       NaN       NaN  code   \n",
       "3401                       GALICIA       NaN       NaN  code   \n",
       "3666         MADRID (COMUNIDAD DE)       NaN       NaN  code   \n",
       "4058            MURCIA (REGION DE)       NaN       NaN  code   \n",
       "4254  NAVARRA (COMUNIDAD FORAL DE)       NaN       NaN  code   \n",
       "4297                    PAÍS VASCO       NaN       NaN  code   \n",
       "4520                    RIOJA (LA)       NaN       NaN  code   \n",
       "4562      CIUDAD AUTÓNOMA DE CEUTA       NaN       NaN  code   \n",
       "4590    CIUDAD AUTÓNOMA DE MELILLA       NaN       NaN  code   \n",
       "\n",
       "                          Delito      Nivel   2016Q1    2016Q2    2016Q3  \\\n",
       "13    TOTAL INFRACCIONES PENALES  Comunidad  80542.0   84621.0   87225.0   \n",
       "755   TOTAL INFRACCIONES PENALES  Comunidad   9414.0    9416.0    9317.0   \n",
       "866   TOTAL INFRACCIONES PENALES  Comunidad   6276.0    6606.0    6753.0   \n",
       "978   TOTAL INFRACCIONES PENALES  Comunidad  11488.0   17872.0   24416.0   \n",
       "1161  TOTAL INFRACCIONES PENALES  Comunidad  22878.0   21136.0   22236.0   \n",
       "1538  TOTAL INFRACCIONES PENALES  Comunidad   4074.0    3964.0    4670.0   \n",
       "1609  TOTAL INFRACCIONES PENALES  Comunidad  17870.0   18078.0   18199.0   \n",
       "1931  TOTAL INFRACCIONES PENALES  Comunidad  16069.0   15783.0   16349.0   \n",
       "2183  TOTAL INFRACCIONES PENALES  Comunidad  95736.0  100495.0  110366.0   \n",
       "2827  TOTAL INFRACCIONES PENALES  Comunidad  56073.0   57759.0   62430.0   \n",
       "3275  TOTAL INFRACCIONES PENALES  Comunidad   6640.0    6446.0    6632.0   \n",
       "3401  TOTAL INFRACCIONES PENALES  Comunidad  17540.0   18579.0   20179.0   \n",
       "3666  TOTAL INFRACCIONES PENALES  Comunidad  95604.0   95453.0   86029.0   \n",
       "4058  TOTAL INFRACCIONES PENALES  Comunidad  12901.0   12753.0   13066.0   \n",
       "4254  TOTAL INFRACCIONES PENALES  Comunidad   5679.0    6203.0    7804.0   \n",
       "4297  TOTAL INFRACCIONES PENALES  Comunidad  20079.0   20559.0   21586.0   \n",
       "4520  TOTAL INFRACCIONES PENALES  Comunidad   1937.0    1948.0    2096.0   \n",
       "4562  TOTAL INFRACCIONES PENALES  Comunidad   1136.0   -1024.0    3325.0   \n",
       "4590  TOTAL INFRACCIONES PENALES  Comunidad   1203.0    1168.0    1273.0   \n",
       "\n",
       "       2016Q4  ...    2018Q4    2019Q1    2019Q2    2019Q3    2019Q4  \\\n",
       "13    79448.0  ...   82660.0   81460.0   84235.0   90067.0   84192.0   \n",
       "755    9999.0  ...   11681.0   10405.0   10562.0   10473.0   11268.0   \n",
       "866    6458.0  ...    7141.0    6564.0    6726.0    7136.0    6833.0   \n",
       "978   14384.0  ...   17535.0   14580.0   20333.0   25060.0   17477.0   \n",
       "1161  22532.0  ...   23638.0   24085.0   23063.0   24615.0   24223.0   \n",
       "1538   4294.0  ...    4483.0    4282.0    4338.0    5108.0    4377.0   \n",
       "1609  17890.0  ...   19720.0   18136.0   18543.0   20123.0   19844.0   \n",
       "1931  15378.0  ...   17828.0   16987.0   17312.0   18421.0   17787.0   \n",
       "2183  97331.0  ...  120226.0  116452.0  120319.0  129561.0  122784.0   \n",
       "2827  53947.0  ...   56517.0   55902.0   56102.0   64210.0   56701.0   \n",
       "3275   6568.0  ...    7010.0    6796.0    6533.0    6990.0    7339.0   \n",
       "3401  18107.0  ...   20226.0   19276.0   19789.0   21298.0   19925.0   \n",
       "3666  96316.0  ...  106445.0  103269.0  100944.0   96028.0  108391.0   \n",
       "4058  12589.0  ...   14315.0   14291.0   13998.0   14557.0   14263.0   \n",
       "4254   6018.0  ...    6840.0    6296.0    6898.0    8946.0    7036.0   \n",
       "4297  20585.0  ...   23927.0   22958.0   22747.0   24570.0   24209.0   \n",
       "4520   2016.0  ...    2120.0    2126.0    2169.0    2277.0    2188.0   \n",
       "4562   1196.0  ...    1200.0    1133.0    1043.0    1354.0    1229.0   \n",
       "4590   1188.0  ...    1553.0    1325.0    1377.0    1547.0    1330.0   \n",
       "\n",
       "        2020Q1   2020Q2    2020Q3   2020Q4      Total  \n",
       "13     76154.0  56115.0   84561.0  71664.0  1627814.0  \n",
       "755     9098.0   7492.0   10140.0   9712.0   195429.0  \n",
       "866     6185.0   4675.0    7262.0   6273.0   129852.0  \n",
       "978    14220.0  11801.0   18964.0  15083.0   350779.0  \n",
       "1161   23125.0  16163.0   22740.0  22261.0   450982.0  \n",
       "1538    4197.0   3121.0    5212.0   4068.0    86800.0  \n",
       "1609   16756.0  11640.0   19078.0  17890.0   360665.0  \n",
       "1931   15778.0  11541.0   18382.0  16607.0   328515.0  \n",
       "2183  102132.0  61330.0  101392.0  87876.0  2139449.0  \n",
       "2827   49237.0  34549.0   59564.0  51685.0  1116842.0  \n",
       "3275    6501.0   4893.0    7171.0   6541.0   131996.0  \n",
       "3401   17728.0  14327.0   21720.0  19935.0   380546.0  \n",
       "3666   91804.0  50903.0   83846.0  85507.0  1865291.0  \n",
       "4058   13323.0   9885.0   14792.0  13050.0   267051.0  \n",
       "4254    6355.0   4297.0    6749.0   6197.0   130593.0  \n",
       "4297   21698.0  14087.0   20765.0  20595.0   428339.0  \n",
       "4520    1854.0   1773.0    2167.0   2059.0    40497.0  \n",
       "4562    1135.0    708.0    1039.0    783.0    22233.0  \n",
       "4590    1279.0    776.0    1284.0   1154.0    25113.0  \n",
       "\n",
       "[19 rows x 27 columns]"
      ],
      "text/html": "<div>\n<style scoped>\n    .dataframe tbody tr th:only-of-type {\n        vertical-align: middle;\n    }\n\n    .dataframe tbody tr th {\n        vertical-align: top;\n    }\n\n    .dataframe thead th {\n        text-align: right;\n    }\n</style>\n<table border=\"1\" class=\"dataframe\">\n  <thead>\n    <tr style=\"text-align: right;\">\n      <th></th>\n      <th>Comunidad</th>\n      <th>Provincia</th>\n      <th>Municipio</th>\n      <th>code</th>\n      <th>Delito</th>\n      <th>Nivel</th>\n      <th>2016Q1</th>\n      <th>2016Q2</th>\n      <th>2016Q3</th>\n      <th>2016Q4</th>\n      <th>...</th>\n      <th>2018Q4</th>\n      <th>2019Q1</th>\n      <th>2019Q2</th>\n      <th>2019Q3</th>\n      <th>2019Q4</th>\n      <th>2020Q1</th>\n      <th>2020Q2</th>\n      <th>2020Q3</th>\n      <th>2020Q4</th>\n      <th>Total</th>\n    </tr>\n  </thead>\n  <tbody>\n    <tr>\n      <th>13</th>\n      <td>ANDALUCÍA</td>\n      <td>NaN</td>\n      <td>NaN</td>\n      <td>code</td>\n      <td>TOTAL INFRACCIONES PENALES</td>\n      <td>Comunidad</td>\n      <td>80542.0</td>\n      <td>84621.0</td>\n      <td>87225.0</td>\n      <td>79448.0</td>\n      <td>...</td>\n      <td>82660.0</td>\n      <td>81460.0</td>\n      <td>84235.0</td>\n      <td>90067.0</td>\n      <td>84192.0</td>\n      <td>76154.0</td>\n      <td>56115.0</td>\n      <td>84561.0</td>\n      <td>71664.0</td>\n      <td>1627814.0</td>\n    </tr>\n    <tr>\n      <th>755</th>\n      <td>ARAGÓN</td>\n      <td>NaN</td>\n      <td>NaN</td>\n      <td>code</td>\n      <td>TOTAL INFRACCIONES PENALES</td>\n      <td>Comunidad</td>\n      <td>9414.0</td>\n      <td>9416.0</td>\n      <td>9317.0</td>\n      <td>9999.0</td>\n      <td>...</td>\n      <td>11681.0</td>\n      <td>10405.0</td>\n      <td>10562.0</td>\n      <td>10473.0</td>\n      <td>11268.0</td>\n      <td>9098.0</td>\n      <td>7492.0</td>\n      <td>10140.0</td>\n      <td>9712.0</td>\n      <td>195429.0</td>\n    </tr>\n    <tr>\n      <th>866</th>\n      <td>ASTURIAS (PRINCIPADO DE)</td>\n      <td>NaN</td>\n      <td>NaN</td>\n      <td>code</td>\n      <td>TOTAL INFRACCIONES PENALES</td>\n      <td>Comunidad</td>\n      <td>6276.0</td>\n      <td>6606.0</td>\n      <td>6753.0</td>\n      <td>6458.0</td>\n      <td>...</td>\n      <td>7141.0</td>\n      <td>6564.0</td>\n      <td>6726.0</td>\n      <td>7136.0</td>\n      <td>6833.0</td>\n      <td>6185.0</td>\n      <td>4675.0</td>\n      <td>7262.0</td>\n      <td>6273.0</td>\n      <td>129852.0</td>\n    </tr>\n    <tr>\n      <th>978</th>\n      <td>BALEARS (ILLES)</td>\n      <td>NaN</td>\n      <td>NaN</td>\n      <td>code</td>\n      <td>TOTAL INFRACCIONES PENALES</td>\n      <td>Comunidad</td>\n      <td>11488.0</td>\n      <td>17872.0</td>\n      <td>24416.0</td>\n      <td>14384.0</td>\n      <td>...</td>\n      <td>17535.0</td>\n      <td>14580.0</td>\n      <td>20333.0</td>\n      <td>25060.0</td>\n      <td>17477.0</td>\n      <td>14220.0</td>\n      <td>11801.0</td>\n      <td>18964.0</td>\n      <td>15083.0</td>\n      <td>350779.0</td>\n    </tr>\n    <tr>\n      <th>1161</th>\n      <td>CANARIAS</td>\n      <td>NaN</td>\n      <td>NaN</td>\n      <td>code</td>\n      <td>TOTAL INFRACCIONES PENALES</td>\n      <td>Comunidad</td>\n      <td>22878.0</td>\n      <td>21136.0</td>\n      <td>22236.0</td>\n      <td>22532.0</td>\n      <td>...</td>\n      <td>23638.0</td>\n      <td>24085.0</td>\n      <td>23063.0</td>\n      <td>24615.0</td>\n      <td>24223.0</td>\n      <td>23125.0</td>\n      <td>16163.0</td>\n      <td>22740.0</td>\n      <td>22261.0</td>\n      <td>450982.0</td>\n    </tr>\n    <tr>\n      <th>1538</th>\n      <td>CANTABRIA</td>\n      <td>NaN</td>\n      <td>NaN</td>\n      <td>code</td>\n      <td>TOTAL INFRACCIONES PENALES</td>\n      <td>Comunidad</td>\n      <td>4074.0</td>\n      <td>3964.0</td>\n      <td>4670.0</td>\n      <td>4294.0</td>\n      <td>...</td>\n      <td>4483.0</td>\n      <td>4282.0</td>\n      <td>4338.0</td>\n      <td>5108.0</td>\n      <td>4377.0</td>\n      <td>4197.0</td>\n      <td>3121.0</td>\n      <td>5212.0</td>\n      <td>4068.0</td>\n      <td>86800.0</td>\n    </tr>\n    <tr>\n      <th>1609</th>\n      <td>CASTILLA Y LEON</td>\n      <td>NaN</td>\n      <td>NaN</td>\n      <td>code</td>\n      <td>TOTAL INFRACCIONES PENALES</td>\n      <td>Comunidad</td>\n      <td>17870.0</td>\n      <td>18078.0</td>\n      <td>18199.0</td>\n      <td>17890.0</td>\n      <td>...</td>\n      <td>19720.0</td>\n      <td>18136.0</td>\n      <td>18543.0</td>\n      <td>20123.0</td>\n      <td>19844.0</td>\n      <td>16756.0</td>\n      <td>11640.0</td>\n      <td>19078.0</td>\n      <td>17890.0</td>\n      <td>360665.0</td>\n    </tr>\n    <tr>\n      <th>1931</th>\n      <td>CASTILLA - LA MANCHA</td>\n      <td>NaN</td>\n      <td>NaN</td>\n      <td>code</td>\n      <td>TOTAL INFRACCIONES PENALES</td>\n      <td>Comunidad</td>\n      <td>16069.0</td>\n      <td>15783.0</td>\n      <td>16349.0</td>\n      <td>15378.0</td>\n      <td>...</td>\n      <td>17828.0</td>\n      <td>16987.0</td>\n      <td>17312.0</td>\n      <td>18421.0</td>\n      <td>17787.0</td>\n      <td>15778.0</td>\n      <td>11541.0</td>\n      <td>18382.0</td>\n      <td>16607.0</td>\n      <td>328515.0</td>\n    </tr>\n    <tr>\n      <th>2183</th>\n      <td>CATALUÑA</td>\n      <td>NaN</td>\n      <td>NaN</td>\n      <td>code</td>\n      <td>TOTAL INFRACCIONES PENALES</td>\n      <td>Comunidad</td>\n      <td>95736.0</td>\n      <td>100495.0</td>\n      <td>110366.0</td>\n      <td>97331.0</td>\n      <td>...</td>\n      <td>120226.0</td>\n      <td>116452.0</td>\n      <td>120319.0</td>\n      <td>129561.0</td>\n      <td>122784.0</td>\n      <td>102132.0</td>\n      <td>61330.0</td>\n      <td>101392.0</td>\n      <td>87876.0</td>\n      <td>2139449.0</td>\n    </tr>\n    <tr>\n      <th>2827</th>\n      <td>COMUNITAT VALENCIANA</td>\n      <td>NaN</td>\n      <td>NaN</td>\n      <td>code</td>\n      <td>TOTAL INFRACCIONES PENALES</td>\n      <td>Comunidad</td>\n      <td>56073.0</td>\n      <td>57759.0</td>\n      <td>62430.0</td>\n      <td>53947.0</td>\n      <td>...</td>\n      <td>56517.0</td>\n      <td>55902.0</td>\n      <td>56102.0</td>\n      <td>64210.0</td>\n      <td>56701.0</td>\n      <td>49237.0</td>\n      <td>34549.0</td>\n      <td>59564.0</td>\n      <td>51685.0</td>\n      <td>1116842.0</td>\n    </tr>\n    <tr>\n      <th>3275</th>\n      <td>EXTREMADURA</td>\n      <td>NaN</td>\n      <td>NaN</td>\n      <td>code</td>\n      <td>TOTAL INFRACCIONES PENALES</td>\n      <td>Comunidad</td>\n      <td>6640.0</td>\n      <td>6446.0</td>\n      <td>6632.0</td>\n      <td>6568.0</td>\n      <td>...</td>\n      <td>7010.0</td>\n      <td>6796.0</td>\n      <td>6533.0</td>\n      <td>6990.0</td>\n      <td>7339.0</td>\n      <td>6501.0</td>\n      <td>4893.0</td>\n      <td>7171.0</td>\n      <td>6541.0</td>\n      <td>131996.0</td>\n    </tr>\n    <tr>\n      <th>3401</th>\n      <td>GALICIA</td>\n      <td>NaN</td>\n      <td>NaN</td>\n      <td>code</td>\n      <td>TOTAL INFRACCIONES PENALES</td>\n      <td>Comunidad</td>\n      <td>17540.0</td>\n      <td>18579.0</td>\n      <td>20179.0</td>\n      <td>18107.0</td>\n      <td>...</td>\n      <td>20226.0</td>\n      <td>19276.0</td>\n      <td>19789.0</td>\n      <td>21298.0</td>\n      <td>19925.0</td>\n      <td>17728.0</td>\n      <td>14327.0</td>\n      <td>21720.0</td>\n      <td>19935.0</td>\n      <td>380546.0</td>\n    </tr>\n    <tr>\n      <th>3666</th>\n      <td>MADRID (COMUNIDAD DE)</td>\n      <td>NaN</td>\n      <td>NaN</td>\n      <td>code</td>\n      <td>TOTAL INFRACCIONES PENALES</td>\n      <td>Comunidad</td>\n      <td>95604.0</td>\n      <td>95453.0</td>\n      <td>86029.0</td>\n      <td>96316.0</td>\n      <td>...</td>\n      <td>106445.0</td>\n      <td>103269.0</td>\n      <td>100944.0</td>\n      <td>96028.0</td>\n      <td>108391.0</td>\n      <td>91804.0</td>\n      <td>50903.0</td>\n      <td>83846.0</td>\n      <td>85507.0</td>\n      <td>1865291.0</td>\n    </tr>\n    <tr>\n      <th>4058</th>\n      <td>MURCIA (REGION DE)</td>\n      <td>NaN</td>\n      <td>NaN</td>\n      <td>code</td>\n      <td>TOTAL INFRACCIONES PENALES</td>\n      <td>Comunidad</td>\n      <td>12901.0</td>\n      <td>12753.0</td>\n      <td>13066.0</td>\n      <td>12589.0</td>\n      <td>...</td>\n      <td>14315.0</td>\n      <td>14291.0</td>\n      <td>13998.0</td>\n      <td>14557.0</td>\n      <td>14263.0</td>\n      <td>13323.0</td>\n      <td>9885.0</td>\n      <td>14792.0</td>\n      <td>13050.0</td>\n      <td>267051.0</td>\n    </tr>\n    <tr>\n      <th>4254</th>\n      <td>NAVARRA (COMUNIDAD FORAL DE)</td>\n      <td>NaN</td>\n      <td>NaN</td>\n      <td>code</td>\n      <td>TOTAL INFRACCIONES PENALES</td>\n      <td>Comunidad</td>\n      <td>5679.0</td>\n      <td>6203.0</td>\n      <td>7804.0</td>\n      <td>6018.0</td>\n      <td>...</td>\n      <td>6840.0</td>\n      <td>6296.0</td>\n      <td>6898.0</td>\n      <td>8946.0</td>\n      <td>7036.0</td>\n      <td>6355.0</td>\n      <td>4297.0</td>\n      <td>6749.0</td>\n      <td>6197.0</td>\n      <td>130593.0</td>\n    </tr>\n    <tr>\n      <th>4297</th>\n      <td>PAÍS VASCO</td>\n      <td>NaN</td>\n      <td>NaN</td>\n      <td>code</td>\n      <td>TOTAL INFRACCIONES PENALES</td>\n      <td>Comunidad</td>\n      <td>20079.0</td>\n      <td>20559.0</td>\n      <td>21586.0</td>\n      <td>20585.0</td>\n      <td>...</td>\n      <td>23927.0</td>\n      <td>22958.0</td>\n      <td>22747.0</td>\n      <td>24570.0</td>\n      <td>24209.0</td>\n      <td>21698.0</td>\n      <td>14087.0</td>\n      <td>20765.0</td>\n      <td>20595.0</td>\n      <td>428339.0</td>\n    </tr>\n    <tr>\n      <th>4520</th>\n      <td>RIOJA (LA)</td>\n      <td>NaN</td>\n      <td>NaN</td>\n      <td>code</td>\n      <td>TOTAL INFRACCIONES PENALES</td>\n      <td>Comunidad</td>\n      <td>1937.0</td>\n      <td>1948.0</td>\n      <td>2096.0</td>\n      <td>2016.0</td>\n      <td>...</td>\n      <td>2120.0</td>\n      <td>2126.0</td>\n      <td>2169.0</td>\n      <td>2277.0</td>\n      <td>2188.0</td>\n      <td>1854.0</td>\n      <td>1773.0</td>\n      <td>2167.0</td>\n      <td>2059.0</td>\n      <td>40497.0</td>\n    </tr>\n    <tr>\n      <th>4562</th>\n      <td>CIUDAD AUTÓNOMA DE CEUTA</td>\n      <td>NaN</td>\n      <td>NaN</td>\n      <td>code</td>\n      <td>TOTAL INFRACCIONES PENALES</td>\n      <td>Comunidad</td>\n      <td>1136.0</td>\n      <td>-1024.0</td>\n      <td>3325.0</td>\n      <td>1196.0</td>\n      <td>...</td>\n      <td>1200.0</td>\n      <td>1133.0</td>\n      <td>1043.0</td>\n      <td>1354.0</td>\n      <td>1229.0</td>\n      <td>1135.0</td>\n      <td>708.0</td>\n      <td>1039.0</td>\n      <td>783.0</td>\n      <td>22233.0</td>\n    </tr>\n    <tr>\n      <th>4590</th>\n      <td>CIUDAD AUTÓNOMA DE MELILLA</td>\n      <td>NaN</td>\n      <td>NaN</td>\n      <td>code</td>\n      <td>TOTAL INFRACCIONES PENALES</td>\n      <td>Comunidad</td>\n      <td>1203.0</td>\n      <td>1168.0</td>\n      <td>1273.0</td>\n      <td>1188.0</td>\n      <td>...</td>\n      <td>1553.0</td>\n      <td>1325.0</td>\n      <td>1377.0</td>\n      <td>1547.0</td>\n      <td>1330.0</td>\n      <td>1279.0</td>\n      <td>776.0</td>\n      <td>1284.0</td>\n      <td>1154.0</td>\n      <td>25113.0</td>\n    </tr>\n  </tbody>\n</table>\n<p>19 rows × 27 columns</p>\n</div>"
     },
     "metadata": {},
     "execution_count": 51
    }
   ],
   "source": [
    "pob2020 = pd.read_excel('../data/pobmun/pobmun20.xlsx', skiprows =[0,0])\n",
    "provpob2020 = pob2020.groupby(['PROVINCIA'])['PROVINCIA','POB20'].sum()\n",
    "provpob2020\n",
    "\n",
    "df = total_provincias.groupby('Provincia').count()\n",
    "len(df.index), len(provpob2020.index)\n",
    "\n",
    "total_comunidades"
   ]
  },
  {
   "source": [
    "Crearé algunas funciones para facilitar la creación de los gráficos"
   ],
   "cell_type": "markdown",
   "metadata": {}
  },
  {
   "cell_type": "code",
   "execution_count": 52,
   "metadata": {},
   "outputs": [],
   "source": [
    "def addTotalColumn(df):\n",
    "    df['Total'] = df['Enero-diciembre 2016'] + df['Enero-diciembre 2017'] + df['Enero-diciembre 2018'] + df['Enero-diciembre 2019'] + df['Enero-diciembre 2020']\n",
    "\n",
    "def addPercent(df,total):\n",
    "    df['Percent'] = list(map(lambda x: round(x * 100/total,3), df.Total))"
   ]
  },
  {
   "source": [
    "A continuación, dividiré el dataset general en tres, ajustandose al tipo administrativo de comunidad, provincia, municipio, ya que los trataré por separado"
   ],
   "cell_type": "markdown",
   "metadata": {}
  },
  {
   "cell_type": "code",
   "execution_count": 53,
   "metadata": {},
   "outputs": [],
   "source": [
    "\n",
    "qcolumns = sort_column_result.columns[sort_column_result.columns.str.contains('Q')]\n",
    "#ene_dic_columns = sort_column_result.columns[sort_column_result.columns.str.contains('Enero-diciembre')]\n",
    "\n",
    "#añado columnas de totales de fila\n",
    "addTotalColumn(sort_column_result)\n",
    "\n",
    "main_columns = ['Comunidad', 'Provincia', 'Municipio', 'code', 'Delito', 'Nivel',*qcolumns,'Total']\n",
    "\n",
    "sort_column_result = sort_column_result[main_columns]\n",
    "\n",
    "#datos totales de españa\n",
    "total_espana = sort_column_result[sort_column_result.Comunidad.str.contains('NACIONAL') & sort_column_result.Delito.str.contains('TOTAL')]\n",
    "\n",
    "#datos totales por comunidad\n",
    "total_comunidades = sort_column_result[sort_column_result.Nivel.str.contains('Comunidad') & sort_column_result.Delito.str.contains('TOTAL') & ~             sort_column_result.Comunidad.str.contains('FUERA') & ~ sort_column_result.Comunidad.str.contains('EXTRANJERO') & ~ sort_column_result.Comunidad.str.contains('NACIONAL')]\n",
    "\n",
    "#Datos totales por provincias\n",
    "total_provincias = sort_column_result[sort_column_result.Nivel.str.contains('Provincia') & sort_column_result.Delito.str.contains('TOTAL') & ~             sort_column_result.Comunidad.str.contains('FUERA') & ~ sort_column_result.Comunidad.str.contains('EXTRANJERO') & ~ sort_column_result.Comunidad.str.contains('NACIONAL')]\n",
    "\n",
    "#datos totales por municipio\n",
    "total_municipio = sort_column_result[sort_column_result.Nivel.str.contains('Municipio') & sort_column_result.Delito.str.contains('TOTAL') & ~             sort_column_result.Comunidad.str.contains('FUERA') & ~ sort_column_result.Comunidad.str.contains('EXTRANJERO') & ~ sort_column_result.Comunidad.str.contains('NACIONAL')]\n",
    "\n",
    "#datos España por tipo de delito\n",
    "espana_tipo_delito = sort_column_result[sort_column_result.Comunidad.str.contains('NACIONAL') & ~ sort_column_result.code.str.contains('code') & ~ sort_column_result.code.str.contains('5.') & ~ sort_column_result.code.str.contains('7.')]\n",
    "\n",
    "n_delitos_espana =espana_tipo_delito.groupby('Comunidad')['Total'].sum().iloc[-1]\n",
    "\n",
    "#datos comunidades por tipo de delito\n",
    "comunidades_tipo_delito = sort_column_result[sort_column_result.Nivel.str.contains('Comunidad') & ~ sort_column_result.code.str.contains('code') & ~ sort_column_result.code.str.contains('5.') & ~ sort_column_result.code.str.contains('7.') & ~ sort_column_result.Comunidad.str.contains('FUERA') & ~ sort_column_result.Comunidad.str.contains('EXTRANJERO') & ~ sort_column_result.Comunidad.str.contains('NACIONAL')]\n",
    "\n",
    "#datos provincias por tipo de delito\n",
    "provincia_tipo_delito = sort_column_result[sort_column_result.Nivel.str.contains('Provincia') & ~ sort_column_result.code.str.contains('code') & ~ sort_column_result.code.str.contains('5.') & ~ sort_column_result.code.str.contains('7.') & ~ sort_column_result.Comunidad.str.contains('FUERA') & ~ sort_column_result.Comunidad.str.contains('EXTRANJERO') & ~ sort_column_result.Comunidad.str.contains('NACIONAL')]"
   ]
  },
  {
   "source": [
    "Total Nacional\n",
    "\n",
    "En una primera aproximación, muestro la evolución del total de delitos por trimestre en España"
   ],
   "cell_type": "markdown",
   "metadata": {}
  },
  {
   "cell_type": "code",
   "execution_count": 54,
   "metadata": {},
   "outputs": [
    {
     "output_type": "display_data",
     "data": {
      "application/vnd.plotly.v1+json": {
       "config": {
        "plotlyServerURL": "https://plot.ly"
       },
       "data": [
        {
         "hovertemplate": "Trimestre=%{x|%B-%Y}<br>Criminalidad=%{y}<extra></extra>",
         "legendgroup": "",
         "line": {
          "color": "#636efa",
          "dash": "solid"
         },
         "mode": "markers+lines",
         "name": "",
         "orientation": "v",
         "showlegend": false,
         "type": "scatter",
         "x": [
          "2016-01-01T00:00:00",
          "2016-04-01T00:00:00",
          "2016-07-01T00:00:00",
          "2016-10-01T00:00:00",
          "2017-01-01T00:00:00",
          "2017-04-01T00:00:00",
          "2017-07-01T00:00:00",
          "2017-10-01T00:00:00",
          "2018-01-01T00:00:00",
          "2018-04-01T00:00:00",
          "2018-07-01T00:00:00",
          "2018-10-01T00:00:00",
          "2019-01-01T00:00:00",
          "2019-04-01T00:00:00",
          "2019-07-01T00:00:00",
          "2019-10-01T00:00:00",
          "2020-01-01T00:00:00",
          "2020-04-01T00:00:00",
          "2020-07-01T00:00:00",
          "2020-10-01T00:00:00"
         ],
         "xaxis": "x",
         "y": [
          488109,
          504367,
          526391,
          490823,
          496307,
          503617,
          527882,
          517979,
          503670,
          522043,
          557166,
          548545,
          529757,
          540664,
          576435,
          555003,
          481872,
          321737,
          508872,
          460885
         ],
         "yaxis": "y"
        }
       ],
       "layout": {
        "legend": {
         "tracegroupgap": 0
        },
        "template": {
         "data": {
          "bar": [
           {
            "error_x": {
             "color": "#2a3f5f"
            },
            "error_y": {
             "color": "#2a3f5f"
            },
            "marker": {
             "line": {
              "color": "#E5ECF6",
              "width": 0.5
             }
            },
            "type": "bar"
           }
          ],
          "barpolar": [
           {
            "marker": {
             "line": {
              "color": "#E5ECF6",
              "width": 0.5
             }
            },
            "type": "barpolar"
           }
          ],
          "carpet": [
           {
            "aaxis": {
             "endlinecolor": "#2a3f5f",
             "gridcolor": "white",
             "linecolor": "white",
             "minorgridcolor": "white",
             "startlinecolor": "#2a3f5f"
            },
            "baxis": {
             "endlinecolor": "#2a3f5f",
             "gridcolor": "white",
             "linecolor": "white",
             "minorgridcolor": "white",
             "startlinecolor": "#2a3f5f"
            },
            "type": "carpet"
           }
          ],
          "choropleth": [
           {
            "colorbar": {
             "outlinewidth": 0,
             "ticks": ""
            },
            "type": "choropleth"
           }
          ],
          "contour": [
           {
            "colorbar": {
             "outlinewidth": 0,
             "ticks": ""
            },
            "colorscale": [
             [
              0,
              "#0d0887"
             ],
             [
              0.1111111111111111,
              "#46039f"
             ],
             [
              0.2222222222222222,
              "#7201a8"
             ],
             [
              0.3333333333333333,
              "#9c179e"
             ],
             [
              0.4444444444444444,
              "#bd3786"
             ],
             [
              0.5555555555555556,
              "#d8576b"
             ],
             [
              0.6666666666666666,
              "#ed7953"
             ],
             [
              0.7777777777777778,
              "#fb9f3a"
             ],
             [
              0.8888888888888888,
              "#fdca26"
             ],
             [
              1,
              "#f0f921"
             ]
            ],
            "type": "contour"
           }
          ],
          "contourcarpet": [
           {
            "colorbar": {
             "outlinewidth": 0,
             "ticks": ""
            },
            "type": "contourcarpet"
           }
          ],
          "heatmap": [
           {
            "colorbar": {
             "outlinewidth": 0,
             "ticks": ""
            },
            "colorscale": [
             [
              0,
              "#0d0887"
             ],
             [
              0.1111111111111111,
              "#46039f"
             ],
             [
              0.2222222222222222,
              "#7201a8"
             ],
             [
              0.3333333333333333,
              "#9c179e"
             ],
             [
              0.4444444444444444,
              "#bd3786"
             ],
             [
              0.5555555555555556,
              "#d8576b"
             ],
             [
              0.6666666666666666,
              "#ed7953"
             ],
             [
              0.7777777777777778,
              "#fb9f3a"
             ],
             [
              0.8888888888888888,
              "#fdca26"
             ],
             [
              1,
              "#f0f921"
             ]
            ],
            "type": "heatmap"
           }
          ],
          "heatmapgl": [
           {
            "colorbar": {
             "outlinewidth": 0,
             "ticks": ""
            },
            "colorscale": [
             [
              0,
              "#0d0887"
             ],
             [
              0.1111111111111111,
              "#46039f"
             ],
             [
              0.2222222222222222,
              "#7201a8"
             ],
             [
              0.3333333333333333,
              "#9c179e"
             ],
             [
              0.4444444444444444,
              "#bd3786"
             ],
             [
              0.5555555555555556,
              "#d8576b"
             ],
             [
              0.6666666666666666,
              "#ed7953"
             ],
             [
              0.7777777777777778,
              "#fb9f3a"
             ],
             [
              0.8888888888888888,
              "#fdca26"
             ],
             [
              1,
              "#f0f921"
             ]
            ],
            "type": "heatmapgl"
           }
          ],
          "histogram": [
           {
            "marker": {
             "colorbar": {
              "outlinewidth": 0,
              "ticks": ""
             }
            },
            "type": "histogram"
           }
          ],
          "histogram2d": [
           {
            "colorbar": {
             "outlinewidth": 0,
             "ticks": ""
            },
            "colorscale": [
             [
              0,
              "#0d0887"
             ],
             [
              0.1111111111111111,
              "#46039f"
             ],
             [
              0.2222222222222222,
              "#7201a8"
             ],
             [
              0.3333333333333333,
              "#9c179e"
             ],
             [
              0.4444444444444444,
              "#bd3786"
             ],
             [
              0.5555555555555556,
              "#d8576b"
             ],
             [
              0.6666666666666666,
              "#ed7953"
             ],
             [
              0.7777777777777778,
              "#fb9f3a"
             ],
             [
              0.8888888888888888,
              "#fdca26"
             ],
             [
              1,
              "#f0f921"
             ]
            ],
            "type": "histogram2d"
           }
          ],
          "histogram2dcontour": [
           {
            "colorbar": {
             "outlinewidth": 0,
             "ticks": ""
            },
            "colorscale": [
             [
              0,
              "#0d0887"
             ],
             [
              0.1111111111111111,
              "#46039f"
             ],
             [
              0.2222222222222222,
              "#7201a8"
             ],
             [
              0.3333333333333333,
              "#9c179e"
             ],
             [
              0.4444444444444444,
              "#bd3786"
             ],
             [
              0.5555555555555556,
              "#d8576b"
             ],
             [
              0.6666666666666666,
              "#ed7953"
             ],
             [
              0.7777777777777778,
              "#fb9f3a"
             ],
             [
              0.8888888888888888,
              "#fdca26"
             ],
             [
              1,
              "#f0f921"
             ]
            ],
            "type": "histogram2dcontour"
           }
          ],
          "mesh3d": [
           {
            "colorbar": {
             "outlinewidth": 0,
             "ticks": ""
            },
            "type": "mesh3d"
           }
          ],
          "parcoords": [
           {
            "line": {
             "colorbar": {
              "outlinewidth": 0,
              "ticks": ""
             }
            },
            "type": "parcoords"
           }
          ],
          "pie": [
           {
            "automargin": true,
            "type": "pie"
           }
          ],
          "scatter": [
           {
            "marker": {
             "colorbar": {
              "outlinewidth": 0,
              "ticks": ""
             }
            },
            "type": "scatter"
           }
          ],
          "scatter3d": [
           {
            "line": {
             "colorbar": {
              "outlinewidth": 0,
              "ticks": ""
             }
            },
            "marker": {
             "colorbar": {
              "outlinewidth": 0,
              "ticks": ""
             }
            },
            "type": "scatter3d"
           }
          ],
          "scattercarpet": [
           {
            "marker": {
             "colorbar": {
              "outlinewidth": 0,
              "ticks": ""
             }
            },
            "type": "scattercarpet"
           }
          ],
          "scattergeo": [
           {
            "marker": {
             "colorbar": {
              "outlinewidth": 0,
              "ticks": ""
             }
            },
            "type": "scattergeo"
           }
          ],
          "scattergl": [
           {
            "marker": {
             "colorbar": {
              "outlinewidth": 0,
              "ticks": ""
             }
            },
            "type": "scattergl"
           }
          ],
          "scattermapbox": [
           {
            "marker": {
             "colorbar": {
              "outlinewidth": 0,
              "ticks": ""
             }
            },
            "type": "scattermapbox"
           }
          ],
          "scatterpolar": [
           {
            "marker": {
             "colorbar": {
              "outlinewidth": 0,
              "ticks": ""
             }
            },
            "type": "scatterpolar"
           }
          ],
          "scatterpolargl": [
           {
            "marker": {
             "colorbar": {
              "outlinewidth": 0,
              "ticks": ""
             }
            },
            "type": "scatterpolargl"
           }
          ],
          "scatterternary": [
           {
            "marker": {
             "colorbar": {
              "outlinewidth": 0,
              "ticks": ""
             }
            },
            "type": "scatterternary"
           }
          ],
          "surface": [
           {
            "colorbar": {
             "outlinewidth": 0,
             "ticks": ""
            },
            "colorscale": [
             [
              0,
              "#0d0887"
             ],
             [
              0.1111111111111111,
              "#46039f"
             ],
             [
              0.2222222222222222,
              "#7201a8"
             ],
             [
              0.3333333333333333,
              "#9c179e"
             ],
             [
              0.4444444444444444,
              "#bd3786"
             ],
             [
              0.5555555555555556,
              "#d8576b"
             ],
             [
              0.6666666666666666,
              "#ed7953"
             ],
             [
              0.7777777777777778,
              "#fb9f3a"
             ],
             [
              0.8888888888888888,
              "#fdca26"
             ],
             [
              1,
              "#f0f921"
             ]
            ],
            "type": "surface"
           }
          ],
          "table": [
           {
            "cells": {
             "fill": {
              "color": "#EBF0F8"
             },
             "line": {
              "color": "white"
             }
            },
            "header": {
             "fill": {
              "color": "#C8D4E3"
             },
             "line": {
              "color": "white"
             }
            },
            "type": "table"
           }
          ]
         },
         "layout": {
          "annotationdefaults": {
           "arrowcolor": "#2a3f5f",
           "arrowhead": 0,
           "arrowwidth": 1
          },
          "autotypenumbers": "strict",
          "coloraxis": {
           "colorbar": {
            "outlinewidth": 0,
            "ticks": ""
           }
          },
          "colorscale": {
           "diverging": [
            [
             0,
             "#8e0152"
            ],
            [
             0.1,
             "#c51b7d"
            ],
            [
             0.2,
             "#de77ae"
            ],
            [
             0.3,
             "#f1b6da"
            ],
            [
             0.4,
             "#fde0ef"
            ],
            [
             0.5,
             "#f7f7f7"
            ],
            [
             0.6,
             "#e6f5d0"
            ],
            [
             0.7,
             "#b8e186"
            ],
            [
             0.8,
             "#7fbc41"
            ],
            [
             0.9,
             "#4d9221"
            ],
            [
             1,
             "#276419"
            ]
           ],
           "sequential": [
            [
             0,
             "#0d0887"
            ],
            [
             0.1111111111111111,
             "#46039f"
            ],
            [
             0.2222222222222222,
             "#7201a8"
            ],
            [
             0.3333333333333333,
             "#9c179e"
            ],
            [
             0.4444444444444444,
             "#bd3786"
            ],
            [
             0.5555555555555556,
             "#d8576b"
            ],
            [
             0.6666666666666666,
             "#ed7953"
            ],
            [
             0.7777777777777778,
             "#fb9f3a"
            ],
            [
             0.8888888888888888,
             "#fdca26"
            ],
            [
             1,
             "#f0f921"
            ]
           ],
           "sequentialminus": [
            [
             0,
             "#0d0887"
            ],
            [
             0.1111111111111111,
             "#46039f"
            ],
            [
             0.2222222222222222,
             "#7201a8"
            ],
            [
             0.3333333333333333,
             "#9c179e"
            ],
            [
             0.4444444444444444,
             "#bd3786"
            ],
            [
             0.5555555555555556,
             "#d8576b"
            ],
            [
             0.6666666666666666,
             "#ed7953"
            ],
            [
             0.7777777777777778,
             "#fb9f3a"
            ],
            [
             0.8888888888888888,
             "#fdca26"
            ],
            [
             1,
             "#f0f921"
            ]
           ]
          },
          "colorway": [
           "#636efa",
           "#EF553B",
           "#00cc96",
           "#ab63fa",
           "#FFA15A",
           "#19d3f3",
           "#FF6692",
           "#B6E880",
           "#FF97FF",
           "#FECB52"
          ],
          "font": {
           "color": "#2a3f5f"
          },
          "geo": {
           "bgcolor": "white",
           "lakecolor": "white",
           "landcolor": "#E5ECF6",
           "showlakes": true,
           "showland": true,
           "subunitcolor": "white"
          },
          "hoverlabel": {
           "align": "left"
          },
          "hovermode": "closest",
          "mapbox": {
           "style": "light"
          },
          "paper_bgcolor": "white",
          "plot_bgcolor": "#E5ECF6",
          "polar": {
           "angularaxis": {
            "gridcolor": "white",
            "linecolor": "white",
            "ticks": ""
           },
           "bgcolor": "#E5ECF6",
           "radialaxis": {
            "gridcolor": "white",
            "linecolor": "white",
            "ticks": ""
           }
          },
          "scene": {
           "xaxis": {
            "backgroundcolor": "#E5ECF6",
            "gridcolor": "white",
            "gridwidth": 2,
            "linecolor": "white",
            "showbackground": true,
            "ticks": "",
            "zerolinecolor": "white"
           },
           "yaxis": {
            "backgroundcolor": "#E5ECF6",
            "gridcolor": "white",
            "gridwidth": 2,
            "linecolor": "white",
            "showbackground": true,
            "ticks": "",
            "zerolinecolor": "white"
           },
           "zaxis": {
            "backgroundcolor": "#E5ECF6",
            "gridcolor": "white",
            "gridwidth": 2,
            "linecolor": "white",
            "showbackground": true,
            "ticks": "",
            "zerolinecolor": "white"
           }
          },
          "shapedefaults": {
           "line": {
            "color": "#2a3f5f"
           }
          },
          "ternary": {
           "aaxis": {
            "gridcolor": "white",
            "linecolor": "white",
            "ticks": ""
           },
           "baxis": {
            "gridcolor": "white",
            "linecolor": "white",
            "ticks": ""
           },
           "bgcolor": "#E5ECF6",
           "caxis": {
            "gridcolor": "white",
            "linecolor": "white",
            "ticks": ""
           }
          },
          "title": {
           "x": 0.05
          },
          "xaxis": {
           "automargin": true,
           "gridcolor": "white",
           "linecolor": "white",
           "ticks": "",
           "title": {
            "standoff": 15
           },
           "zerolinecolor": "white",
           "zerolinewidth": 2
          },
          "yaxis": {
           "automargin": true,
           "gridcolor": "white",
           "linecolor": "white",
           "ticks": "",
           "title": {
            "standoff": 15
           },
           "zerolinecolor": "white",
           "zerolinewidth": 2
          }
         }
        },
        "title": {
         "text": "Evolución Trimestral del crimen en España (2016-2020)"
        },
        "xaxis": {
         "anchor": "y",
         "domain": [
          0,
          1
         ],
         "dtick": "M3",
         "tickformat": "%q-%Y",
         "title": {
          "text": "Trimestre"
         }
        },
        "yaxis": {
         "anchor": "x",
         "domain": [
          0,
          1
         ],
         "title": {
          "text": "Criminalidad"
         }
        }
       }
      }
     },
     "metadata": {}
    }
   ],
   "source": [
    "\n",
    "comunidadQColumns = ['Comunidad',*qcolumns]\n",
    "\n",
    "total_espana_graph =total_espana[comunidadQColumns]\n",
    "\n",
    "total_espana_graph = pd.melt(total_espana_graph,id_vars=['Comunidad'],value_vars=qcolumns, var_name='Trimestre',value_name='Criminalidad')\n",
    "\n",
    "total_espana_graph.Trimestre =pd.to_datetime(total_espana_graph.Trimestre)\n",
    "fig = px.line(total_espana_graph, x=\"Trimestre\", y='Criminalidad',\n",
    "                hover_data={\"Trimestre\": \"|%B-%Y\"},\n",
    "              title='Evolución Trimestral del crimen en España (2016-2020)')\n",
    "fig.update_traces(mode=\"markers+lines\")\n",
    "fig.update_xaxes(dtick=\"M3\",tickformat=\"%q-%Y\")\n",
    "fig.show()\n",
    "\n",
    "\n"
   ]
  },
  {
   "source": [
    "Explicación: patrón claro con picos máx en el tercer trimestre del año y pico mínimo en el primer trimestre. Tendencia creaciente, hasta 2020, que hay un abrupto desdenso, sobre todo en el segundo trimestre, coincidiendo con el confinamiento"
   ],
   "cell_type": "markdown",
   "metadata": {}
  },
  {
   "cell_type": "code",
   "execution_count": 55,
   "metadata": {},
   "outputs": [
    {
     "output_type": "display_data",
     "data": {
      "application/vnd.plotly.v1+json": {
       "config": {
        "plotlyServerURL": "https://plot.ly"
       },
       "data": [
        {
         "hovertemplate": "Delito= Robos con fuerza en domicilios, establecimientos y otras instalaciones<br>Trimestre=%{x|%B %d, %Y}<br>value=%{y}<extra></extra>",
         "legendgroup": " Robos con fuerza en domicilios, establecimientos y otras instalaciones",
         "line": {
          "color": "#636efa",
          "dash": "solid"
         },
         "mode": "lines",
         "name": " Robos con fuerza en domicilios, establecimientos y otras instalaciones",
         "orientation": "v",
         "showlegend": true,
         "type": "scatter",
         "x": [
          "2016-01-01T00:00:00",
          "2016-04-01T00:00:00",
          "2016-07-01T00:00:00",
          "2016-10-01T00:00:00",
          "2017-01-01T00:00:00",
          "2017-04-01T00:00:00",
          "2017-07-01T00:00:00",
          "2017-10-01T00:00:00",
          "2018-01-01T00:00:00",
          "2018-04-01T00:00:00",
          "2018-07-01T00:00:00",
          "2018-10-01T00:00:00",
          "2019-01-01T00:00:00",
          "2019-04-01T00:00:00",
          "2019-07-01T00:00:00",
          "2019-10-01T00:00:00",
          "2020-01-01T00:00:00",
          "2020-04-01T00:00:00",
          "2020-07-01T00:00:00",
          "2020-10-01T00:00:00"
         ],
         "xaxis": "x",
         "y": [
          44119,
          38463,
          38791,
          39480,
          39651,
          34405,
          36296,
          39299,
          40265,
          35085,
          36558,
          38671,
          37157,
          32955,
          35147,
          37521,
          31933,
          16267,
          29298,
          25795
         ],
         "yaxis": "y"
        },
        {
         "hovertemplate": "Delito=Delitos contra la libertad e indemnidad sexual<br>Trimestre=%{x|%B %d, %Y}<br>value=%{y}<extra></extra>",
         "legendgroup": "Delitos contra la libertad e indemnidad sexual",
         "line": {
          "color": "#EF553B",
          "dash": "solid"
         },
         "mode": "lines",
         "name": "Delitos contra la libertad e indemnidad sexual",
         "orientation": "v",
         "showlegend": true,
         "type": "scatter",
         "x": [
          "2016-01-01T00:00:00",
          "2016-04-01T00:00:00",
          "2016-07-01T00:00:00",
          "2016-10-01T00:00:00",
          "2017-01-01T00:00:00",
          "2017-04-01T00:00:00",
          "2017-07-01T00:00:00",
          "2017-10-01T00:00:00",
          "2018-01-01T00:00:00",
          "2018-04-01T00:00:00",
          "2018-07-01T00:00:00",
          "2018-10-01T00:00:00",
          "2019-01-01T00:00:00",
          "2019-04-01T00:00:00",
          "2019-07-01T00:00:00",
          "2019-10-01T00:00:00",
          "2020-01-01T00:00:00",
          "2020-04-01T00:00:00",
          "2020-07-01T00:00:00",
          "2020-10-01T00:00:00"
         ],
         "xaxis": "x",
         "y": [
          2469,
          2776,
          3092,
          2507,
          2667,
          3048,
          3277,
          2700,
          3026,
          3494,
          3925,
          3366,
          3576,
          3682,
          4329,
          3751,
          3355,
          2784,
          4015,
          3086
         ],
         "yaxis": "y"
        },
        {
         "hovertemplate": "Delito=Delitos graves y menos graves de lesiones y riña tumultuaria<br>Trimestre=%{x|%B %d, %Y}<br>value=%{y}<extra></extra>",
         "legendgroup": "Delitos graves y menos graves de lesiones y riña tumultuaria",
         "line": {
          "color": "#00cc96",
          "dash": "solid"
         },
         "mode": "lines",
         "name": "Delitos graves y menos graves de lesiones y riña tumultuaria",
         "orientation": "v",
         "showlegend": true,
         "type": "scatter",
         "x": [
          "2016-01-01T00:00:00",
          "2016-04-01T00:00:00",
          "2016-07-01T00:00:00",
          "2016-10-01T00:00:00",
          "2017-01-01T00:00:00",
          "2017-04-01T00:00:00",
          "2017-07-01T00:00:00",
          "2017-10-01T00:00:00",
          "2018-01-01T00:00:00",
          "2018-04-01T00:00:00",
          "2018-07-01T00:00:00",
          "2018-10-01T00:00:00",
          "2019-01-01T00:00:00",
          "2019-04-01T00:00:00",
          "2019-07-01T00:00:00",
          "2019-10-01T00:00:00",
          "2020-01-01T00:00:00",
          "2020-04-01T00:00:00",
          "2020-07-01T00:00:00",
          "2020-10-01T00:00:00"
         ],
         "xaxis": "x",
         "y": [
          3934,
          4376,
          4934,
          4087,
          3955,
          4399,
          5034,
          4698,
          3915,
          4398,
          5449,
          4490,
          4476,
          4663,
          5879,
          4956,
          4087,
          3171,
          5211,
          3544
         ],
         "yaxis": "y"
        },
        {
         "hovertemplate": "Delito=Homicidios dolosos y asesinatos consumados<br>Trimestre=%{x|%B %d, %Y}<br>value=%{y}<extra></extra>",
         "legendgroup": "Homicidios dolosos y asesinatos consumados",
         "line": {
          "color": "#ab63fa",
          "dash": "solid"
         },
         "mode": "lines",
         "name": "Homicidios dolosos y asesinatos consumados",
         "orientation": "v",
         "showlegend": true,
         "type": "scatter",
         "x": [
          "2016-01-01T00:00:00",
          "2016-04-01T00:00:00",
          "2016-07-01T00:00:00",
          "2016-10-01T00:00:00",
          "2017-01-01T00:00:00",
          "2017-04-01T00:00:00",
          "2017-07-01T00:00:00",
          "2017-10-01T00:00:00",
          "2018-01-01T00:00:00",
          "2018-04-01T00:00:00",
          "2018-07-01T00:00:00",
          "2018-10-01T00:00:00",
          "2019-01-01T00:00:00",
          "2019-04-01T00:00:00",
          "2019-07-01T00:00:00",
          "2019-10-01T00:00:00",
          "2020-01-01T00:00:00",
          "2020-04-01T00:00:00",
          "2020-07-01T00:00:00",
          "2020-10-01T00:00:00"
         ],
         "xaxis": "x",
         "y": [
          73,
          74,
          82,
          65,
          78,
          74,
          88,
          68,
          73,
          72,
          82,
          62,
          75,
          70,
          104,
          83,
          84,
          59,
          89,
          67
         ],
         "yaxis": "y"
        },
        {
         "hovertemplate": "Delito=Homicidios dolosos y asesinatos en grado tentativa<br>Trimestre=%{x|%B %d, %Y}<br>value=%{y}<extra></extra>",
         "legendgroup": "Homicidios dolosos y asesinatos en grado tentativa",
         "line": {
          "color": "#FFA15A",
          "dash": "solid"
         },
         "mode": "lines",
         "name": "Homicidios dolosos y asesinatos en grado tentativa",
         "orientation": "v",
         "showlegend": true,
         "type": "scatter",
         "x": [
          "2016-01-01T00:00:00",
          "2016-04-01T00:00:00",
          "2016-07-01T00:00:00",
          "2016-10-01T00:00:00",
          "2017-01-01T00:00:00",
          "2017-04-01T00:00:00",
          "2017-07-01T00:00:00",
          "2017-10-01T00:00:00",
          "2018-01-01T00:00:00",
          "2018-04-01T00:00:00",
          "2018-07-01T00:00:00",
          "2018-10-01T00:00:00",
          "2019-01-01T00:00:00",
          "2019-04-01T00:00:00",
          "2019-07-01T00:00:00",
          "2019-10-01T00:00:00",
          "2020-01-01T00:00:00",
          "2020-04-01T00:00:00",
          "2020-07-01T00:00:00",
          "2020-10-01T00:00:00"
         ],
         "xaxis": "x",
         "y": [
          159,
          218,
          226,
          210,
          217,
          224,
          222,
          136,
          171,
          183,
          226,
          218,
          196,
          210,
          223,
          208,
          184,
          227,
          314,
          184
         ],
         "yaxis": "y"
        },
        {
         "hovertemplate": "Delito=Hurtos<br>Trimestre=%{x|%B %d, %Y}<br>value=%{y}<extra></extra>",
         "legendgroup": "Hurtos",
         "line": {
          "color": "#19d3f3",
          "dash": "solid"
         },
         "mode": "lines",
         "name": "Hurtos",
         "orientation": "v",
         "showlegend": true,
         "type": "scatter",
         "x": [
          "2016-01-01T00:00:00",
          "2016-04-01T00:00:00",
          "2016-07-01T00:00:00",
          "2016-10-01T00:00:00",
          "2017-01-01T00:00:00",
          "2017-04-01T00:00:00",
          "2017-07-01T00:00:00",
          "2017-10-01T00:00:00",
          "2018-01-01T00:00:00",
          "2018-04-01T00:00:00",
          "2018-07-01T00:00:00",
          "2018-10-01T00:00:00",
          "2019-01-01T00:00:00",
          "2019-04-01T00:00:00",
          "2019-07-01T00:00:00",
          "2019-10-01T00:00:00",
          "2020-01-01T00:00:00",
          "2020-04-01T00:00:00",
          "2020-07-01T00:00:00",
          "2020-10-01T00:00:00"
         ],
         "xaxis": "x",
         "y": [
          169575,
          178597,
          192337,
          170998,
          168642,
          175557,
          192553,
          175646,
          165036,
          175879,
          188352,
          175982,
          168862,
          174647,
          185646,
          171322,
          138598,
          51461,
          119854,
          111335
         ],
         "yaxis": "y"
        },
        {
         "hovertemplate": "Delito=Robos con violencia e intimidación<br>Trimestre=%{x|%B %d, %Y}<br>value=%{y}<extra></extra>",
         "legendgroup": "Robos con violencia e intimidación",
         "line": {
          "color": "#FF6692",
          "dash": "solid"
         },
         "mode": "lines",
         "name": "Robos con violencia e intimidación",
         "orientation": "v",
         "showlegend": true,
         "type": "scatter",
         "x": [
          "2016-01-01T00:00:00",
          "2016-04-01T00:00:00",
          "2016-07-01T00:00:00",
          "2016-10-01T00:00:00",
          "2017-01-01T00:00:00",
          "2017-04-01T00:00:00",
          "2017-07-01T00:00:00",
          "2017-10-01T00:00:00",
          "2018-01-01T00:00:00",
          "2018-04-01T00:00:00",
          "2018-07-01T00:00:00",
          "2018-10-01T00:00:00",
          "2019-01-01T00:00:00",
          "2019-04-01T00:00:00",
          "2019-07-01T00:00:00",
          "2019-10-01T00:00:00",
          "2020-01-01T00:00:00",
          "2020-04-01T00:00:00",
          "2020-07-01T00:00:00",
          "2020-10-01T00:00:00"
         ],
         "xaxis": "x",
         "y": [
          15482,
          15072,
          16494,
          15904,
          15622,
          14713,
          15823,
          15605,
          14384,
          13897,
          15861,
          16535,
          15482,
          15713,
          17309,
          17705,
          14602,
          6674,
          13937,
          10259
         ],
         "yaxis": "y"
        },
        {
         "hovertemplate": "Delito=Secuestro<br>Trimestre=%{x|%B %d, %Y}<br>value=%{y}<extra></extra>",
         "legendgroup": "Secuestro",
         "line": {
          "color": "#B6E880",
          "dash": "solid"
         },
         "mode": "lines",
         "name": "Secuestro",
         "orientation": "v",
         "showlegend": true,
         "type": "scatter",
         "x": [
          "2016-01-01T00:00:00",
          "2016-04-01T00:00:00",
          "2016-07-01T00:00:00",
          "2016-10-01T00:00:00",
          "2017-01-01T00:00:00",
          "2017-04-01T00:00:00",
          "2017-07-01T00:00:00",
          "2017-10-01T00:00:00",
          "2018-01-01T00:00:00",
          "2018-04-01T00:00:00",
          "2018-07-01T00:00:00",
          "2018-10-01T00:00:00",
          "2019-01-01T00:00:00",
          "2019-04-01T00:00:00",
          "2019-07-01T00:00:00",
          "2019-10-01T00:00:00",
          "2020-01-01T00:00:00",
          "2020-04-01T00:00:00",
          "2020-07-01T00:00:00",
          "2020-10-01T00:00:00"
         ],
         "xaxis": "x",
         "y": [
          29,
          24,
          25,
          16,
          15,
          19,
          16,
          19,
          22,
          14,
          18,
          27,
          26,
          25,
          21,
          18,
          19,
          17,
          25,
          18
         ],
         "yaxis": "y"
        },
        {
         "hovertemplate": "Delito=Sustracciones de vehículos<br>Trimestre=%{x|%B %d, %Y}<br>value=%{y}<extra></extra>",
         "legendgroup": "Sustracciones de vehículos",
         "line": {
          "color": "#FF97FF",
          "dash": "solid"
         },
         "mode": "lines",
         "name": "Sustracciones de vehículos",
         "orientation": "v",
         "showlegend": true,
         "type": "scatter",
         "x": [
          "2016-01-01T00:00:00",
          "2016-04-01T00:00:00",
          "2016-07-01T00:00:00",
          "2016-10-01T00:00:00",
          "2017-01-01T00:00:00",
          "2017-04-01T00:00:00",
          "2017-07-01T00:00:00",
          "2017-10-01T00:00:00",
          "2018-01-01T00:00:00",
          "2018-04-01T00:00:00",
          "2018-07-01T00:00:00",
          "2018-10-01T00:00:00",
          "2019-01-01T00:00:00",
          "2019-04-01T00:00:00",
          "2019-07-01T00:00:00",
          "2019-10-01T00:00:00",
          "2020-01-01T00:00:00",
          "2020-04-01T00:00:00",
          "2020-07-01T00:00:00",
          "2020-10-01T00:00:00"
         ],
         "xaxis": "x",
         "y": [
          10125,
          10708,
          11223,
          11279,
          10963,
          11141,
          10441,
          9974,
          8777,
          8904,
          9181,
          9290,
          8879,
          8621,
          8783,
          8965,
          7470,
          4080,
          7845,
          6613
         ],
         "yaxis": "y"
        },
        {
         "hovertemplate": "Delito=Tráfico de drogas<br>Trimestre=%{x|%B %d, %Y}<br>value=%{y}<extra></extra>",
         "legendgroup": "Tráfico de drogas",
         "line": {
          "color": "#FECB52",
          "dash": "solid"
         },
         "mode": "lines",
         "name": "Tráfico de drogas",
         "orientation": "v",
         "showlegend": true,
         "type": "scatter",
         "x": [
          "2016-01-01T00:00:00",
          "2016-04-01T00:00:00",
          "2016-07-01T00:00:00",
          "2016-10-01T00:00:00",
          "2017-01-01T00:00:00",
          "2017-04-01T00:00:00",
          "2017-07-01T00:00:00",
          "2017-10-01T00:00:00",
          "2018-01-01T00:00:00",
          "2018-04-01T00:00:00",
          "2018-07-01T00:00:00",
          "2018-10-01T00:00:00",
          "2019-01-01T00:00:00",
          "2019-04-01T00:00:00",
          "2019-07-01T00:00:00",
          "2019-10-01T00:00:00",
          "2020-01-01T00:00:00",
          "2020-04-01T00:00:00",
          "2020-07-01T00:00:00",
          "2020-10-01T00:00:00"
         ],
         "xaxis": "x",
         "y": [
          2707,
          3372,
          3531,
          2838,
          3011,
          3446,
          3653,
          2848,
          3156,
          3749,
          3929,
          3291,
          3663,
          4042,
          4644,
          3919,
          3856,
          4215,
          4591,
          4334
         ],
         "yaxis": "y"
        }
       ],
       "layout": {
        "height": 400,
        "legend": {
         "title": {
          "text": "Delito"
         },
         "tracegroupgap": 0
        },
        "showlegend": true,
        "template": {
         "data": {
          "bar": [
           {
            "error_x": {
             "color": "#2a3f5f"
            },
            "error_y": {
             "color": "#2a3f5f"
            },
            "marker": {
             "line": {
              "color": "#E5ECF6",
              "width": 0.5
             }
            },
            "type": "bar"
           }
          ],
          "barpolar": [
           {
            "marker": {
             "line": {
              "color": "#E5ECF6",
              "width": 0.5
             }
            },
            "type": "barpolar"
           }
          ],
          "carpet": [
           {
            "aaxis": {
             "endlinecolor": "#2a3f5f",
             "gridcolor": "white",
             "linecolor": "white",
             "minorgridcolor": "white",
             "startlinecolor": "#2a3f5f"
            },
            "baxis": {
             "endlinecolor": "#2a3f5f",
             "gridcolor": "white",
             "linecolor": "white",
             "minorgridcolor": "white",
             "startlinecolor": "#2a3f5f"
            },
            "type": "carpet"
           }
          ],
          "choropleth": [
           {
            "colorbar": {
             "outlinewidth": 0,
             "ticks": ""
            },
            "type": "choropleth"
           }
          ],
          "contour": [
           {
            "colorbar": {
             "outlinewidth": 0,
             "ticks": ""
            },
            "colorscale": [
             [
              0,
              "#0d0887"
             ],
             [
              0.1111111111111111,
              "#46039f"
             ],
             [
              0.2222222222222222,
              "#7201a8"
             ],
             [
              0.3333333333333333,
              "#9c179e"
             ],
             [
              0.4444444444444444,
              "#bd3786"
             ],
             [
              0.5555555555555556,
              "#d8576b"
             ],
             [
              0.6666666666666666,
              "#ed7953"
             ],
             [
              0.7777777777777778,
              "#fb9f3a"
             ],
             [
              0.8888888888888888,
              "#fdca26"
             ],
             [
              1,
              "#f0f921"
             ]
            ],
            "type": "contour"
           }
          ],
          "contourcarpet": [
           {
            "colorbar": {
             "outlinewidth": 0,
             "ticks": ""
            },
            "type": "contourcarpet"
           }
          ],
          "heatmap": [
           {
            "colorbar": {
             "outlinewidth": 0,
             "ticks": ""
            },
            "colorscale": [
             [
              0,
              "#0d0887"
             ],
             [
              0.1111111111111111,
              "#46039f"
             ],
             [
              0.2222222222222222,
              "#7201a8"
             ],
             [
              0.3333333333333333,
              "#9c179e"
             ],
             [
              0.4444444444444444,
              "#bd3786"
             ],
             [
              0.5555555555555556,
              "#d8576b"
             ],
             [
              0.6666666666666666,
              "#ed7953"
             ],
             [
              0.7777777777777778,
              "#fb9f3a"
             ],
             [
              0.8888888888888888,
              "#fdca26"
             ],
             [
              1,
              "#f0f921"
             ]
            ],
            "type": "heatmap"
           }
          ],
          "heatmapgl": [
           {
            "colorbar": {
             "outlinewidth": 0,
             "ticks": ""
            },
            "colorscale": [
             [
              0,
              "#0d0887"
             ],
             [
              0.1111111111111111,
              "#46039f"
             ],
             [
              0.2222222222222222,
              "#7201a8"
             ],
             [
              0.3333333333333333,
              "#9c179e"
             ],
             [
              0.4444444444444444,
              "#bd3786"
             ],
             [
              0.5555555555555556,
              "#d8576b"
             ],
             [
              0.6666666666666666,
              "#ed7953"
             ],
             [
              0.7777777777777778,
              "#fb9f3a"
             ],
             [
              0.8888888888888888,
              "#fdca26"
             ],
             [
              1,
              "#f0f921"
             ]
            ],
            "type": "heatmapgl"
           }
          ],
          "histogram": [
           {
            "marker": {
             "colorbar": {
              "outlinewidth": 0,
              "ticks": ""
             }
            },
            "type": "histogram"
           }
          ],
          "histogram2d": [
           {
            "colorbar": {
             "outlinewidth": 0,
             "ticks": ""
            },
            "colorscale": [
             [
              0,
              "#0d0887"
             ],
             [
              0.1111111111111111,
              "#46039f"
             ],
             [
              0.2222222222222222,
              "#7201a8"
             ],
             [
              0.3333333333333333,
              "#9c179e"
             ],
             [
              0.4444444444444444,
              "#bd3786"
             ],
             [
              0.5555555555555556,
              "#d8576b"
             ],
             [
              0.6666666666666666,
              "#ed7953"
             ],
             [
              0.7777777777777778,
              "#fb9f3a"
             ],
             [
              0.8888888888888888,
              "#fdca26"
             ],
             [
              1,
              "#f0f921"
             ]
            ],
            "type": "histogram2d"
           }
          ],
          "histogram2dcontour": [
           {
            "colorbar": {
             "outlinewidth": 0,
             "ticks": ""
            },
            "colorscale": [
             [
              0,
              "#0d0887"
             ],
             [
              0.1111111111111111,
              "#46039f"
             ],
             [
              0.2222222222222222,
              "#7201a8"
             ],
             [
              0.3333333333333333,
              "#9c179e"
             ],
             [
              0.4444444444444444,
              "#bd3786"
             ],
             [
              0.5555555555555556,
              "#d8576b"
             ],
             [
              0.6666666666666666,
              "#ed7953"
             ],
             [
              0.7777777777777778,
              "#fb9f3a"
             ],
             [
              0.8888888888888888,
              "#fdca26"
             ],
             [
              1,
              "#f0f921"
             ]
            ],
            "type": "histogram2dcontour"
           }
          ],
          "mesh3d": [
           {
            "colorbar": {
             "outlinewidth": 0,
             "ticks": ""
            },
            "type": "mesh3d"
           }
          ],
          "parcoords": [
           {
            "line": {
             "colorbar": {
              "outlinewidth": 0,
              "ticks": ""
             }
            },
            "type": "parcoords"
           }
          ],
          "pie": [
           {
            "automargin": true,
            "type": "pie"
           }
          ],
          "scatter": [
           {
            "marker": {
             "colorbar": {
              "outlinewidth": 0,
              "ticks": ""
             }
            },
            "type": "scatter"
           }
          ],
          "scatter3d": [
           {
            "line": {
             "colorbar": {
              "outlinewidth": 0,
              "ticks": ""
             }
            },
            "marker": {
             "colorbar": {
              "outlinewidth": 0,
              "ticks": ""
             }
            },
            "type": "scatter3d"
           }
          ],
          "scattercarpet": [
           {
            "marker": {
             "colorbar": {
              "outlinewidth": 0,
              "ticks": ""
             }
            },
            "type": "scattercarpet"
           }
          ],
          "scattergeo": [
           {
            "marker": {
             "colorbar": {
              "outlinewidth": 0,
              "ticks": ""
             }
            },
            "type": "scattergeo"
           }
          ],
          "scattergl": [
           {
            "marker": {
             "colorbar": {
              "outlinewidth": 0,
              "ticks": ""
             }
            },
            "type": "scattergl"
           }
          ],
          "scattermapbox": [
           {
            "marker": {
             "colorbar": {
              "outlinewidth": 0,
              "ticks": ""
             }
            },
            "type": "scattermapbox"
           }
          ],
          "scatterpolar": [
           {
            "marker": {
             "colorbar": {
              "outlinewidth": 0,
              "ticks": ""
             }
            },
            "type": "scatterpolar"
           }
          ],
          "scatterpolargl": [
           {
            "marker": {
             "colorbar": {
              "outlinewidth": 0,
              "ticks": ""
             }
            },
            "type": "scatterpolargl"
           }
          ],
          "scatterternary": [
           {
            "marker": {
             "colorbar": {
              "outlinewidth": 0,
              "ticks": ""
             }
            },
            "type": "scatterternary"
           }
          ],
          "surface": [
           {
            "colorbar": {
             "outlinewidth": 0,
             "ticks": ""
            },
            "colorscale": [
             [
              0,
              "#0d0887"
             ],
             [
              0.1111111111111111,
              "#46039f"
             ],
             [
              0.2222222222222222,
              "#7201a8"
             ],
             [
              0.3333333333333333,
              "#9c179e"
             ],
             [
              0.4444444444444444,
              "#bd3786"
             ],
             [
              0.5555555555555556,
              "#d8576b"
             ],
             [
              0.6666666666666666,
              "#ed7953"
             ],
             [
              0.7777777777777778,
              "#fb9f3a"
             ],
             [
              0.8888888888888888,
              "#fdca26"
             ],
             [
              1,
              "#f0f921"
             ]
            ],
            "type": "surface"
           }
          ],
          "table": [
           {
            "cells": {
             "fill": {
              "color": "#EBF0F8"
             },
             "line": {
              "color": "white"
             }
            },
            "header": {
             "fill": {
              "color": "#C8D4E3"
             },
             "line": {
              "color": "white"
             }
            },
            "type": "table"
           }
          ]
         },
         "layout": {
          "annotationdefaults": {
           "arrowcolor": "#2a3f5f",
           "arrowhead": 0,
           "arrowwidth": 1
          },
          "autotypenumbers": "strict",
          "coloraxis": {
           "colorbar": {
            "outlinewidth": 0,
            "ticks": ""
           }
          },
          "colorscale": {
           "diverging": [
            [
             0,
             "#8e0152"
            ],
            [
             0.1,
             "#c51b7d"
            ],
            [
             0.2,
             "#de77ae"
            ],
            [
             0.3,
             "#f1b6da"
            ],
            [
             0.4,
             "#fde0ef"
            ],
            [
             0.5,
             "#f7f7f7"
            ],
            [
             0.6,
             "#e6f5d0"
            ],
            [
             0.7,
             "#b8e186"
            ],
            [
             0.8,
             "#7fbc41"
            ],
            [
             0.9,
             "#4d9221"
            ],
            [
             1,
             "#276419"
            ]
           ],
           "sequential": [
            [
             0,
             "#0d0887"
            ],
            [
             0.1111111111111111,
             "#46039f"
            ],
            [
             0.2222222222222222,
             "#7201a8"
            ],
            [
             0.3333333333333333,
             "#9c179e"
            ],
            [
             0.4444444444444444,
             "#bd3786"
            ],
            [
             0.5555555555555556,
             "#d8576b"
            ],
            [
             0.6666666666666666,
             "#ed7953"
            ],
            [
             0.7777777777777778,
             "#fb9f3a"
            ],
            [
             0.8888888888888888,
             "#fdca26"
            ],
            [
             1,
             "#f0f921"
            ]
           ],
           "sequentialminus": [
            [
             0,
             "#0d0887"
            ],
            [
             0.1111111111111111,
             "#46039f"
            ],
            [
             0.2222222222222222,
             "#7201a8"
            ],
            [
             0.3333333333333333,
             "#9c179e"
            ],
            [
             0.4444444444444444,
             "#bd3786"
            ],
            [
             0.5555555555555556,
             "#d8576b"
            ],
            [
             0.6666666666666666,
             "#ed7953"
            ],
            [
             0.7777777777777778,
             "#fb9f3a"
            ],
            [
             0.8888888888888888,
             "#fdca26"
            ],
            [
             1,
             "#f0f921"
            ]
           ]
          },
          "colorway": [
           "#636efa",
           "#EF553B",
           "#00cc96",
           "#ab63fa",
           "#FFA15A",
           "#19d3f3",
           "#FF6692",
           "#B6E880",
           "#FF97FF",
           "#FECB52"
          ],
          "font": {
           "color": "#2a3f5f"
          },
          "geo": {
           "bgcolor": "white",
           "lakecolor": "white",
           "landcolor": "#E5ECF6",
           "showlakes": true,
           "showland": true,
           "subunitcolor": "white"
          },
          "hoverlabel": {
           "align": "left"
          },
          "hovermode": "closest",
          "mapbox": {
           "style": "light"
          },
          "paper_bgcolor": "white",
          "plot_bgcolor": "#E5ECF6",
          "polar": {
           "angularaxis": {
            "gridcolor": "white",
            "linecolor": "white",
            "ticks": ""
           },
           "bgcolor": "#E5ECF6",
           "radialaxis": {
            "gridcolor": "white",
            "linecolor": "white",
            "ticks": ""
           }
          },
          "scene": {
           "xaxis": {
            "backgroundcolor": "#E5ECF6",
            "gridcolor": "white",
            "gridwidth": 2,
            "linecolor": "white",
            "showbackground": true,
            "ticks": "",
            "zerolinecolor": "white"
           },
           "yaxis": {
            "backgroundcolor": "#E5ECF6",
            "gridcolor": "white",
            "gridwidth": 2,
            "linecolor": "white",
            "showbackground": true,
            "ticks": "",
            "zerolinecolor": "white"
           },
           "zaxis": {
            "backgroundcolor": "#E5ECF6",
            "gridcolor": "white",
            "gridwidth": 2,
            "linecolor": "white",
            "showbackground": true,
            "ticks": "",
            "zerolinecolor": "white"
           }
          },
          "shapedefaults": {
           "line": {
            "color": "#2a3f5f"
           }
          },
          "ternary": {
           "aaxis": {
            "gridcolor": "white",
            "linecolor": "white",
            "ticks": ""
           },
           "baxis": {
            "gridcolor": "white",
            "linecolor": "white",
            "ticks": ""
           },
           "bgcolor": "#E5ECF6",
           "caxis": {
            "gridcolor": "white",
            "linecolor": "white",
            "ticks": ""
           }
          },
          "title": {
           "x": 0.05
          },
          "xaxis": {
           "automargin": true,
           "gridcolor": "white",
           "linecolor": "white",
           "ticks": "",
           "title": {
            "standoff": 15
           },
           "zerolinecolor": "white",
           "zerolinewidth": 2
          },
          "yaxis": {
           "automargin": true,
           "gridcolor": "white",
           "linecolor": "white",
           "ticks": "",
           "title": {
            "standoff": 15
           },
           "zerolinecolor": "white",
           "zerolinewidth": 2
          }
         }
        },
        "title": {
         "text": "Evolución Trimestral por tipo de crimen en España (2016-2020)"
        },
        "width": 900,
        "xaxis": {
         "anchor": "y",
         "domain": [
          0,
          1
         ],
         "dtick": "M3",
         "tickformat": "%q-%Y",
         "title": {
          "text": "Trimestre"
         }
        },
        "yaxis": {
         "anchor": "x",
         "domain": [
          0,
          1
         ],
         "title": {
          "text": "value"
         }
        }
       }
      }
     },
     "metadata": {}
    }
   ],
   "source": [
    "\n",
    "delitQColumns = ['code','Delito',*qcolumns]\n",
    "\n",
    "espana_tipo_delito_graph1 = espana_tipo_delito[delitQColumns]\n",
    "\n",
    "espana_tipo_delito_graph1 = pd.melt(espana_tipo_delito_graph1,id_vars=['code','Delito'],value_vars=qcolumns, var_name='Trimestre',value_name='Criminalidad')\n",
    "\n",
    "espana_tipo_delito_graph1 = espana_tipo_delito_graph1.pivot(index='Trimestre',columns='Delito',values='Criminalidad')\n",
    "\n",
    "espana_tipo_delito_graph1 = espana_tipo_delito_graph1.reset_index()\n",
    "\n",
    "espana_tipo_delito_graph1.Trimestre =pd.to_datetime(espana_tipo_delito_graph1.Trimestre)\n",
    "\n",
    "\n",
    "fig = px.line(espana_tipo_delito_graph1, x=\"Trimestre\", y=espana_tipo_delito_graph1.columns,\n",
    "              hover_data={\n",
    "                  \"Trimestre\": \"|%B %d, %Y\",\n",
    "              },\n",
    "              title='Evolución Trimestral por tipo de crimen en España (2016-2020)',\n",
    "              height=400, width=900)\n",
    "fig.update_xaxes(\n",
    "    dtick=\"M3\",\n",
    "    tickformat=\"%q-%Y\")\n",
    "    \n",
    "fig.update_layout(showlegend=True)\n",
    "fig.show()"
   ]
  },
  {
   "cell_type": "code",
   "execution_count": 56,
   "metadata": {},
   "outputs": [
    {
     "output_type": "display_data",
     "data": {
      "application/vnd.plotly.v1+json": {
       "config": {
        "plotlyServerURL": "https://plot.ly"
       },
       "data": [
        {
         "mode": "markers+lines",
         "type": "scatter",
         "x": [
          "2016-01-01T00:00:00",
          "2016-04-01T00:00:00",
          "2016-07-01T00:00:00",
          "2016-10-01T00:00:00",
          "2017-01-01T00:00:00",
          "2017-04-01T00:00:00",
          "2017-07-01T00:00:00",
          "2017-10-01T00:00:00",
          "2018-01-01T00:00:00",
          "2018-04-01T00:00:00",
          "2018-07-01T00:00:00",
          "2018-10-01T00:00:00",
          "2019-01-01T00:00:00",
          "2019-04-01T00:00:00",
          "2019-07-01T00:00:00",
          "2019-10-01T00:00:00",
          "2020-01-01T00:00:00",
          "2020-04-01T00:00:00",
          "2020-07-01T00:00:00",
          "2020-10-01T00:00:00"
         ],
         "xaxis": "x",
         "y": [
          44119,
          38463,
          38791,
          39480,
          39651,
          34405,
          36296,
          39299,
          40265,
          35085,
          36558,
          38671,
          37157,
          32955,
          35147,
          37521,
          31933,
          16267,
          29298,
          25795
         ],
         "yaxis": "y"
        },
        {
         "mode": "markers+lines",
         "type": "scatter",
         "x": [
          "2016-01-01T00:00:00",
          "2016-04-01T00:00:00",
          "2016-07-01T00:00:00",
          "2016-10-01T00:00:00",
          "2017-01-01T00:00:00",
          "2017-04-01T00:00:00",
          "2017-07-01T00:00:00",
          "2017-10-01T00:00:00",
          "2018-01-01T00:00:00",
          "2018-04-01T00:00:00",
          "2018-07-01T00:00:00",
          "2018-10-01T00:00:00",
          "2019-01-01T00:00:00",
          "2019-04-01T00:00:00",
          "2019-07-01T00:00:00",
          "2019-10-01T00:00:00",
          "2020-01-01T00:00:00",
          "2020-04-01T00:00:00",
          "2020-07-01T00:00:00",
          "2020-10-01T00:00:00"
         ],
         "xaxis": "x2",
         "y": [
          2469,
          2776,
          3092,
          2507,
          2667,
          3048,
          3277,
          2700,
          3026,
          3494,
          3925,
          3366,
          3576,
          3682,
          4329,
          3751,
          3355,
          2784,
          4015,
          3086
         ],
         "yaxis": "y2"
        },
        {
         "mode": "markers+lines",
         "type": "scatter",
         "x": [
          "2016-01-01T00:00:00",
          "2016-04-01T00:00:00",
          "2016-07-01T00:00:00",
          "2016-10-01T00:00:00",
          "2017-01-01T00:00:00",
          "2017-04-01T00:00:00",
          "2017-07-01T00:00:00",
          "2017-10-01T00:00:00",
          "2018-01-01T00:00:00",
          "2018-04-01T00:00:00",
          "2018-07-01T00:00:00",
          "2018-10-01T00:00:00",
          "2019-01-01T00:00:00",
          "2019-04-01T00:00:00",
          "2019-07-01T00:00:00",
          "2019-10-01T00:00:00",
          "2020-01-01T00:00:00",
          "2020-04-01T00:00:00",
          "2020-07-01T00:00:00",
          "2020-10-01T00:00:00"
         ],
         "xaxis": "x3",
         "y": [
          3934,
          4376,
          4934,
          4087,
          3955,
          4399,
          5034,
          4698,
          3915,
          4398,
          5449,
          4490,
          4476,
          4663,
          5879,
          4956,
          4087,
          3171,
          5211,
          3544
         ],
         "yaxis": "y3"
        },
        {
         "mode": "markers+lines",
         "type": "scatter",
         "x": [
          "2016-01-01T00:00:00",
          "2016-04-01T00:00:00",
          "2016-07-01T00:00:00",
          "2016-10-01T00:00:00",
          "2017-01-01T00:00:00",
          "2017-04-01T00:00:00",
          "2017-07-01T00:00:00",
          "2017-10-01T00:00:00",
          "2018-01-01T00:00:00",
          "2018-04-01T00:00:00",
          "2018-07-01T00:00:00",
          "2018-10-01T00:00:00",
          "2019-01-01T00:00:00",
          "2019-04-01T00:00:00",
          "2019-07-01T00:00:00",
          "2019-10-01T00:00:00",
          "2020-01-01T00:00:00",
          "2020-04-01T00:00:00",
          "2020-07-01T00:00:00",
          "2020-10-01T00:00:00"
         ],
         "xaxis": "x4",
         "y": [
          73,
          74,
          82,
          65,
          78,
          74,
          88,
          68,
          73,
          72,
          82,
          62,
          75,
          70,
          104,
          83,
          84,
          59,
          89,
          67
         ],
         "yaxis": "y4"
        },
        {
         "mode": "markers+lines",
         "type": "scatter",
         "x": [
          "2016-01-01T00:00:00",
          "2016-04-01T00:00:00",
          "2016-07-01T00:00:00",
          "2016-10-01T00:00:00",
          "2017-01-01T00:00:00",
          "2017-04-01T00:00:00",
          "2017-07-01T00:00:00",
          "2017-10-01T00:00:00",
          "2018-01-01T00:00:00",
          "2018-04-01T00:00:00",
          "2018-07-01T00:00:00",
          "2018-10-01T00:00:00",
          "2019-01-01T00:00:00",
          "2019-04-01T00:00:00",
          "2019-07-01T00:00:00",
          "2019-10-01T00:00:00",
          "2020-01-01T00:00:00",
          "2020-04-01T00:00:00",
          "2020-07-01T00:00:00",
          "2020-10-01T00:00:00"
         ],
         "xaxis": "x5",
         "y": [
          159,
          218,
          226,
          210,
          217,
          224,
          222,
          136,
          171,
          183,
          226,
          218,
          196,
          210,
          223,
          208,
          184,
          227,
          314,
          184
         ],
         "yaxis": "y5"
        },
        {
         "mode": "markers+lines",
         "type": "scatter",
         "x": [
          "2016-01-01T00:00:00",
          "2016-04-01T00:00:00",
          "2016-07-01T00:00:00",
          "2016-10-01T00:00:00",
          "2017-01-01T00:00:00",
          "2017-04-01T00:00:00",
          "2017-07-01T00:00:00",
          "2017-10-01T00:00:00",
          "2018-01-01T00:00:00",
          "2018-04-01T00:00:00",
          "2018-07-01T00:00:00",
          "2018-10-01T00:00:00",
          "2019-01-01T00:00:00",
          "2019-04-01T00:00:00",
          "2019-07-01T00:00:00",
          "2019-10-01T00:00:00",
          "2020-01-01T00:00:00",
          "2020-04-01T00:00:00",
          "2020-07-01T00:00:00",
          "2020-10-01T00:00:00"
         ],
         "xaxis": "x6",
         "y": [
          169575,
          178597,
          192337,
          170998,
          168642,
          175557,
          192553,
          175646,
          165036,
          175879,
          188352,
          175982,
          168862,
          174647,
          185646,
          171322,
          138598,
          51461,
          119854,
          111335
         ],
         "yaxis": "y6"
        },
        {
         "mode": "markers+lines",
         "type": "scatter",
         "x": [
          "2016-01-01T00:00:00",
          "2016-04-01T00:00:00",
          "2016-07-01T00:00:00",
          "2016-10-01T00:00:00",
          "2017-01-01T00:00:00",
          "2017-04-01T00:00:00",
          "2017-07-01T00:00:00",
          "2017-10-01T00:00:00",
          "2018-01-01T00:00:00",
          "2018-04-01T00:00:00",
          "2018-07-01T00:00:00",
          "2018-10-01T00:00:00",
          "2019-01-01T00:00:00",
          "2019-04-01T00:00:00",
          "2019-07-01T00:00:00",
          "2019-10-01T00:00:00",
          "2020-01-01T00:00:00",
          "2020-04-01T00:00:00",
          "2020-07-01T00:00:00",
          "2020-10-01T00:00:00"
         ],
         "xaxis": "x7",
         "y": [
          15482,
          15072,
          16494,
          15904,
          15622,
          14713,
          15823,
          15605,
          14384,
          13897,
          15861,
          16535,
          15482,
          15713,
          17309,
          17705,
          14602,
          6674,
          13937,
          10259
         ],
         "yaxis": "y7"
        },
        {
         "mode": "markers+lines",
         "type": "scatter",
         "x": [
          "2016-01-01T00:00:00",
          "2016-04-01T00:00:00",
          "2016-07-01T00:00:00",
          "2016-10-01T00:00:00",
          "2017-01-01T00:00:00",
          "2017-04-01T00:00:00",
          "2017-07-01T00:00:00",
          "2017-10-01T00:00:00",
          "2018-01-01T00:00:00",
          "2018-04-01T00:00:00",
          "2018-07-01T00:00:00",
          "2018-10-01T00:00:00",
          "2019-01-01T00:00:00",
          "2019-04-01T00:00:00",
          "2019-07-01T00:00:00",
          "2019-10-01T00:00:00",
          "2020-01-01T00:00:00",
          "2020-04-01T00:00:00",
          "2020-07-01T00:00:00",
          "2020-10-01T00:00:00"
         ],
         "xaxis": "x8",
         "y": [
          29,
          24,
          25,
          16,
          15,
          19,
          16,
          19,
          22,
          14,
          18,
          27,
          26,
          25,
          21,
          18,
          19,
          17,
          25,
          18
         ],
         "yaxis": "y8"
        },
        {
         "mode": "markers+lines",
         "type": "scatter",
         "x": [
          "2016-01-01T00:00:00",
          "2016-04-01T00:00:00",
          "2016-07-01T00:00:00",
          "2016-10-01T00:00:00",
          "2017-01-01T00:00:00",
          "2017-04-01T00:00:00",
          "2017-07-01T00:00:00",
          "2017-10-01T00:00:00",
          "2018-01-01T00:00:00",
          "2018-04-01T00:00:00",
          "2018-07-01T00:00:00",
          "2018-10-01T00:00:00",
          "2019-01-01T00:00:00",
          "2019-04-01T00:00:00",
          "2019-07-01T00:00:00",
          "2019-10-01T00:00:00",
          "2020-01-01T00:00:00",
          "2020-04-01T00:00:00",
          "2020-07-01T00:00:00",
          "2020-10-01T00:00:00"
         ],
         "xaxis": "x9",
         "y": [
          10125,
          10708,
          11223,
          11279,
          10963,
          11141,
          10441,
          9974,
          8777,
          8904,
          9181,
          9290,
          8879,
          8621,
          8783,
          8965,
          7470,
          4080,
          7845,
          6613
         ],
         "yaxis": "y9"
        },
        {
         "mode": "markers+lines",
         "type": "scatter",
         "x": [
          "2016-01-01T00:00:00",
          "2016-04-01T00:00:00",
          "2016-07-01T00:00:00",
          "2016-10-01T00:00:00",
          "2017-01-01T00:00:00",
          "2017-04-01T00:00:00",
          "2017-07-01T00:00:00",
          "2017-10-01T00:00:00",
          "2018-01-01T00:00:00",
          "2018-04-01T00:00:00",
          "2018-07-01T00:00:00",
          "2018-10-01T00:00:00",
          "2019-01-01T00:00:00",
          "2019-04-01T00:00:00",
          "2019-07-01T00:00:00",
          "2019-10-01T00:00:00",
          "2020-01-01T00:00:00",
          "2020-04-01T00:00:00",
          "2020-07-01T00:00:00",
          "2020-10-01T00:00:00"
         ],
         "xaxis": "x10",
         "y": [
          2707,
          3372,
          3531,
          2838,
          3011,
          3446,
          3653,
          2848,
          3156,
          3749,
          3929,
          3291,
          3663,
          4042,
          4644,
          3919,
          3856,
          4215,
          4591,
          4334
         ],
         "yaxis": "y10"
        }
       ],
       "layout": {
        "annotations": [
         {
          "font": {
           "size": 16
          },
          "showarrow": false,
          "text": "Robos con fuerza en domicilios",
          "x": 0.225,
          "xanchor": "center",
          "xref": "paper",
          "y": 1,
          "yanchor": "bottom",
          "yref": "paper"
         },
         {
          "font": {
           "size": 16
          },
          "showarrow": false,
          "text": "Contra la libertad e indemnidad sexual",
          "x": 0.775,
          "xanchor": "center",
          "xref": "paper",
          "y": 1,
          "yanchor": "bottom",
          "yref": "paper"
         },
         {
          "font": {
           "size": 16
          },
          "showarrow": false,
          "text": "Lesiones y riña tumultuaria",
          "x": 0.225,
          "xanchor": "center",
          "xref": "paper",
          "y": 0.78,
          "yanchor": "bottom",
          "yref": "paper"
         },
         {
          "font": {
           "size": 16
          },
          "showarrow": false,
          "text": "Homicidios y asesinatos consumados",
          "x": 0.775,
          "xanchor": "center",
          "xref": "paper",
          "y": 0.78,
          "yanchor": "bottom",
          "yref": "paper"
         },
         {
          "font": {
           "size": 16
          },
          "showarrow": false,
          "text": "Homicidios y asesinatos tentativa",
          "x": 0.225,
          "xanchor": "center",
          "xref": "paper",
          "y": 0.56,
          "yanchor": "bottom",
          "yref": "paper"
         },
         {
          "font": {
           "size": 16
          },
          "showarrow": false,
          "text": "Hurtos",
          "x": 0.775,
          "xanchor": "center",
          "xref": "paper",
          "y": 0.56,
          "yanchor": "bottom",
          "yref": "paper"
         },
         {
          "font": {
           "size": 16
          },
          "showarrow": false,
          "text": "Robos con violencia e intimidación",
          "x": 0.225,
          "xanchor": "center",
          "xref": "paper",
          "y": 0.33999999999999997,
          "yanchor": "bottom",
          "yref": "paper"
         },
         {
          "font": {
           "size": 16
          },
          "showarrow": false,
          "text": "Secuestro",
          "x": 0.775,
          "xanchor": "center",
          "xref": "paper",
          "y": 0.33999999999999997,
          "yanchor": "bottom",
          "yref": "paper"
         },
         {
          "font": {
           "size": 16
          },
          "showarrow": false,
          "text": "Sustracciones de vehículos",
          "x": 0.225,
          "xanchor": "center",
          "xref": "paper",
          "y": 0.12,
          "yanchor": "bottom",
          "yref": "paper"
         },
         {
          "font": {
           "size": 16
          },
          "showarrow": false,
          "text": "Tráfico de drogas",
          "x": 0.775,
          "xanchor": "center",
          "xref": "paper",
          "y": 0.12,
          "yanchor": "bottom",
          "yref": "paper"
         }
        ],
        "height": 600,
        "showlegend": false,
        "template": {
         "data": {
          "bar": [
           {
            "error_x": {
             "color": "#2a3f5f"
            },
            "error_y": {
             "color": "#2a3f5f"
            },
            "marker": {
             "line": {
              "color": "#E5ECF6",
              "width": 0.5
             }
            },
            "type": "bar"
           }
          ],
          "barpolar": [
           {
            "marker": {
             "line": {
              "color": "#E5ECF6",
              "width": 0.5
             }
            },
            "type": "barpolar"
           }
          ],
          "carpet": [
           {
            "aaxis": {
             "endlinecolor": "#2a3f5f",
             "gridcolor": "white",
             "linecolor": "white",
             "minorgridcolor": "white",
             "startlinecolor": "#2a3f5f"
            },
            "baxis": {
             "endlinecolor": "#2a3f5f",
             "gridcolor": "white",
             "linecolor": "white",
             "minorgridcolor": "white",
             "startlinecolor": "#2a3f5f"
            },
            "type": "carpet"
           }
          ],
          "choropleth": [
           {
            "colorbar": {
             "outlinewidth": 0,
             "ticks": ""
            },
            "type": "choropleth"
           }
          ],
          "contour": [
           {
            "colorbar": {
             "outlinewidth": 0,
             "ticks": ""
            },
            "colorscale": [
             [
              0,
              "#0d0887"
             ],
             [
              0.1111111111111111,
              "#46039f"
             ],
             [
              0.2222222222222222,
              "#7201a8"
             ],
             [
              0.3333333333333333,
              "#9c179e"
             ],
             [
              0.4444444444444444,
              "#bd3786"
             ],
             [
              0.5555555555555556,
              "#d8576b"
             ],
             [
              0.6666666666666666,
              "#ed7953"
             ],
             [
              0.7777777777777778,
              "#fb9f3a"
             ],
             [
              0.8888888888888888,
              "#fdca26"
             ],
             [
              1,
              "#f0f921"
             ]
            ],
            "type": "contour"
           }
          ],
          "contourcarpet": [
           {
            "colorbar": {
             "outlinewidth": 0,
             "ticks": ""
            },
            "type": "contourcarpet"
           }
          ],
          "heatmap": [
           {
            "colorbar": {
             "outlinewidth": 0,
             "ticks": ""
            },
            "colorscale": [
             [
              0,
              "#0d0887"
             ],
             [
              0.1111111111111111,
              "#46039f"
             ],
             [
              0.2222222222222222,
              "#7201a8"
             ],
             [
              0.3333333333333333,
              "#9c179e"
             ],
             [
              0.4444444444444444,
              "#bd3786"
             ],
             [
              0.5555555555555556,
              "#d8576b"
             ],
             [
              0.6666666666666666,
              "#ed7953"
             ],
             [
              0.7777777777777778,
              "#fb9f3a"
             ],
             [
              0.8888888888888888,
              "#fdca26"
             ],
             [
              1,
              "#f0f921"
             ]
            ],
            "type": "heatmap"
           }
          ],
          "heatmapgl": [
           {
            "colorbar": {
             "outlinewidth": 0,
             "ticks": ""
            },
            "colorscale": [
             [
              0,
              "#0d0887"
             ],
             [
              0.1111111111111111,
              "#46039f"
             ],
             [
              0.2222222222222222,
              "#7201a8"
             ],
             [
              0.3333333333333333,
              "#9c179e"
             ],
             [
              0.4444444444444444,
              "#bd3786"
             ],
             [
              0.5555555555555556,
              "#d8576b"
             ],
             [
              0.6666666666666666,
              "#ed7953"
             ],
             [
              0.7777777777777778,
              "#fb9f3a"
             ],
             [
              0.8888888888888888,
              "#fdca26"
             ],
             [
              1,
              "#f0f921"
             ]
            ],
            "type": "heatmapgl"
           }
          ],
          "histogram": [
           {
            "marker": {
             "colorbar": {
              "outlinewidth": 0,
              "ticks": ""
             }
            },
            "type": "histogram"
           }
          ],
          "histogram2d": [
           {
            "colorbar": {
             "outlinewidth": 0,
             "ticks": ""
            },
            "colorscale": [
             [
              0,
              "#0d0887"
             ],
             [
              0.1111111111111111,
              "#46039f"
             ],
             [
              0.2222222222222222,
              "#7201a8"
             ],
             [
              0.3333333333333333,
              "#9c179e"
             ],
             [
              0.4444444444444444,
              "#bd3786"
             ],
             [
              0.5555555555555556,
              "#d8576b"
             ],
             [
              0.6666666666666666,
              "#ed7953"
             ],
             [
              0.7777777777777778,
              "#fb9f3a"
             ],
             [
              0.8888888888888888,
              "#fdca26"
             ],
             [
              1,
              "#f0f921"
             ]
            ],
            "type": "histogram2d"
           }
          ],
          "histogram2dcontour": [
           {
            "colorbar": {
             "outlinewidth": 0,
             "ticks": ""
            },
            "colorscale": [
             [
              0,
              "#0d0887"
             ],
             [
              0.1111111111111111,
              "#46039f"
             ],
             [
              0.2222222222222222,
              "#7201a8"
             ],
             [
              0.3333333333333333,
              "#9c179e"
             ],
             [
              0.4444444444444444,
              "#bd3786"
             ],
             [
              0.5555555555555556,
              "#d8576b"
             ],
             [
              0.6666666666666666,
              "#ed7953"
             ],
             [
              0.7777777777777778,
              "#fb9f3a"
             ],
             [
              0.8888888888888888,
              "#fdca26"
             ],
             [
              1,
              "#f0f921"
             ]
            ],
            "type": "histogram2dcontour"
           }
          ],
          "mesh3d": [
           {
            "colorbar": {
             "outlinewidth": 0,
             "ticks": ""
            },
            "type": "mesh3d"
           }
          ],
          "parcoords": [
           {
            "line": {
             "colorbar": {
              "outlinewidth": 0,
              "ticks": ""
             }
            },
            "type": "parcoords"
           }
          ],
          "pie": [
           {
            "automargin": true,
            "type": "pie"
           }
          ],
          "scatter": [
           {
            "marker": {
             "colorbar": {
              "outlinewidth": 0,
              "ticks": ""
             }
            },
            "type": "scatter"
           }
          ],
          "scatter3d": [
           {
            "line": {
             "colorbar": {
              "outlinewidth": 0,
              "ticks": ""
             }
            },
            "marker": {
             "colorbar": {
              "outlinewidth": 0,
              "ticks": ""
             }
            },
            "type": "scatter3d"
           }
          ],
          "scattercarpet": [
           {
            "marker": {
             "colorbar": {
              "outlinewidth": 0,
              "ticks": ""
             }
            },
            "type": "scattercarpet"
           }
          ],
          "scattergeo": [
           {
            "marker": {
             "colorbar": {
              "outlinewidth": 0,
              "ticks": ""
             }
            },
            "type": "scattergeo"
           }
          ],
          "scattergl": [
           {
            "marker": {
             "colorbar": {
              "outlinewidth": 0,
              "ticks": ""
             }
            },
            "type": "scattergl"
           }
          ],
          "scattermapbox": [
           {
            "marker": {
             "colorbar": {
              "outlinewidth": 0,
              "ticks": ""
             }
            },
            "type": "scattermapbox"
           }
          ],
          "scatterpolar": [
           {
            "marker": {
             "colorbar": {
              "outlinewidth": 0,
              "ticks": ""
             }
            },
            "type": "scatterpolar"
           }
          ],
          "scatterpolargl": [
           {
            "marker": {
             "colorbar": {
              "outlinewidth": 0,
              "ticks": ""
             }
            },
            "type": "scatterpolargl"
           }
          ],
          "scatterternary": [
           {
            "marker": {
             "colorbar": {
              "outlinewidth": 0,
              "ticks": ""
             }
            },
            "type": "scatterternary"
           }
          ],
          "surface": [
           {
            "colorbar": {
             "outlinewidth": 0,
             "ticks": ""
            },
            "colorscale": [
             [
              0,
              "#0d0887"
             ],
             [
              0.1111111111111111,
              "#46039f"
             ],
             [
              0.2222222222222222,
              "#7201a8"
             ],
             [
              0.3333333333333333,
              "#9c179e"
             ],
             [
              0.4444444444444444,
              "#bd3786"
             ],
             [
              0.5555555555555556,
              "#d8576b"
             ],
             [
              0.6666666666666666,
              "#ed7953"
             ],
             [
              0.7777777777777778,
              "#fb9f3a"
             ],
             [
              0.8888888888888888,
              "#fdca26"
             ],
             [
              1,
              "#f0f921"
             ]
            ],
            "type": "surface"
           }
          ],
          "table": [
           {
            "cells": {
             "fill": {
              "color": "#EBF0F8"
             },
             "line": {
              "color": "white"
             }
            },
            "header": {
             "fill": {
              "color": "#C8D4E3"
             },
             "line": {
              "color": "white"
             }
            },
            "type": "table"
           }
          ]
         },
         "layout": {
          "annotationdefaults": {
           "arrowcolor": "#2a3f5f",
           "arrowhead": 0,
           "arrowwidth": 1
          },
          "autotypenumbers": "strict",
          "coloraxis": {
           "colorbar": {
            "outlinewidth": 0,
            "ticks": ""
           }
          },
          "colorscale": {
           "diverging": [
            [
             0,
             "#8e0152"
            ],
            [
             0.1,
             "#c51b7d"
            ],
            [
             0.2,
             "#de77ae"
            ],
            [
             0.3,
             "#f1b6da"
            ],
            [
             0.4,
             "#fde0ef"
            ],
            [
             0.5,
             "#f7f7f7"
            ],
            [
             0.6,
             "#e6f5d0"
            ],
            [
             0.7,
             "#b8e186"
            ],
            [
             0.8,
             "#7fbc41"
            ],
            [
             0.9,
             "#4d9221"
            ],
            [
             1,
             "#276419"
            ]
           ],
           "sequential": [
            [
             0,
             "#0d0887"
            ],
            [
             0.1111111111111111,
             "#46039f"
            ],
            [
             0.2222222222222222,
             "#7201a8"
            ],
            [
             0.3333333333333333,
             "#9c179e"
            ],
            [
             0.4444444444444444,
             "#bd3786"
            ],
            [
             0.5555555555555556,
             "#d8576b"
            ],
            [
             0.6666666666666666,
             "#ed7953"
            ],
            [
             0.7777777777777778,
             "#fb9f3a"
            ],
            [
             0.8888888888888888,
             "#fdca26"
            ],
            [
             1,
             "#f0f921"
            ]
           ],
           "sequentialminus": [
            [
             0,
             "#0d0887"
            ],
            [
             0.1111111111111111,
             "#46039f"
            ],
            [
             0.2222222222222222,
             "#7201a8"
            ],
            [
             0.3333333333333333,
             "#9c179e"
            ],
            [
             0.4444444444444444,
             "#bd3786"
            ],
            [
             0.5555555555555556,
             "#d8576b"
            ],
            [
             0.6666666666666666,
             "#ed7953"
            ],
            [
             0.7777777777777778,
             "#fb9f3a"
            ],
            [
             0.8888888888888888,
             "#fdca26"
            ],
            [
             1,
             "#f0f921"
            ]
           ]
          },
          "colorway": [
           "#636efa",
           "#EF553B",
           "#00cc96",
           "#ab63fa",
           "#FFA15A",
           "#19d3f3",
           "#FF6692",
           "#B6E880",
           "#FF97FF",
           "#FECB52"
          ],
          "font": {
           "color": "#2a3f5f"
          },
          "geo": {
           "bgcolor": "white",
           "lakecolor": "white",
           "landcolor": "#E5ECF6",
           "showlakes": true,
           "showland": true,
           "subunitcolor": "white"
          },
          "hoverlabel": {
           "align": "left"
          },
          "hovermode": "closest",
          "mapbox": {
           "style": "light"
          },
          "paper_bgcolor": "white",
          "plot_bgcolor": "#E5ECF6",
          "polar": {
           "angularaxis": {
            "gridcolor": "white",
            "linecolor": "white",
            "ticks": ""
           },
           "bgcolor": "#E5ECF6",
           "radialaxis": {
            "gridcolor": "white",
            "linecolor": "white",
            "ticks": ""
           }
          },
          "scene": {
           "xaxis": {
            "backgroundcolor": "#E5ECF6",
            "gridcolor": "white",
            "gridwidth": 2,
            "linecolor": "white",
            "showbackground": true,
            "ticks": "",
            "zerolinecolor": "white"
           },
           "yaxis": {
            "backgroundcolor": "#E5ECF6",
            "gridcolor": "white",
            "gridwidth": 2,
            "linecolor": "white",
            "showbackground": true,
            "ticks": "",
            "zerolinecolor": "white"
           },
           "zaxis": {
            "backgroundcolor": "#E5ECF6",
            "gridcolor": "white",
            "gridwidth": 2,
            "linecolor": "white",
            "showbackground": true,
            "ticks": "",
            "zerolinecolor": "white"
           }
          },
          "shapedefaults": {
           "line": {
            "color": "#2a3f5f"
           }
          },
          "ternary": {
           "aaxis": {
            "gridcolor": "white",
            "linecolor": "white",
            "ticks": ""
           },
           "baxis": {
            "gridcolor": "white",
            "linecolor": "white",
            "ticks": ""
           },
           "bgcolor": "#E5ECF6",
           "caxis": {
            "gridcolor": "white",
            "linecolor": "white",
            "ticks": ""
           }
          },
          "title": {
           "x": 0.05
          },
          "xaxis": {
           "automargin": true,
           "gridcolor": "white",
           "linecolor": "white",
           "ticks": "",
           "title": {
            "standoff": 15
           },
           "zerolinecolor": "white",
           "zerolinewidth": 2
          },
          "yaxis": {
           "automargin": true,
           "gridcolor": "white",
           "linecolor": "white",
           "ticks": "",
           "title": {
            "standoff": 15
           },
           "zerolinecolor": "white",
           "zerolinewidth": 2
          }
         }
        },
        "title": {
         "text": "Evolucion trimestral por tipo de delitos"
        },
        "width": 1000,
        "xaxis": {
         "anchor": "y",
         "domain": [
          0,
          0.45
         ],
         "dtick": "M3",
         "matches": "x9",
         "showticklabels": false,
         "tickangle": 45,
         "tickformat": "%q-%Y"
        },
        "xaxis10": {
         "anchor": "y10",
         "domain": [
          0.55,
          1
         ],
         "dtick": "M3",
         "tickangle": 45,
         "tickformat": "%q-%Y"
        },
        "xaxis2": {
         "anchor": "y2",
         "domain": [
          0.55,
          1
         ],
         "dtick": "M3",
         "matches": "x10",
         "showticklabels": false,
         "tickangle": 45,
         "tickformat": "%q-%Y"
        },
        "xaxis3": {
         "anchor": "y3",
         "domain": [
          0,
          0.45
         ],
         "dtick": "M3",
         "matches": "x9",
         "showticklabels": false,
         "tickangle": 45,
         "tickformat": "%q-%Y"
        },
        "xaxis4": {
         "anchor": "y4",
         "domain": [
          0.55,
          1
         ],
         "dtick": "M3",
         "matches": "x10",
         "showticklabels": false,
         "tickangle": 45,
         "tickformat": "%q-%Y"
        },
        "xaxis5": {
         "anchor": "y5",
         "domain": [
          0,
          0.45
         ],
         "dtick": "M3",
         "matches": "x9",
         "showticklabels": false,
         "tickangle": 45,
         "tickformat": "%q-%Y"
        },
        "xaxis6": {
         "anchor": "y6",
         "domain": [
          0.55,
          1
         ],
         "dtick": "M3",
         "matches": "x10",
         "showticklabels": false,
         "tickangle": 45,
         "tickformat": "%q-%Y"
        },
        "xaxis7": {
         "anchor": "y7",
         "domain": [
          0,
          0.45
         ],
         "dtick": "M3",
         "matches": "x9",
         "showticklabels": false,
         "tickangle": 45,
         "tickformat": "%q-%Y"
        },
        "xaxis8": {
         "anchor": "y8",
         "domain": [
          0.55,
          1
         ],
         "dtick": "M3",
         "matches": "x10",
         "showticklabels": false,
         "tickangle": 45,
         "tickformat": "%q-%Y"
        },
        "xaxis9": {
         "anchor": "y9",
         "domain": [
          0,
          0.45
         ],
         "dtick": "M3",
         "tickangle": 45,
         "tickformat": "%q-%Y"
        },
        "yaxis": {
         "anchor": "x",
         "domain": [
          0.88,
          1
         ]
        },
        "yaxis10": {
         "anchor": "x10",
         "domain": [
          0,
          0.12
         ]
        },
        "yaxis2": {
         "anchor": "x2",
         "domain": [
          0.88,
          1
         ]
        },
        "yaxis3": {
         "anchor": "x3",
         "domain": [
          0.66,
          0.78
         ]
        },
        "yaxis4": {
         "anchor": "x4",
         "domain": [
          0.66,
          0.78
         ]
        },
        "yaxis5": {
         "anchor": "x5",
         "domain": [
          0.44,
          0.56
         ]
        },
        "yaxis6": {
         "anchor": "x6",
         "domain": [
          0.44,
          0.56
         ]
        },
        "yaxis7": {
         "anchor": "x7",
         "domain": [
          0.22,
          0.33999999999999997
         ]
        },
        "yaxis8": {
         "anchor": "x8",
         "domain": [
          0.22,
          0.33999999999999997
         ]
        },
        "yaxis9": {
         "anchor": "x9",
         "domain": [
          0,
          0.12
         ]
        }
       }
      }
     },
     "metadata": {}
    }
   ],
   "source": [
    "tit_graph = tuple(espana_tipo_delito_graph1.columns[1:])\n",
    "\n",
    "traduce_delitos = ('Robos con fuerza en domicilios','Contra la libertad e indemnidad sexual','Lesiones y riña tumultuaria','Homicidios y asesinatos consumados','Homicidios y asesinatos tentativa','Hurtos', 'Robos con violencia e intimidación','Secuestro', 'Sustracciones de vehículos', 'Tráfico de drogas')\n",
    "\n",
    "fig = make_subplots(rows=5, \n",
    "                    cols=2,\n",
    "                    subplot_titles=traduce_delitos,\n",
    "                    shared_xaxes=True)\n",
    "\n",
    "fig.add_trace(\n",
    "    go.Scatter(x=espana_tipo_delito_graph1.iloc[:,0], y= espana_tipo_delito_graph1.iloc[:,1]),\n",
    "    row=1, col=1\n",
    ")\n",
    "\n",
    "fig.add_trace(\n",
    "    go.Scatter(x=espana_tipo_delito_graph1.iloc[:,0], y=espana_tipo_delito_graph1.iloc[:,2]),\n",
    "    row=1, col=2\n",
    ")\n",
    "\n",
    "fig.add_trace(\n",
    "    go.Scatter(x=espana_tipo_delito_graph1.iloc[:,0], y= espana_tipo_delito_graph1.iloc[:,3]),\n",
    "    row=2, col=1\n",
    ")\n",
    "\n",
    "fig.add_trace(\n",
    "    go.Scatter(x=espana_tipo_delito_graph1.iloc[:,0], y=espana_tipo_delito_graph1.iloc[:,4]),\n",
    "    row=2, col=2\n",
    ")\n",
    "\n",
    "fig.add_trace(\n",
    "    go.Scatter(x=espana_tipo_delito_graph1.iloc[:,0], y= espana_tipo_delito_graph1.iloc[:,5]),\n",
    "    row=3, col=1\n",
    ")\n",
    "\n",
    "fig.add_trace(\n",
    "    go.Scatter(x=espana_tipo_delito_graph1.iloc[:,0], y=espana_tipo_delito_graph1.iloc[:,6]),\n",
    "    row=3, col=2\n",
    ")\n",
    "\n",
    "fig.add_trace(\n",
    "    go.Scatter(x=espana_tipo_delito_graph1.iloc[:,0], y= espana_tipo_delito_graph1.iloc[:,7]),\n",
    "    row=4, col=1\n",
    ")\n",
    "\n",
    "fig.add_trace(\n",
    "    go.Scatter(x=espana_tipo_delito_graph1.iloc[:,0], y=espana_tipo_delito_graph1.iloc[:,8]),\n",
    "    row=4, col=2\n",
    ")\n",
    "fig.add_trace(\n",
    "    go.Scatter(x=espana_tipo_delito_graph1.iloc[:,0], y= espana_tipo_delito_graph1.iloc[:,9]),\n",
    "    row=5, col=1\n",
    ")\n",
    "\n",
    "fig.add_trace(\n",
    "    go.Scatter(x=espana_tipo_delito_graph1.iloc[:,0], y=espana_tipo_delito_graph1.iloc[:,10]),\n",
    "    row=5, col=2\n",
    ")\n",
    "fig.update_layout(height=600, width=1000, title_text=\"Evolucion trimestral por tipo de delitos\")\n",
    "fig.update_traces(mode=\"markers+lines\")\n",
    "fig.update_xaxes(dtick=\"M3\",tickformat=\"%q-%Y\")\n",
    "fig.update_layout(showlegend=False)\n",
    "fig.update_xaxes(\n",
    "    dtick=\"M3\",\n",
    "    tickangle= 45\n",
    "    )\n",
    "fig.show()"
   ]
  },
  {
   "source": [
    "graph #3 Explicación: "
   ],
   "cell_type": "markdown",
   "metadata": {}
  },
  {
   "cell_type": "code",
   "execution_count": 57,
   "metadata": {},
   "outputs": [
    {
     "output_type": "display_data",
     "data": {
      "application/vnd.plotly.v1+json": {
       "config": {
        "plotlyServerURL": "https://plot.ly"
       },
       "data": [
        {
         "alignmentgroup": "True",
         "hovertemplate": "Total=%{text}<br>Delito=%{y}<extra></extra>",
         "legendgroup": "",
         "marker": {
          "color": "#636efa"
         },
         "name": "",
         "offsetgroup": "",
         "orientation": "h",
         "showlegend": false,
         "text": [
          413,
          1522,
          4156,
          64925,
          72795,
          89656,
          183262,
          297073,
          707156,
          3250879
         ],
         "textposition": "auto",
         "texttemplate": "%{text:.3s}",
         "type": "bar",
         "x": [
          413,
          1522,
          4156,
          64925,
          72795,
          89656,
          183262,
          297073,
          707156,
          3250879
         ],
         "xaxis": "x",
         "y": [
          "Secuestro",
          "Homicidios dolosos y asesinatos consumados",
          "Homicidios dolosos y asesinatos en grado tentativa",
          "Delitos contra la libertad e indemnidad sexual",
          "Tráfico de drogas",
          "Delitos graves y menos graves de lesiones y riña tumultuaria",
          "Sustracciones de vehículos",
          "Robos con violencia e intimidación",
          " Robos con fuerza en domicilios, establecimientos y otras instalaciones",
          "Hurtos"
         ],
         "yaxis": "y"
        }
       ],
       "layout": {
        "barmode": "relative",
        "legend": {
         "tracegroupgap": 0
        },
        "template": {
         "data": {
          "bar": [
           {
            "error_x": {
             "color": "#2a3f5f"
            },
            "error_y": {
             "color": "#2a3f5f"
            },
            "marker": {
             "line": {
              "color": "#E5ECF6",
              "width": 0.5
             }
            },
            "type": "bar"
           }
          ],
          "barpolar": [
           {
            "marker": {
             "line": {
              "color": "#E5ECF6",
              "width": 0.5
             }
            },
            "type": "barpolar"
           }
          ],
          "carpet": [
           {
            "aaxis": {
             "endlinecolor": "#2a3f5f",
             "gridcolor": "white",
             "linecolor": "white",
             "minorgridcolor": "white",
             "startlinecolor": "#2a3f5f"
            },
            "baxis": {
             "endlinecolor": "#2a3f5f",
             "gridcolor": "white",
             "linecolor": "white",
             "minorgridcolor": "white",
             "startlinecolor": "#2a3f5f"
            },
            "type": "carpet"
           }
          ],
          "choropleth": [
           {
            "colorbar": {
             "outlinewidth": 0,
             "ticks": ""
            },
            "type": "choropleth"
           }
          ],
          "contour": [
           {
            "colorbar": {
             "outlinewidth": 0,
             "ticks": ""
            },
            "colorscale": [
             [
              0,
              "#0d0887"
             ],
             [
              0.1111111111111111,
              "#46039f"
             ],
             [
              0.2222222222222222,
              "#7201a8"
             ],
             [
              0.3333333333333333,
              "#9c179e"
             ],
             [
              0.4444444444444444,
              "#bd3786"
             ],
             [
              0.5555555555555556,
              "#d8576b"
             ],
             [
              0.6666666666666666,
              "#ed7953"
             ],
             [
              0.7777777777777778,
              "#fb9f3a"
             ],
             [
              0.8888888888888888,
              "#fdca26"
             ],
             [
              1,
              "#f0f921"
             ]
            ],
            "type": "contour"
           }
          ],
          "contourcarpet": [
           {
            "colorbar": {
             "outlinewidth": 0,
             "ticks": ""
            },
            "type": "contourcarpet"
           }
          ],
          "heatmap": [
           {
            "colorbar": {
             "outlinewidth": 0,
             "ticks": ""
            },
            "colorscale": [
             [
              0,
              "#0d0887"
             ],
             [
              0.1111111111111111,
              "#46039f"
             ],
             [
              0.2222222222222222,
              "#7201a8"
             ],
             [
              0.3333333333333333,
              "#9c179e"
             ],
             [
              0.4444444444444444,
              "#bd3786"
             ],
             [
              0.5555555555555556,
              "#d8576b"
             ],
             [
              0.6666666666666666,
              "#ed7953"
             ],
             [
              0.7777777777777778,
              "#fb9f3a"
             ],
             [
              0.8888888888888888,
              "#fdca26"
             ],
             [
              1,
              "#f0f921"
             ]
            ],
            "type": "heatmap"
           }
          ],
          "heatmapgl": [
           {
            "colorbar": {
             "outlinewidth": 0,
             "ticks": ""
            },
            "colorscale": [
             [
              0,
              "#0d0887"
             ],
             [
              0.1111111111111111,
              "#46039f"
             ],
             [
              0.2222222222222222,
              "#7201a8"
             ],
             [
              0.3333333333333333,
              "#9c179e"
             ],
             [
              0.4444444444444444,
              "#bd3786"
             ],
             [
              0.5555555555555556,
              "#d8576b"
             ],
             [
              0.6666666666666666,
              "#ed7953"
             ],
             [
              0.7777777777777778,
              "#fb9f3a"
             ],
             [
              0.8888888888888888,
              "#fdca26"
             ],
             [
              1,
              "#f0f921"
             ]
            ],
            "type": "heatmapgl"
           }
          ],
          "histogram": [
           {
            "marker": {
             "colorbar": {
              "outlinewidth": 0,
              "ticks": ""
             }
            },
            "type": "histogram"
           }
          ],
          "histogram2d": [
           {
            "colorbar": {
             "outlinewidth": 0,
             "ticks": ""
            },
            "colorscale": [
             [
              0,
              "#0d0887"
             ],
             [
              0.1111111111111111,
              "#46039f"
             ],
             [
              0.2222222222222222,
              "#7201a8"
             ],
             [
              0.3333333333333333,
              "#9c179e"
             ],
             [
              0.4444444444444444,
              "#bd3786"
             ],
             [
              0.5555555555555556,
              "#d8576b"
             ],
             [
              0.6666666666666666,
              "#ed7953"
             ],
             [
              0.7777777777777778,
              "#fb9f3a"
             ],
             [
              0.8888888888888888,
              "#fdca26"
             ],
             [
              1,
              "#f0f921"
             ]
            ],
            "type": "histogram2d"
           }
          ],
          "histogram2dcontour": [
           {
            "colorbar": {
             "outlinewidth": 0,
             "ticks": ""
            },
            "colorscale": [
             [
              0,
              "#0d0887"
             ],
             [
              0.1111111111111111,
              "#46039f"
             ],
             [
              0.2222222222222222,
              "#7201a8"
             ],
             [
              0.3333333333333333,
              "#9c179e"
             ],
             [
              0.4444444444444444,
              "#bd3786"
             ],
             [
              0.5555555555555556,
              "#d8576b"
             ],
             [
              0.6666666666666666,
              "#ed7953"
             ],
             [
              0.7777777777777778,
              "#fb9f3a"
             ],
             [
              0.8888888888888888,
              "#fdca26"
             ],
             [
              1,
              "#f0f921"
             ]
            ],
            "type": "histogram2dcontour"
           }
          ],
          "mesh3d": [
           {
            "colorbar": {
             "outlinewidth": 0,
             "ticks": ""
            },
            "type": "mesh3d"
           }
          ],
          "parcoords": [
           {
            "line": {
             "colorbar": {
              "outlinewidth": 0,
              "ticks": ""
             }
            },
            "type": "parcoords"
           }
          ],
          "pie": [
           {
            "automargin": true,
            "type": "pie"
           }
          ],
          "scatter": [
           {
            "marker": {
             "colorbar": {
              "outlinewidth": 0,
              "ticks": ""
             }
            },
            "type": "scatter"
           }
          ],
          "scatter3d": [
           {
            "line": {
             "colorbar": {
              "outlinewidth": 0,
              "ticks": ""
             }
            },
            "marker": {
             "colorbar": {
              "outlinewidth": 0,
              "ticks": ""
             }
            },
            "type": "scatter3d"
           }
          ],
          "scattercarpet": [
           {
            "marker": {
             "colorbar": {
              "outlinewidth": 0,
              "ticks": ""
             }
            },
            "type": "scattercarpet"
           }
          ],
          "scattergeo": [
           {
            "marker": {
             "colorbar": {
              "outlinewidth": 0,
              "ticks": ""
             }
            },
            "type": "scattergeo"
           }
          ],
          "scattergl": [
           {
            "marker": {
             "colorbar": {
              "outlinewidth": 0,
              "ticks": ""
             }
            },
            "type": "scattergl"
           }
          ],
          "scattermapbox": [
           {
            "marker": {
             "colorbar": {
              "outlinewidth": 0,
              "ticks": ""
             }
            },
            "type": "scattermapbox"
           }
          ],
          "scatterpolar": [
           {
            "marker": {
             "colorbar": {
              "outlinewidth": 0,
              "ticks": ""
             }
            },
            "type": "scatterpolar"
           }
          ],
          "scatterpolargl": [
           {
            "marker": {
             "colorbar": {
              "outlinewidth": 0,
              "ticks": ""
             }
            },
            "type": "scatterpolargl"
           }
          ],
          "scatterternary": [
           {
            "marker": {
             "colorbar": {
              "outlinewidth": 0,
              "ticks": ""
             }
            },
            "type": "scatterternary"
           }
          ],
          "surface": [
           {
            "colorbar": {
             "outlinewidth": 0,
             "ticks": ""
            },
            "colorscale": [
             [
              0,
              "#0d0887"
             ],
             [
              0.1111111111111111,
              "#46039f"
             ],
             [
              0.2222222222222222,
              "#7201a8"
             ],
             [
              0.3333333333333333,
              "#9c179e"
             ],
             [
              0.4444444444444444,
              "#bd3786"
             ],
             [
              0.5555555555555556,
              "#d8576b"
             ],
             [
              0.6666666666666666,
              "#ed7953"
             ],
             [
              0.7777777777777778,
              "#fb9f3a"
             ],
             [
              0.8888888888888888,
              "#fdca26"
             ],
             [
              1,
              "#f0f921"
             ]
            ],
            "type": "surface"
           }
          ],
          "table": [
           {
            "cells": {
             "fill": {
              "color": "#EBF0F8"
             },
             "line": {
              "color": "white"
             }
            },
            "header": {
             "fill": {
              "color": "#C8D4E3"
             },
             "line": {
              "color": "white"
             }
            },
            "type": "table"
           }
          ]
         },
         "layout": {
          "annotationdefaults": {
           "arrowcolor": "#2a3f5f",
           "arrowhead": 0,
           "arrowwidth": 1
          },
          "autotypenumbers": "strict",
          "coloraxis": {
           "colorbar": {
            "outlinewidth": 0,
            "ticks": ""
           }
          },
          "colorscale": {
           "diverging": [
            [
             0,
             "#8e0152"
            ],
            [
             0.1,
             "#c51b7d"
            ],
            [
             0.2,
             "#de77ae"
            ],
            [
             0.3,
             "#f1b6da"
            ],
            [
             0.4,
             "#fde0ef"
            ],
            [
             0.5,
             "#f7f7f7"
            ],
            [
             0.6,
             "#e6f5d0"
            ],
            [
             0.7,
             "#b8e186"
            ],
            [
             0.8,
             "#7fbc41"
            ],
            [
             0.9,
             "#4d9221"
            ],
            [
             1,
             "#276419"
            ]
           ],
           "sequential": [
            [
             0,
             "#0d0887"
            ],
            [
             0.1111111111111111,
             "#46039f"
            ],
            [
             0.2222222222222222,
             "#7201a8"
            ],
            [
             0.3333333333333333,
             "#9c179e"
            ],
            [
             0.4444444444444444,
             "#bd3786"
            ],
            [
             0.5555555555555556,
             "#d8576b"
            ],
            [
             0.6666666666666666,
             "#ed7953"
            ],
            [
             0.7777777777777778,
             "#fb9f3a"
            ],
            [
             0.8888888888888888,
             "#fdca26"
            ],
            [
             1,
             "#f0f921"
            ]
           ],
           "sequentialminus": [
            [
             0,
             "#0d0887"
            ],
            [
             0.1111111111111111,
             "#46039f"
            ],
            [
             0.2222222222222222,
             "#7201a8"
            ],
            [
             0.3333333333333333,
             "#9c179e"
            ],
            [
             0.4444444444444444,
             "#bd3786"
            ],
            [
             0.5555555555555556,
             "#d8576b"
            ],
            [
             0.6666666666666666,
             "#ed7953"
            ],
            [
             0.7777777777777778,
             "#fb9f3a"
            ],
            [
             0.8888888888888888,
             "#fdca26"
            ],
            [
             1,
             "#f0f921"
            ]
           ]
          },
          "colorway": [
           "#636efa",
           "#EF553B",
           "#00cc96",
           "#ab63fa",
           "#FFA15A",
           "#19d3f3",
           "#FF6692",
           "#B6E880",
           "#FF97FF",
           "#FECB52"
          ],
          "font": {
           "color": "#2a3f5f"
          },
          "geo": {
           "bgcolor": "white",
           "lakecolor": "white",
           "landcolor": "#E5ECF6",
           "showlakes": true,
           "showland": true,
           "subunitcolor": "white"
          },
          "hoverlabel": {
           "align": "left"
          },
          "hovermode": "closest",
          "mapbox": {
           "style": "light"
          },
          "paper_bgcolor": "white",
          "plot_bgcolor": "#E5ECF6",
          "polar": {
           "angularaxis": {
            "gridcolor": "white",
            "linecolor": "white",
            "ticks": ""
           },
           "bgcolor": "#E5ECF6",
           "radialaxis": {
            "gridcolor": "white",
            "linecolor": "white",
            "ticks": ""
           }
          },
          "scene": {
           "xaxis": {
            "backgroundcolor": "#E5ECF6",
            "gridcolor": "white",
            "gridwidth": 2,
            "linecolor": "white",
            "showbackground": true,
            "ticks": "",
            "zerolinecolor": "white"
           },
           "yaxis": {
            "backgroundcolor": "#E5ECF6",
            "gridcolor": "white",
            "gridwidth": 2,
            "linecolor": "white",
            "showbackground": true,
            "ticks": "",
            "zerolinecolor": "white"
           },
           "zaxis": {
            "backgroundcolor": "#E5ECF6",
            "gridcolor": "white",
            "gridwidth": 2,
            "linecolor": "white",
            "showbackground": true,
            "ticks": "",
            "zerolinecolor": "white"
           }
          },
          "shapedefaults": {
           "line": {
            "color": "#2a3f5f"
           }
          },
          "ternary": {
           "aaxis": {
            "gridcolor": "white",
            "linecolor": "white",
            "ticks": ""
           },
           "baxis": {
            "gridcolor": "white",
            "linecolor": "white",
            "ticks": ""
           },
           "bgcolor": "#E5ECF6",
           "caxis": {
            "gridcolor": "white",
            "linecolor": "white",
            "ticks": ""
           }
          },
          "title": {
           "x": 0.05
          },
          "xaxis": {
           "automargin": true,
           "gridcolor": "white",
           "linecolor": "white",
           "ticks": "",
           "title": {
            "standoff": 15
           },
           "zerolinecolor": "white",
           "zerolinewidth": 2
          },
          "yaxis": {
           "automargin": true,
           "gridcolor": "white",
           "linecolor": "white",
           "ticks": "",
           "title": {
            "standoff": 15
           },
           "zerolinecolor": "white",
           "zerolinewidth": 2
          }
         }
        },
        "title": {
         "text": "Ranking delitos penales en España (2016-2020)"
        },
        "uniformtext": {
         "minsize": 8,
         "mode": "hide"
        },
        "width": 900,
        "xaxis": {
         "anchor": "y",
         "domain": [
          0,
          1
         ],
         "title": {
          "text": "Total"
         }
        },
        "yaxis": {
         "anchor": "x",
         "domain": [
          0,
          1
         ],
         "title": {
          "text": "Delito"
         }
        }
       }
      }
     },
     "metadata": {}
    }
   ],
   "source": [
    "\n",
    "total_columns = ['code','Delito','Total']\n",
    "espana_tipo_delito_graph2 = espana_tipo_delito[total_columns]\n",
    "\n",
    "#addTotalColumn(espana_tipo_delito_graph2)\n",
    "\n",
    "espana_tipo_delito_graph2 = espana_tipo_delito_graph2.sort_values('Total')\n",
    "\n",
    "fig = px.bar(espana_tipo_delito_graph2, y='Delito', x='Total', text='Total', title='Ranking delitos penales en España (2016-2020)', width =900)\n",
    "fig.update_traces(texttemplate='%{text:.3s}')\n",
    "fig.update_layout(uniformtext_minsize=8, uniformtext_mode='hide')\n",
    "fig.show()"
   ]
  },
  {
   "source": [
    "grph #2 qué delitos penales son más habituales en España? lectura de ranking"
   ],
   "cell_type": "markdown",
   "metadata": {}
  },
  {
   "cell_type": "code",
   "execution_count": 72,
   "metadata": {
    "tags": []
   },
   "outputs": [
    {
     "output_type": "execute_result",
     "data": {
      "text/plain": [
       "                                              Delito  Percent_x  Percent_y  \\\n",
       "0         Homicidios dolosos y asesinatos consumados      0.020      0.033   \n",
       "1  Homicidios dolosos y asesinatos en grado tenta...      0.274      0.089   \n",
       "2  Delitos graves y menos graves de lesiones y ri...      7.044      1.919   \n",
       "3                                          Secuestro      0.000      0.009   \n",
       "4     Delitos contra la libertad e indemnidad sexual      1.764      1.390   \n",
       "5                 Robos con violencia e intimidación     17.636      6.359   \n",
       "6   Robos con fuerza en domicilios, establecimien...      6.467     15.137   \n",
       "7                                             Hurtos     57.541     69.585   \n",
       "8                         Sustracciones de vehículos      4.308      3.923   \n",
       "9                                  Tráfico de drogas      4.946      1.558   \n",
       "\n",
       "         IA  \n",
       "0  0.606061  \n",
       "1  3.078652  \n",
       "2  3.670662  \n",
       "3  0.000000  \n",
       "4  1.269065  \n",
       "5  2.773392  \n",
       "6  0.427231  \n",
       "7  0.826917  \n",
       "8  1.098139  \n",
       "9  3.174583  "
      ],
      "text/html": "<div>\n<style scoped>\n    .dataframe tbody tr th:only-of-type {\n        vertical-align: middle;\n    }\n\n    .dataframe tbody tr th {\n        vertical-align: top;\n    }\n\n    .dataframe thead th {\n        text-align: right;\n    }\n</style>\n<table border=\"1\" class=\"dataframe\">\n  <thead>\n    <tr style=\"text-align: right;\">\n      <th></th>\n      <th>Delito</th>\n      <th>Percent_x</th>\n      <th>Percent_y</th>\n      <th>IA</th>\n    </tr>\n  </thead>\n  <tbody>\n    <tr>\n      <th>0</th>\n      <td>Homicidios dolosos y asesinatos consumados</td>\n      <td>0.020</td>\n      <td>0.033</td>\n      <td>0.606061</td>\n    </tr>\n    <tr>\n      <th>1</th>\n      <td>Homicidios dolosos y asesinatos en grado tenta...</td>\n      <td>0.274</td>\n      <td>0.089</td>\n      <td>3.078652</td>\n    </tr>\n    <tr>\n      <th>2</th>\n      <td>Delitos graves y menos graves de lesiones y ri...</td>\n      <td>7.044</td>\n      <td>1.919</td>\n      <td>3.670662</td>\n    </tr>\n    <tr>\n      <th>3</th>\n      <td>Secuestro</td>\n      <td>0.000</td>\n      <td>0.009</td>\n      <td>0.000000</td>\n    </tr>\n    <tr>\n      <th>4</th>\n      <td>Delitos contra la libertad e indemnidad sexual</td>\n      <td>1.764</td>\n      <td>1.390</td>\n      <td>1.269065</td>\n    </tr>\n    <tr>\n      <th>5</th>\n      <td>Robos con violencia e intimidación</td>\n      <td>17.636</td>\n      <td>6.359</td>\n      <td>2.773392</td>\n    </tr>\n    <tr>\n      <th>6</th>\n      <td>Robos con fuerza en domicilios, establecimien...</td>\n      <td>6.467</td>\n      <td>15.137</td>\n      <td>0.427231</td>\n    </tr>\n    <tr>\n      <th>7</th>\n      <td>Hurtos</td>\n      <td>57.541</td>\n      <td>69.585</td>\n      <td>0.826917</td>\n    </tr>\n    <tr>\n      <th>8</th>\n      <td>Sustracciones de vehículos</td>\n      <td>4.308</td>\n      <td>3.923</td>\n      <td>1.098139</td>\n    </tr>\n    <tr>\n      <th>9</th>\n      <td>Tráfico de drogas</td>\n      <td>4.946</td>\n      <td>1.558</td>\n      <td>3.174583</td>\n    </tr>\n  </tbody>\n</table>\n</div>"
     },
     "metadata": {},
     "execution_count": 72
    }
   ],
   "source": [
    "df_percent = espana_tipo_delito\n",
    "addPercent(df_percent,n_delitos_espana)\n",
    "df_percent = df_percent[['Delito','Percent']]\n",
    "comunidades = list(comunidades_tipo_delito.Comunidad)\n",
    "df_comunidades =comunidades_tipo_delito\n",
    "for comunidad in comunidades:\n",
    "    df_comunidad = df_comunidades[df_comunidades.Comunidad.str.contains(comunidad,regex=False)]\n",
    "    n_delitos_comunidad = df_comunidad.groupby('Comunidad')['Total'].sum().iloc[-1]\n",
    "    addPercent(df_comunidad,n_delitos_comunidad)\n",
    "    df_comunidad =df_comunidad[['Delito','Percent']]\n",
    "    result= pd.merge(df_comunidad,df_percent, on=['Delito','Delito'])\n",
    "    result['IA'] = result.Percent_x / result.Percent_y\n",
    "result"
   ]
  },
  {
   "cell_type": "code",
   "execution_count": null,
   "metadata": {},
   "outputs": [],
   "source": []
  }
 ]
}