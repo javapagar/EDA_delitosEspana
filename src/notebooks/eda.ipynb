{
 "metadata": {
  "language_info": {
   "codemirror_mode": {
    "name": "ipython",
    "version": 3
   },
   "file_extension": ".py",
   "mimetype": "text/x-python",
   "name": "python",
   "nbconvert_exporter": "python",
   "pygments_lexer": "ipython3",
   "version": "3.8.5-final"
  },
  "orig_nbformat": 2,
  "kernelspec": {
   "name": "python3",
   "display_name": "Python 3",
   "language": "python"
  }
 },
 "nbformat": 4,
 "nbformat_minor": 2,
 "cells": [
  {
   "source": [
    "# Criminalidad en España 2015-2020\n",
    "\n",
    "## Importación de librerias\n",
    "\n",
    "A continuación se importan las librerias que se van a utilizar:"
   ],
   "cell_type": "markdown",
   "metadata": {}
  },
  {
   "cell_type": "code",
   "execution_count": null,
   "metadata": {},
   "outputs": [],
   "source": [
    "import pandas as pd"
   ]
  },
  {
   "source": [
    "## Carga de los datos\n",
    "\n",
    "### Fuente\n",
    "\n",
    "Los datos se han obtenido de:\n",
    "* [Portal Estadístico de Criminalidad (Ministerio del Interior)](https://estadisticasdecriminalidad.ses.mir.es/publico/portalestadistico/portal/balances.html)\n",
    "\n",
    "### Pre-tratamiento de los datos\n",
    "\n",
    "Los datos sobre criminalidad descargados no tienen un formato que se pueda tratar directamente, como puede verse en el documento descargado (../data/2016_1sc.csv), hay información que hay que desechar y la disposición en tablas no es la adecuada para su lectura. Para ello, se hace un formateo del fichero a través de el script treatCSV (../scripts/treatCSV.py), que modifica su estructura creando un nuevo archivo csv, haciendola más manejable, como se puede ver en ../data/2016_1scclean.csv.\n",
    "\n",
    "### Carga de los datos\n",
    "\n",
    "Una vez se han tratado los datos descargados, ya los podemos caragar en DataFrames de pandas"
   ],
   "cell_type": "markdown",
   "metadata": {}
  },
  {
   "cell_type": "code",
   "execution_count": 8,
   "metadata": {},
   "outputs": [],
   "source": [
    "\n",
    "\n",
    "df_2016_1 = pd.read_csv('../data/2016_1scclean.csv', sep=\";\")\n",
    "df_2016_2 = pd.read_csv('../data/2016_2scclean.csv', sep=\";\")\n",
    "df_2016_3 = pd.read_csv('../data/2016_3scclean.csv', sep=\";\")\n",
    "df_2016_4 = pd.read_csv('../data/2016_4scclean.csv', sep=\";\")\n",
    "\n",
    "df_2017_1 = pd.read_csv('../data/2017_1scclean.csv', sep=\";\")\n",
    "df_2017_2 = pd.read_csv('../data/2017_2scclean.csv', sep=\";\")\n",
    "df_2017_3 = pd.read_csv('../data/2017_3scclean.csv', sep=\";\")\n",
    "df_2017_4 = pd.read_csv('../data/2017_4scclean.csv', sep=\";\")\n",
    "\n",
    "df_2018_1 = pd.read_csv('../data/2018_1scclean.csv', sep=\";\")\n",
    "df_2018_2 = pd.read_csv('../data/2018_2scclean.csv', sep=\";\")\n",
    "df_2018_3 = pd.read_csv('../data/2018_3scclean.csv', sep=\";\")\n",
    "df_2018_4 = pd.read_csv('../data/2018_4scclean.csv', sep=\";\")\n",
    "\n",
    "df_2019_1 = pd.read_csv('../data/2019_1scclean.csv', sep=\";\")\n",
    "df_2019_2 = pd.read_csv('../data/2019_2scclean.csv', sep=\";\")\n",
    "df_2019_3 = pd.read_csv('../data/2019_3scclean.csv', sep=\";\")\n",
    "df_2019_4 = pd.read_csv('../data/2019_4scclean.csv', sep=\";\")\n",
    "\n",
    "df_2020_1 = pd.read_csv('../data/2020_1scclean.csv', sep=\";\")\n",
    "df_2020_2 = pd.read_csv('../data/2020_2scclean.csv', sep=\";\")\n",
    "df_2020_3 = pd.read_csv('../data/2020_3scclean.csv', sep=\";\")\n",
    "df_2020_4 = pd.read_csv('../data/2020_4scclean.csv', sep=\";\")\n",
    "\n",
    "df_lista =[df_2016_1, df_2016_2, df_2016_3, df_2016_4,\n",
    "            df_2017_1, df_2017_2, df_2017_3, df_2017_4,\n",
    "            df_2018_1, df_2018_2, df_2018_3, df_2018_4,\n",
    "            df_2019_1, df_2019_2, df_2019_3, df_2019_4,\n",
    "            df_2020_1, df_2020_2, df_2020_3, df_2020_4]"
   ]
  },
  {
   "source": [
    "Compruebo que los campos están limpios y que más o menos siguen un patrón en su estructura."
   ],
   "cell_type": "markdown",
   "metadata": {}
  },
  {
   "cell_type": "code",
   "execution_count": 9,
   "metadata": {},
   "outputs": [
    {
     "output_type": "stream",
     "name": "stdout",
     "text": [
      "<class 'pandas.core.frame.DataFrame'>\nRangeIndex: 1768 entries, 0 to 1767\nData columns (total 9 columns):\n #   Column                 Non-Null Count  Dtype  \n---  ------                 --------------  -----  \n 0   Comunidad              1768 non-null   object \n 1   Provincia              1288 non-null   object \n 2   Municipio              1520 non-null   object \n 3   code                   1768 non-null   int64  \n 4   Delito                 1768 non-null   object \n 5   Enero-marzo 2015       1768 non-null   float64\n 6   Enero-marzo 2016       1768 non-null   float64\n 7   Variación % 2016/2015  1768 non-null   float64\n 8   Unnamed: 8             0 non-null      float64\ndtypes: float64(4), int64(1), object(4)\nmemory usage: 124.4+ KB\n<class 'pandas.core.frame.DataFrame'>\nRangeIndex: 1768 entries, 0 to 1767\nData columns (total 9 columns):\n #   Column                 Non-Null Count  Dtype  \n---  ------                 --------------  -----  \n 0   Comunidad              1768 non-null   object \n 1   Provincia              1288 non-null   object \n 2   Municipio              1520 non-null   object \n 3   code                   1768 non-null   int64  \n 4   Delito                 1768 non-null   object \n 5   Enero-junio 2015       1768 non-null   float64\n 6   Enero-junio 2016       1768 non-null   float64\n 7   Variación % 2016/2015  1768 non-null   float64\n 8   Unnamed: 8             0 non-null      float64\ndtypes: float64(4), int64(1), object(4)\nmemory usage: 124.4+ KB\n<class 'pandas.core.frame.DataFrame'>\nRangeIndex: 1768 entries, 0 to 1767\nData columns (total 9 columns):\n #   Column                 Non-Null Count  Dtype  \n---  ------                 --------------  -----  \n 0   Comunidad              1768 non-null   object \n 1   Provincia              1288 non-null   object \n 2   Municipio              1520 non-null   object \n 3   code                   1768 non-null   int64  \n 4   Delito                 1768 non-null   object \n 5   Enero-Septiembre 2015  1768 non-null   float64\n 6   Enero-Septiembre 2016  1768 non-null   float64\n 7   Variación % 2016/2015  1768 non-null   float64\n 8   Unnamed: 8             0 non-null      float64\ndtypes: float64(4), int64(1), object(4)\nmemory usage: 124.4+ KB\n<class 'pandas.core.frame.DataFrame'>\nRangeIndex: 1768 entries, 0 to 1767\nData columns (total 9 columns):\n #   Column                 Non-Null Count  Dtype  \n---  ------                 --------------  -----  \n 0   Comunidad              1768 non-null   object \n 1   Provincia              1288 non-null   object \n 2   Municipio              1520 non-null   object \n 3   code                   1768 non-null   int64  \n 4   Delito                 1768 non-null   object \n 5   Enero-Diciembre 2015   1768 non-null   float64\n 6   Enero-Diciembre 2016   1768 non-null   float64\n 7   Variación % 2016/2015  1768 non-null   float64\n 8   Unnamed: 8             0 non-null      float64\ndtypes: float64(4), int64(1), object(4)\nmemory usage: 124.4+ KB\n<class 'pandas.core.frame.DataFrame'>\nRangeIndex: 4173 entries, 0 to 4172\nData columns (total 9 columns):\n #   Column                 Non-Null Count  Dtype  \n---  ------                 --------------  -----  \n 0   Comunidad              4173 non-null   object \n 1   Provincia              3081 non-null   object \n 2   Municipio              3770 non-null   object \n 3   code                   4173 non-null   object \n 4   Delito                 4173 non-null   object \n 5   Enero-marzo 2016       4173 non-null   float64\n 6   Enero-marzo 2017       4173 non-null   float64\n 7   Variación % 2017/2016  4173 non-null   float64\n 8   Unnamed: 8             0 non-null      float64\ndtypes: float64(4), object(5)\nmemory usage: 293.5+ KB\n<class 'pandas.core.frame.DataFrame'>\nRangeIndex: 4173 entries, 0 to 4172\nData columns (total 9 columns):\n #   Column                 Non-Null Count  Dtype  \n---  ------                 --------------  -----  \n 0   Comunidad              4173 non-null   object \n 1   Provincia              3081 non-null   object \n 2   Municipio              3770 non-null   object \n 3   code                   4173 non-null   object \n 4   Delito                 4173 non-null   object \n 5   Enero-junio 2016       4173 non-null   float64\n 6   Enero-junio 2017       4173 non-null   float64\n 7   Variación % 2017/2016  4173 non-null   float64\n 8   Unnamed: 8             0 non-null      float64\ndtypes: float64(4), object(5)\nmemory usage: 293.5+ KB\n<class 'pandas.core.frame.DataFrame'>\nRangeIndex: 4173 entries, 0 to 4172\nData columns (total 9 columns):\n #   Column                 Non-Null Count  Dtype  \n---  ------                 --------------  -----  \n 0   Comunidad              4173 non-null   object \n 1   Provincia              3081 non-null   object \n 2   Municipio              3770 non-null   object \n 3   code                   4173 non-null   object \n 4   Delito                 4173 non-null   object \n 5   Enero-septiembre 2016  4173 non-null   float64\n 6   Enero-septiembre 2017  4173 non-null   float64\n 7   Variación % 2017/2016  4173 non-null   float64\n 8   Unnamed: 8             0 non-null      float64\ndtypes: float64(4), object(5)\nmemory usage: 293.5+ KB\n<class 'pandas.core.frame.DataFrame'>\nRangeIndex: 4199 entries, 0 to 4198\nData columns (total 9 columns):\n #   Column                 Non-Null Count  Dtype  \n---  ------                 --------------  -----  \n 0   Comunidad              4199 non-null   object \n 1   Provincia              3107 non-null   object \n 2   Municipio              3796 non-null   object \n 3   code                   4199 non-null   object \n 4   Delito                 4199 non-null   object \n 5   Enero-diciembre 2016   4199 non-null   float64\n 6   Enero-diciembre 2017   4199 non-null   float64\n 7   Variación % 2017/2016  4199 non-null   float64\n 8   Unnamed: 8             0 non-null      float64\ndtypes: float64(4), object(5)\nmemory usage: 295.4+ KB\n<class 'pandas.core.frame.DataFrame'>\nRangeIndex: 4199 entries, 0 to 4198\nData columns (total 9 columns):\n #   Column                 Non-Null Count  Dtype  \n---  ------                 --------------  -----  \n 0   Comunidad              4199 non-null   object \n 1   Provincia              3107 non-null   object \n 2   Municipio              3796 non-null   object \n 3   code                   4199 non-null   object \n 4   Delito                 4199 non-null   object \n 5   Enero-marzo 2017       4199 non-null   float64\n 6   Enero-marzo 2018       4199 non-null   float64\n 7   Variación % 2018/2017  4199 non-null   float64\n 8   Unnamed: 8             0 non-null      float64\ndtypes: float64(4), object(5)\nmemory usage: 295.4+ KB\n<class 'pandas.core.frame.DataFrame'>\nRangeIndex: 4199 entries, 0 to 4198\nData columns (total 9 columns):\n #   Column                 Non-Null Count  Dtype  \n---  ------                 --------------  -----  \n 0   Comunidad              4199 non-null   object \n 1   Provincia              3107 non-null   object \n 2   Municipio              3796 non-null   object \n 3   code                   4199 non-null   object \n 4   Delito                 4199 non-null   object \n 5   Enero-junio 2017       4199 non-null   float64\n 6   Enero-junio 2018       4199 non-null   float64\n 7   Variación % 2018/2017  4199 non-null   float64\n 8   Unnamed: 8             0 non-null      float64\ndtypes: float64(4), object(5)\nmemory usage: 295.4+ KB\n<class 'pandas.core.frame.DataFrame'>\nRangeIndex: 4199 entries, 0 to 4198\nData columns (total 9 columns):\n #   Column                 Non-Null Count  Dtype  \n---  ------                 --------------  -----  \n 0   Comunidad              4199 non-null   object \n 1   Provincia              3107 non-null   object \n 2   Municipio              3796 non-null   object \n 3   code                   4199 non-null   object \n 4   Delito                 4199 non-null   object \n 5   Enero-septiembre 2017  4199 non-null   float64\n 6   Enero-septiembre 2018  4199 non-null   float64\n 7   Variación % 2018/2017  4199 non-null   float64\n 8   Unnamed: 8             0 non-null      float64\ndtypes: float64(4), object(5)\nmemory usage: 295.4+ KB\n<class 'pandas.core.frame.DataFrame'>\nRangeIndex: 4522 entries, 0 to 4521\nData columns (total 9 columns):\n #   Column                 Non-Null Count  Dtype  \n---  ------                 --------------  -----  \n 0   Comunidad              4522 non-null   object \n 1   Provincia              3346 non-null   object \n 2   Municipio              4088 non-null   object \n 3   code                   4522 non-null   object \n 4   Delito                 4522 non-null   object \n 5   Enero-diciembre 2017   4522 non-null   float64\n 6   Enero-diciembre 2018   4522 non-null   float64\n 7   Variación % 2018/2017  4522 non-null   float64\n 8   Unnamed: 8             0 non-null      float64\ndtypes: float64(4), object(5)\nmemory usage: 318.1+ KB\n<class 'pandas.core.frame.DataFrame'>\nRangeIndex: 4592 entries, 0 to 4591\nData columns (total 9 columns):\n #   Column                 Non-Null Count  Dtype  \n---  ------                 --------------  -----  \n 0   Comunidad              4592 non-null   object \n 1   Provincia              3402 non-null   object \n 2   Municipio              4158 non-null   object \n 3   code                   4592 non-null   object \n 4   Delito                 4592 non-null   object \n 5   Enero-marzo 2018       4592 non-null   float64\n 6   Enero-marzo 2019       4592 non-null   float64\n 7   Variación % 2019/2018  4592 non-null   float64\n 8   Unnamed: 8             0 non-null      float64\ndtypes: float64(4), object(5)\nmemory usage: 323.0+ KB\n<class 'pandas.core.frame.DataFrame'>\nRangeIndex: 4592 entries, 0 to 4591\nData columns (total 9 columns):\n #   Column                 Non-Null Count  Dtype  \n---  ------                 --------------  -----  \n 0   Comunidad              4592 non-null   object \n 1   Provincia              3402 non-null   object \n 2   Municipio              4158 non-null   object \n 3   code                   4592 non-null   object \n 4   Delito                 4592 non-null   object \n 5   Enero-junio 2018       4592 non-null   float64\n 6   Enero-junio 2019       4592 non-null   float64\n 7   Variación % 2019/2018  4592 non-null   float64\n 8   Unnamed: 8             0 non-null      float64\ndtypes: float64(4), object(5)\nmemory usage: 323.0+ KB\n<class 'pandas.core.frame.DataFrame'>\nRangeIndex: 4592 entries, 0 to 4591\nData columns (total 9 columns):\n #   Column                 Non-Null Count  Dtype  \n---  ------                 --------------  -----  \n 0   Comunidad              4592 non-null   object \n 1   Provincia              3402 non-null   object \n 2   Municipio              4158 non-null   object \n 3   code                   4592 non-null   object \n 4   Delito                 4592 non-null   object \n 5   Enero-septiembre 2018  4592 non-null   float64\n 6   Enero-septiembre 2019  4592 non-null   float64\n 7   Variación % 2019/2018  4592 non-null   float64\n 8   Unnamed: 8             0 non-null      float64\ndtypes: float64(4), object(5)\nmemory usage: 323.0+ KB\n<class 'pandas.core.frame.DataFrame'>\nRangeIndex: 4592 entries, 0 to 4591\nData columns (total 9 columns):\n #   Column                 Non-Null Count  Dtype  \n---  ------                 --------------  -----  \n 0   Comunidad              4592 non-null   object \n 1   Provincia              3402 non-null   object \n 2   Municipio              4158 non-null   object \n 3   code                   4592 non-null   object \n 4   Delito                 4592 non-null   object \n 5   Enero-diciembre 2018   4592 non-null   float64\n 6   Enero-diciembre 2019   4592 non-null   float64\n 7   Variación % 2019/2018  4592 non-null   float64\n 8   Unnamed: 8             0 non-null      float64\ndtypes: float64(4), object(5)\nmemory usage: 323.0+ KB\n<class 'pandas.core.frame.DataFrame'>\nRangeIndex: 4592 entries, 0 to 4591\nData columns (total 9 columns):\n #   Column                 Non-Null Count  Dtype  \n---  ------                 --------------  -----  \n 0   Comunidad              4592 non-null   object \n 1   Provincia              3402 non-null   object \n 2   Municipio              4158 non-null   object \n 3   code                   4592 non-null   object \n 4   Delito                 4592 non-null   object \n 5   Enero-marzo 2019       4592 non-null   float64\n 6   Enero-marzo 2020       4592 non-null   float64\n 7   Variación % 2020/2019  4592 non-null   float64\n 8   Unnamed: 8             0 non-null      float64\ndtypes: float64(4), object(5)\nmemory usage: 323.0+ KB\n<class 'pandas.core.frame.DataFrame'>\nRangeIndex: 4592 entries, 0 to 4591\nData columns (total 9 columns):\n #   Column                 Non-Null Count  Dtype  \n---  ------                 --------------  -----  \n 0   Comunidad              4592 non-null   object \n 1   Provincia              3402 non-null   object \n 2   Municipio              4158 non-null   object \n 3   code                   4592 non-null   object \n 4   Delito                 4592 non-null   object \n 5   Enero-junio 2019       4592 non-null   float64\n 6   Enero-junio 2020       4592 non-null   float64\n 7   Variación % 2020/2019  4592 non-null   float64\n 8   Unnamed: 8             0 non-null      float64\ndtypes: float64(4), object(5)\nmemory usage: 323.0+ KB\n<class 'pandas.core.frame.DataFrame'>\nRangeIndex: 4592 entries, 0 to 4591\nData columns (total 9 columns):\n #   Column                 Non-Null Count  Dtype  \n---  ------                 --------------  -----  \n 0   Comunidad              4592 non-null   object \n 1   Provincia              3402 non-null   object \n 2   Municipio              4158 non-null   object \n 3   code                   4592 non-null   object \n 4   Delito                 4592 non-null   object \n 5   Enero-septiembre 2019  4592 non-null   float64\n 6   Enero-septiembre 2020  4592 non-null   float64\n 7   Variación % 2020/2019  4592 non-null   float64\n 8   Unnamed: 8             0 non-null      float64\ndtypes: float64(4), object(5)\nmemory usage: 323.0+ KB\n<class 'pandas.core.frame.DataFrame'>\nRangeIndex: 4592 entries, 0 to 4591\nData columns (total 9 columns):\n #   Column                 Non-Null Count  Dtype  \n---  ------                 --------------  -----  \n 0   Comunidad              4592 non-null   object \n 1   Provincia              3402 non-null   object \n 2   Municipio              4158 non-null   object \n 3   code                   4592 non-null   object \n 4   Delito                 4592 non-null   object \n 5   Enero-diciembre 2019   4592 non-null   float64\n 6   Enero-diciembre 2020   4592 non-null   float64\n 7   Variación % 2020/2019  4592 non-null   float64\n 8   Unnamed: 8             0 non-null      float64\ndtypes: float64(4), object(5)\nmemory usage: 323.0+ KB\n"
     ]
    }
   ],
   "source": [
    "for df in df_lista:\n",
    "    df.info()"
   ]
  },
  {
   "source": [
    "El número de registros va creciendo cuando cambiamos de año, compruebo las comunidades de cada archivo"
   ],
   "cell_type": "markdown",
   "metadata": {}
  },
  {
   "cell_type": "code",
   "execution_count": 12,
   "metadata": {},
   "outputs": [
    {
     "output_type": "stream",
     "name": "stdout",
     "text": [
      "21\n21\n21\n21\n21\n21\n21\n21\n21\n21\n21\n21\n21\n21\n21\n21\n21\n21\n21\n21\n"
     ]
    }
   ],
   "source": [
    "for df in df_lista:\n",
    "    print(len(df.groupby('Comunidad').Comunidad))"
   ]
  },
  {
   "source": [
    "Compruebo el número de provincias"
   ],
   "cell_type": "markdown",
   "metadata": {}
  },
  {
   "cell_type": "code",
   "execution_count": 13,
   "metadata": {},
   "outputs": [
    {
     "output_type": "stream",
     "name": "stdout",
     "text": [
      "43\n43\n43\n43\n43\n43\n43\n43\n43\n43\n43\n43\n43\n43\n43\n43\n43\n43\n43\n43\n"
     ]
    }
   ],
   "source": [
    "for df in df_lista:\n",
    "    print(len(df.groupby('Provincia').Provincia))"
   ]
  },
  {
   "source": [
    "Compruebo el número de municipios"
   ],
   "cell_type": "markdown",
   "metadata": {}
  },
  {
   "cell_type": "code",
   "execution_count": 14,
   "metadata": {},
   "outputs": [
    {
     "output_type": "stream",
     "name": "stdout",
     "text": [
      "157\n157\n157\n157\n257\n257\n257\n259\n259\n259\n259\n259\n264\n264\n264\n264\n264\n264\n264\n264\n"
     ]
    }
   ],
   "source": [
    "for df in df_lista:\n",
    "    print(len(df.groupby('Municipio').Municipio))"
   ]
  },
  {
   "source": [
    "Parece que del primer dataset al segundo hay un aumento de 100 municipios justos, es muy raro"
   ],
   "cell_type": "markdown",
   "metadata": {}
  },
  {
   "cell_type": "code",
   "execution_count": 16,
   "metadata": {},
   "outputs": [
    {
     "output_type": "stream",
     "name": "stdout",
     "text": [
      "8\n8\n8\n8\n13\n13\n13\n13\n13\n13\n13\n13\n13\n13\n13\n13\n13\n13\n13\n13\n"
     ]
    }
   ],
   "source": [
    "for df in df_lista:\n",
    "    print(len(df.groupby('code').code))"
   ]
  },
  {
   "source": [
    "Respecto a la tipología de delito, hay un aumento al desglosar delitos"
   ],
   "cell_type": "markdown",
   "metadata": {}
  },
  {
   "cell_type": "code",
   "execution_count": 31,
   "metadata": {},
   "outputs": [
    {
     "output_type": "execute_result",
     "data": {
      "text/plain": [
       "Empty DataFrame\n",
       "Columns: [Comunidad, Provincia, Municipio, code, Delito, Enero-junio 2019, Enero-junio 2020, Variación % 2020/2019, Unnamed: 8]\n",
       "Index: []"
      ],
      "text/html": "<div>\n<style scoped>\n    .dataframe tbody tr th:only-of-type {\n        vertical-align: middle;\n    }\n\n    .dataframe tbody tr th {\n        vertical-align: top;\n    }\n\n    .dataframe thead th {\n        text-align: right;\n    }\n</style>\n<table border=\"1\" class=\"dataframe\">\n  <thead>\n    <tr style=\"text-align: right;\">\n      <th></th>\n      <th>Comunidad</th>\n      <th>Provincia</th>\n      <th>Municipio</th>\n      <th>code</th>\n      <th>Delito</th>\n      <th>Enero-junio 2019</th>\n      <th>Enero-junio 2020</th>\n      <th>Variación % 2020/2019</th>\n      <th>Unnamed: 8</th>\n    </tr>\n  </thead>\n  <tbody>\n  </tbody>\n</table>\n</div>"
     },
     "metadata": {},
     "execution_count": 31
    }
   ],
   "source": [
    "df_2020_2[df_2020_1.Delito.str.contains('establecimientos')]"
   ]
  },
  {
   "cell_type": "code",
   "execution_count": null,
   "metadata": {},
   "outputs": [],
   "source": []
  }
 ]
}